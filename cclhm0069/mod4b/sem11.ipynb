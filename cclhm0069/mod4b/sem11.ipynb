{
 "cells": [
  {
   "cell_type": "markdown",
   "metadata": {},
   "source": [
    "# Semana 11\n",
    "\n",
    "**Período**: 10/01/2022 a 14/01/2022\n",
    "\n",
    "**CH**: 2h"
   ]
  },
  {
   "cell_type": "markdown",
   "metadata": {},
   "source": [
    "| Tipo          | [Atividade Assíncrona 5 (AA)](https://ericbrasiln.github.io/intro-historia-digital/mod4b/sem11.html#atividade-assíncrona-5-aa)|\n",
    "| ------------- | -------------------------------------------- |\n",
    "| Data e hora | 31/01/2022 a 04/02/2022 |\n",
    "| Carga Horária | 2h |\n",
    "| Descrição | Vídeos de apoio e tutoriais de Python e preparação do ambiente para as aulas seguintes. |\n",
    "\n",
    "[**Link para a página da semana**](https://ericbrasiln.github.io/intro-historia-digital/mod4b/sem11.html#semana-11)"
   ]
  }
 ],
 "metadata": {
  "language_info": {
   "name": "python"
  }
 },
 "nbformat": 4,
 "nbformat_minor": 2
}
