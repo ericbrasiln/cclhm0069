{
 "cells": [
  {
   "cell_type": "markdown",
   "metadata": {},
   "source": [
    "# Semana 11\n",
    "\n",
    "**Período**: 10/01/2022 a 14/01/2022\n",
    "\n",
    "**CH**: 2h"
   ]
  },
  {
   "cell_type": "markdown",
   "metadata": {},
   "source": [
    "| Tipo          | [Atividade Assíncrona 4 (AA)](https://ericbrasiln.github.io/intro-historia-digital/mod4a/sem11.html#atividade-assíncrona-4-aa)|\n",
    "| ------------- | -------------------------------------------- |\n",
    "| Data e hora | 10/01/2022 a 14/01/2022 |\n",
    "| Carga Horária | 2h |\n",
    "| Descrição | Tutorial 01: Markdown |"
   ]
  }
 ],
 "metadata": {
  "language_info": {
   "name": "python"
  }
 },
 "nbformat": 4,
 "nbformat_minor": 2
}
