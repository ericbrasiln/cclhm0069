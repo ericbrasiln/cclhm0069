{
 "cells": [
  {
   "cell_type": "markdown",
   "metadata": {},
   "source": [
    "# Semana 11\n",
    "\n",
    "## Módulo 4a: Ferramentas digitais e o ensino de história\n",
    "\n",
    "**Período**: 10/01/2022 a 14/01/2022\n",
    "\n",
    "**CH**: 2h"
   ]
  },
  {
   "cell_type": "markdown",
   "metadata": {},
   "source": [
    "### Atividade Assíncrona 5 (AA)\n",
    "\n",
    "Tutorial 01: **Uma introdução ao Markdown e suas possibilidades no ensino e divulgação científica**"
   ]
  },
  {
   "cell_type": "markdown",
   "metadata": {},
   "source": [
    "<iframe width=\"560\" height=\"315\" src=\"https://www.youtube.com/embed/TtnATYla2gE\" title=\"YouTube video player\" frameborder=\"0\" allow=\"accelerometer; autoplay; clipboard-write; encrypted-media; gyroscope; picture-in-picture\" allowfullscreen></iframe>"
   ]
  },
  {
   "cell_type": "markdown",
   "metadata": {},
   "source": [
    "#### Material de Apoio\n",
    "\n",
    "Nesse [link](https://ericbrasiln.github.io/minicurso_MD/) você encontra o material utilizado no vídeo acima."
   ]
  }
 ],
 "metadata": {
  "language_info": {
   "name": "python"
  }
 },
 "nbformat": 4,
 "nbformat_minor": 2
}
