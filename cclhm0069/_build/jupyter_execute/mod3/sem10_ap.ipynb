{
 "cells": [
  {
   "cell_type": "markdown",
   "metadata": {},
   "source": [
    "# Algoritmos, dataficação da sociedade e o ofício de Historiadores/as: desigualdade, racismo e violências\n",
    "\n",
    "<small>Material para o Encontro Virtual 6, 14/12/2021, referente à [semana 10 do curso](https://ericbrasiln.github.io/intro-historia-digital/mod3/sem10.html#)</small>"
   ]
  },
  {
   "cell_type": "markdown",
   "metadata": {},
   "source": [
    "O objetivo desse encontro virtual é discutir a relação entre os algortimos e a dataficação da vida social com a pesquisa e ensino de história no presente e futuro.\n",
    "\n",
    "Para tanto vamos discutir os seguintes textos:\n",
    "\n",
    "1. [O'NEIL, CATHY. Componentes da bomba. O que é um modelo? In: **Algoritmos de Destruição em massa**. São Paulo: Editora Rua do Sabão, 2020. pp. 25-50](https://github.com/ericbrasiln/intro-historia-digital/blob/bc111c29d3ec6f35221358f5c4af6edcebef524d/cclhm0069/biblio/oneil.pdf)\n",
    "2. [NOBLE, Safiya Umoja. Introdução. In: **Algoritmos da opressão**. São Paulo: Editora Rua do Sabão, 2021. pp. 7-28](https://github.com/ericbrasiln/intro-historia-digital/blob/bc111c29d3ec6f35221358f5c4af6edcebef524d/cclhm0069/biblio/noble.pdf)"
   ]
  },
  {
   "cell_type": "markdown",
   "metadata": {},
   "source": [
    "## E esse tal de _algoritmo_?\n",
    "\n",
    "![math](https://raw.githubusercontent.com/ericbrasiln/ferramentas_digitais_UNILAB/master/docs/gifs/math.gif)\n"
   ]
  },
  {
   "cell_type": "markdown",
   "metadata": {},
   "source": [
    "Um conjunto de ações lógicas para realizar uma determinada tarefa. O algoritmo (escrito por um humano) informa ao computador que passos ele deve tomar e em que ordem isso deve ser feito.\n",
    "\n",
    "Essa lista de procedimentos é executada passo a passo até completar a ação esperada.\n",
    "\n",
    "Os passos lógicos são encadeados, por exemplo:\n"
   ]
  },
  {
   "cell_type": "markdown",
   "metadata": {},
   "source": [
    "`Se` tal coisa acontecer, então faça o passo 1, `senão` faça o passo 2.\n",
    "\n",
    "~~~\n",
    "if\n",
    "else\n",
    "~~~\n"
   ]
  },
  {
   "cell_type": "markdown",
   "metadata": {},
   "source": [
    "`Enquanto` tal coisa estiver acontecendo, continue com a ação.\n",
    "\n",
    "~~~\n",
    "while == True\n",
    "~~~\n"
   ]
  },
  {
   "cell_type": "markdown",
   "metadata": {},
   "source": [
    "`Tente` executar esse passo, se não funcionar, realize a `exceção` tal.\n",
    "\n",
    "~~~\n",
    "try:\n",
    "except:\n",
    "~~~\n"
   ]
  },
  {
   "cell_type": "markdown",
   "metadata": {},
   "source": [
    "![waze](https://raw.githubusercontent.com/ericbrasiln/ferramentas_digitais_UNILAB/master/docs/gifs/waze.gif)\n"
   ]
  },
  {
   "cell_type": "markdown",
   "metadata": {},
   "source": [
    "~~~\n",
    "se \"o carro passar de 65 km/h\":\n",
    "    mostrar alerta de velocidade\n",
    "senão:\n",
    "    não mostrar nada\n",
    "~~~\n",
    "\n",
    "Ou ainda:\n",
    "~~~\n",
    "se \"a rua estiver engarrafada\":\n",
    "    \"calcule nova rota mais curta por outra rua\"\n",
    "    \"mostre a nova rota\"\n",
    "    \"informe a direção\"\n",
    "senão:\n",
    "    \"manter a mesma rota\"\n",
    "~~~\n"
   ]
  },
  {
   "cell_type": "code",
   "execution_count": null,
   "metadata": {},
   "outputs": [],
   "source": [
    "meu_nome = str(input('Qual é o seu nome? '))\n",
    "\n",
    "if meu_nome == 'Eric':\n",
    "    print('Que nome bonito!')\n",
    "else:\n",
    "    print('Seu nome é tão normal!')"
   ]
  },
  {
   "cell_type": "code",
   "execution_count": null,
   "metadata": {},
   "outputs": [],
   "source": [
    "idade = int(input('Qual a sua idade? '))\n",
    "\n",
    "if idade < 16:\n",
    "    print('Você é tão jovem. Ainda não pode votar!')\n",
    "elif idade >= 16 and idade <18:\n",
    "    print('Nessa idade você tem a opção de votar.Já tirou o título de eleitor?')\n",
    "elif idade >= 18 and idade < 65:\n",
    "    print('Na sua idade o voto é obrigatório!')\n",
    "else:\n",
    "    print('Nessa idade o voto é facultativo!')\n"
   ]
  },
  {
   "cell_type": "markdown",
   "metadata": {},
   "source": [
    "## Algoritmos em tudo?\n",
    "\n",
    "<div class=\"center\">\n",
    "\n",
    "<blockquote class=\"twitter-tweet\"><p lang=\"en\" dir=\"ltr\">Trying a horrible experiment...<br><br>Which will the Twitter algorithm pick: Mitch McConnell or Barack Obama? <a href=\"https://t.co/bR1GRyCkia\">pic.twitter.com/bR1GRyCkia</a></p>&mdash; Tony “Abolish (Pol)ICE” Arcieri 🦀 (@bascule) <a href=\"https://twitter.com/bascule/status/1307440596668182528?ref_src=twsrc%5Etfw\">September 19, 2020</a></blockquote>\n",
    "<script async src=\"https://platform.twitter.com/widgets.js\" charset=\"utf-8\"></script>\n",
    "\n",
    "</div>"
   ]
  },
  {
   "cell_type": "markdown",
   "metadata": {},
   "source": [
    "![tweet](https://github.com/ericbrasiln/intro-historia-digital/blob/945a2f6528af55f0f18c59e57afcfb93566e464a/cclhm0069/images/tweet_race.jpeg?raw=true)"
   ]
  },
  {
   "cell_type": "markdown",
   "metadata": {},
   "source": [
    "## Dataficação das relações sociais"
   ]
  },
  {
   "cell_type": "markdown",
   "metadata": {},
   "source": [
    "Quais impactos para a pesquisa histórica?"
   ]
  },
  {
   "cell_type": "markdown",
   "metadata": {},
   "source": [
    "## A opressão dos algoritmos - Debate dos textos"
   ]
  },
  {
   "cell_type": "markdown",
   "metadata": {},
   "source": [
    "### Cathy O'Neil e os componentes da bomba\n",
    "\n",
    "#### O que é um modelo?\n",
    "\n",
    "- O que é um modelo?\n",
    "- O exemplo do beisebol\n",
    "- O exemplo da alimentação de uma família (31-33)\n",
    "- Modelo é uma simplificação (33-35)\n",
    "- Sucesso? (35)\n",
    "- Racismo como modelo? (37)\n",
    "- Modelos de Reincidência e o sistema penitenciário e judiciário nos EUA (40 - 44)\n",
    "  - Retroalimentação (44)  "
   ]
  },
  {
   "cell_type": "markdown",
   "metadata": {},
   "source": [
    "#### Taxonomia de ADM (Algoritmos de Destruição em Massa)\n",
    "\n",
    "1. O modelo é opaco ou invisível?\n",
    "2. É injusto? Destrói vidas?\n",
    "3. Ganha escala?\n",
    "\n",
    "OPACIDADE + ESCALA + DANO = ADM"
   ]
  },
  {
   "cell_type": "markdown",
   "metadata": {},
   "source": [
    "### Noble e a opressão dos algoritmos"
   ]
  },
  {
   "cell_type": "markdown",
   "metadata": {},
   "source": [
    "- Objetivos do livro: acadêmico e político\n",
    "- O caso das \"meninas negras\" no Google\n",
    "- \"Racismo é a API fundamental da internet\" (14)"
   ]
  },
  {
   "cell_type": "markdown",
   "metadata": {},
   "source": [
    "#### Google Search\n",
    "\n",
    "- Empresa de publicidade;\n",
    "- Implicações das tomadas de decisões algoritmicas (15);\n",
    "- São erros? \n",
    "- Quais impactos dos vieses racistas e sexistas nesses algoritmos para a sociedade?"
   ]
  }
 ],
 "metadata": {
  "interpreter": {
   "hash": "916dbcbb3f70747c44a77c7bcd40155683ae19c65e1c03b4aa3499c5328201f1"
  },
  "kernelspec": {
   "display_name": "Python 3.9.5 64-bit",
   "language": "python",
   "name": "python3"
  },
  "language_info": {
   "codemirror_mode": {
    "name": "ipython",
    "version": 3
   },
   "file_extension": ".py",
   "mimetype": "text/x-python",
   "name": "python",
   "nbconvert_exporter": "python",
   "pygments_lexer": "ipython3",
   "version": "3.9.5"
  }
 },
 "nbformat": 4,
 "nbformat_minor": 2
}