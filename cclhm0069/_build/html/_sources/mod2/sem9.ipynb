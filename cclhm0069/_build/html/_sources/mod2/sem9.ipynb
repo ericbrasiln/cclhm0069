{
 "cells": [
  {
   "cell_type": "markdown",
   "metadata": {},
   "source": [
    "# Semana 9\n",
    "\n",
    "**Período**: 06/12/2021 a 10/12/2021\n",
    "\n",
    "**CH**: 4h"
   ]
  },
  {
   "cell_type": "markdown",
   "metadata": {},
   "source": [
    "## Encontro Virtual 5 (AS)\n",
    "\n",
    "**Tema**: Workshop: Análise de texto com Voyant Tools\n",
    "\n",
    "**Data**: 08/12/2021, às 19h\n",
    "\n",
    "**CH**: 2h30min\n",
    "\n",
    "**Plataforma**: `Google Meet` - link enviado por e-mail.\n",
    "\n",
    "```{Attention}\n",
    "[_Clique aqui para acessar a apresentação da aula_](https://ericbrasiln.github.io/intro-historia-digital/mod2/sem9_ap.html).\n",
    "```"
   ]
  },
  {
   "cell_type": "markdown",
   "metadata": {},
   "source": [
    "## Leitura 4\n",
    "\n",
    "```{attention}\n",
    "Essa leitura será debatida no Encontro Virtual 6, no dia 14/12/2021.\n",
    "```\n",
    "\n",
    "**CH**: 3 horas\n",
    "\n",
    "**Textos Obrigatórios**: \n",
    "\n",
    "1. [O'NEIL, CATHY. Componentes da bomba. O que é um modelo? In: **Algoritmos de Destruição em massa**. São Paulo: Editora Rua do Sabão, 2020. pp. 25-50](http://u.pc.cd/jIUctalK)\n",
    "2. [NOBLE, Safiya Umoja. Introdução. In: **Algoritmos da opressão**. São Paulo: Editora Rua do Sabão, 2021. pp. 7-28](http://u.pc.cd/QHsrtalK)"
   ]
  }
 ],
 "metadata": {
  "language_info": {
   "name": "python"
  }
 },
 "nbformat": 4,
 "nbformat_minor": 2
}
