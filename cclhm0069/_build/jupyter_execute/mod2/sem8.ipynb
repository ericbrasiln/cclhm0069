{
 "cells": [
  {
   "cell_type": "markdown",
   "metadata": {},
   "source": [
    "# Semana 8\n",
    "\n",
    "**Período**: 29/11/2021 a 03/12/2021\n",
    "\n",
    "**CH**: 2h30"
   ]
  },
  {
   "cell_type": "markdown",
   "metadata": {},
   "source": [
    "## Atividade Assíncrona 4 (AS)\n",
    "\n",
    "**Tema**: Vídeo de apoio: Workshop de TagTog\n",
    "\n",
    "**Data**: 29/11/2021 a 03/12/2021\n",
    "\n",
    "**CH**: 2h30min\n",
    "\n",
    "**Plataforma**: `YouTube`. Link: [https://youtu.be/KiabBiM9JLY](https://youtu.be/KiabBiM9JLY)\n"
   ]
  }
 ],
 "metadata": {
  "language_info": {
   "name": "python"
  }
 },
 "nbformat": 4,
 "nbformat_minor": 2
}