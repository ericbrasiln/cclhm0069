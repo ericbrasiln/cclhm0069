{
 "cells": [
  {
   "cell_type": "markdown",
   "metadata": {},
   "source": [
    "# Passado, futuro e presente do digital na História: Fontes, método e análise\n",
    "\n",
    "<small>Material para o Encontro Virtual 2, 03/11/2021</small>"
   ]
  },
  {
   "cell_type": "markdown",
   "metadata": {},
   "source": [
    "Nessa aula vamos debater acerca dos elementos constitutivos da disciplina História e sua relação com as transformações e continuidades na era digital.\n",
    "\n",
    "Buscamos avaliar o papel dos profissionais da História diante da sociedade contemporânea, assim como refletir sobre as mudanças de percepção do tempo e como isso pode afetar as formas de analisar e entender o passado e impactar nas formas de ensinar e narrar a História."
   ]
  },
  {
   "cell_type": "markdown",
   "metadata": {},
   "source": [
    "## O historiador do futuro ou será programador ou não será?"
   ]
  },
  {
   "cell_type": "markdown",
   "metadata": {},
   "source": [
    "<img src=\"https://media4.giphy.com/media/Xch9I90tRezyicQgma/giphy.gif?cid=790b7611917058ce2d4fba49c611758a9bd0f87a2ea36267&rid=giphy.gif&ct=g\" alt=\"wall-e\" style=\"zoom:100%;\" />"
   ]
  },
  {
   "cell_type": "markdown",
   "metadata": {},
   "source": [
    "FORTES, A.; ALVIM, L. G. M. Evidências, códigos e classificações: o ofício do historiador e o mundo digital. *Esboços: histórias em contextos globais*, v. 27, n. 45, p. 207–227, 19 jun. 2020. \n",
    "\n",
    "### Ofício do Históriador/a "
   ]
  },
  {
   "cell_type": "markdown",
   "metadata": {},
   "source": [
    "#### Marc Bloch (2001) e E. P. Thompson (1981)\n",
    "\n",
    "1. Conhecimento histórico => análise de fontes, validado pelo diálogo com a realidade, voltado para orientação da ação humana no presete (210)\n",
    "2. Fontes sçao epistemologicamente transformadas em conhecimento histórico pela formulação de problçemas (Bloch) e perguntas que interrogam as evidências (Thompson)\n"
   ]
  },
  {
   "cell_type": "markdown",
   "metadata": {},
   "source": [
    "#### Questões centrais da virada digital na História\n",
    "\n",
    "1. AMpliação de fontes + ferramentas que auxiliam em análises 'de qualidade superior'\n",
    "2. Qual contribuição do ofício dp historiador/a para o enfrentamento dos dilemas da sociedade contemporânea marcada por Big Data, Fake news e Inteligência Artificial"
   ]
  },
  {
   "cell_type": "markdown",
   "metadata": {},
   "source": [
    "### Codificar e classificar\n",
    "\n",
    "> De que modo as operações congnitivas referentes à linguagem realizadas pelo historiador são afetadas pelo desenvolvimento da tecnologia digital? (212)"
   ]
  },
  {
   "cell_type": "markdown",
   "metadata": {},
   "source": [
    "#### Processamento de Linguagem Natural (*NLP*)\n",
    "\n",
    "Computadores \"lendo\" e \"entendendo\" linguagem humana."
   ]
  },
  {
   "cell_type": "markdown",
   "metadata": {},
   "source": [
    "### Produção de conhecimento histórico e a relevância na era Digital\n",
    "\n",
    "Instrumentos do historiodor/a - manipular evidências, transformar em 'informações racionalmente classificadas', escrever narrativas: é ao mesmo tempo método e técnica, mas também sensibilidade, 'intuição alta' (nas palavras de Ginzburg)\n",
    "\n",
    "> Chegarão as máquinas a desenvolver esse tipo de “alta intuição”? Em que tipo de operação cognitiva a inteligência artificial já pode, hoje em dia, auxiliar a pesquisa histórica? (215)"
   ]
  },
  {
   "cell_type": "markdown",
   "metadata": {},
   "source": [
    "#### Possibilidades e caminhos: Inteligência Articifial, Processamento de Linguagem Natural e mais...\n",
    "\n",
    "- Análise textual (gramática, semântica, lexicográfica, etc.)\n",
    "- NER (Name Entity Recognition) - Nomes, entidades, etc.\n",
    "- Topic modeling - Modelagem de tópicos\n",
    "- Reconhecimento de Layout\n",
    "- Análise de redes\n",
    "- Georeferenciamento"
   ]
  },
  {
   "cell_type": "markdown",
   "metadata": {},
   "source": [
    "### Um rápido exemplo: Python e spaCy para \"ler\" Helena de Machado de Assis"
   ]
  },
  {
   "cell_type": "markdown",
   "metadata": {},
   "source": [
    "> Esses exemplos foram inspirados pelo material produzido por Melanie Walsh em  seu curso [\"Introduction to cultural analytics & Python\"](https://melaniewalsh.github.io/Intro-Cultural-Analytics/05-Text-Analysis/Multilingual/Portuguese/00-Portuguese.html)."
   ]
  },
  {
   "cell_type": "code",
   "execution_count": null,
   "metadata": {},
   "outputs": [],
   "source": [
    "# Instalando spacy\n",
    "!pip install spacy"
   ]
  },
  {
   "cell_type": "code",
   "execution_count": 1,
   "metadata": {},
   "outputs": [],
   "source": [
    "# importando spacy para ser usado no Python\n",
    "import spacy"
   ]
  },
  {
   "cell_type": "code",
   "execution_count": 5,
   "metadata": {},
   "outputs": [],
   "source": [
    "# lendo o arquivo de texto\n",
    "corpus = open('umhomemclebre.txt', 'r').read()\n",
    "# carregando o modelo de linguagem\n",
    "nlp = spacy.load('pt_core_news_lg')\n",
    "# processando o texto\n",
    "doc = nlp(corpus)"
   ]
  },
  {
   "cell_type": "markdown",
   "metadata": {},
   "source": [
    "#### Analisando as entidades do texto"
   ]
  },
  {
   "cell_type": "code",
   "execution_count": 6,
   "metadata": {},
   "outputs": [
    {
     "name": "stdout",
     "output_type": "stream",
     "text": [
      "Pestana LOC\n",
      "Desculpe\n",
      " MISC\n",
      "Vexado PER\n",
      "Pestana PER\n",
      "Camargo LOC\n",
      "Areal LOC\n",
      "Amava PER\n",
      "Pestana PER\n",
      "Pestana PER\n",
      "Pestana LOC\n",
      "Diga ORG\n",
      "Nhonhô PER\n",
      "Pestana PER\n",
      "saracotear LOC\n",
      "Sinhazinha Mota PER\n",
      "Pestana PER\n",
      "Pestana PER\n",
      "Formosa LOC\n",
      "Dançava-se PER\n",
      "Pestana PER\n"
     ]
    }
   ],
   "source": [
    "# para cada entidade até 20 tokens\n",
    "for named_entity in doc.ents[:20]:\n",
    "    # imprimindo o nome da entidade\n",
    "    print(named_entity.text, named_entity.label_)"
   ]
  },
  {
   "cell_type": "code",
   "execution_count": 7,
   "metadata": {},
   "outputs": [
    {
     "data": {
      "text/html": [
       "<span class=\"tex2jax_ignore\"><div class=\"entities\" style=\"line-height: 2.5; direction: ltr\">Um homem célebre  * </br>- Ah! O senhor é que é o \n",
       "<mark class=\"entity\" style=\"background: #ff9561; padding: 0.45em 0.6em; margin: 0 0.25em; line-height: 1; border-radius: 0.35em;\">\n",
       "    Pestana\n",
       "    <span style=\"font-size: 0.8em; font-weight: bold; line-height: 1; border-radius: 0.35em; vertical-align: middle; margin-left: 0.5rem\">LOC</span>\n",
       "</mark>\n",
       "? - perguntou sinhazinha Mota, fazendo um largo gesto admirativo. E logo depois, corrigindo a familiaridade -: \n",
       "<mark class=\"entity\" style=\"background: #ddd; padding: 0.45em 0.6em; margin: 0 0.25em; line-height: 1; border-radius: 0.35em;\">\n",
       "    Desculpe\n",
       "\n",
       "    <span style=\"font-size: 0.8em; font-weight: bold; line-height: 1; border-radius: 0.35em; vertical-align: middle; margin-left: 0.5rem\">MISC</span>\n",
       "</mark>\n",
       "meu modo, mas... é mesmo o senhor?</br>\n",
       "<mark class=\"entity\" style=\"background: #ddd; padding: 0.45em 0.6em; margin: 0 0.25em; line-height: 1; border-radius: 0.35em;\">\n",
       "    Vexado\n",
       "    <span style=\"font-size: 0.8em; font-weight: bold; line-height: 1; border-radius: 0.35em; vertical-align: middle; margin-left: 0.5rem\">PER</span>\n",
       "</mark>\n",
       ", aborrecido, \n",
       "<mark class=\"entity\" style=\"background: #ddd; padding: 0.45em 0.6em; margin: 0 0.25em; line-height: 1; border-radius: 0.35em;\">\n",
       "    Pestana\n",
       "    <span style=\"font-size: 0.8em; font-weight: bold; line-height: 1; border-radius: 0.35em; vertical-align: middle; margin-left: 0.5rem\">PER</span>\n",
       "</mark>\n",
       " respondeu que sim, que era ele. Vinha do piano, enxugando a testa com o lenço, e ia a chegar à janela, quando a moça o fez</br>parar. Não era baile; apenas um sarau íntimo, pouca gente, vinte pessoas ao todo, que tinham ido jantar com a viúva \n",
       "<mark class=\"entity\" style=\"background: #ff9561; padding: 0.45em 0.6em; margin: 0 0.25em; line-height: 1; border-radius: 0.35em;\">\n",
       "    Camargo\n",
       "    <span style=\"font-size: 0.8em; font-weight: bold; line-height: 1; border-radius: 0.35em; vertical-align: middle; margin-left: 0.5rem\">LOC</span>\n",
       "</mark>\n",
       ",</br>rua do \n",
       "<mark class=\"entity\" style=\"background: #ff9561; padding: 0.45em 0.6em; margin: 0 0.25em; line-height: 1; border-radius: 0.35em;\">\n",
       "    Areal\n",
       "    <span style=\"font-size: 0.8em; font-weight: bold; line-height: 1; border-radius: 0.35em; vertical-align: middle; margin-left: 0.5rem\">LOC</span>\n",
       "</mark>\n",
       ", naquele dia dos anos dela, cinco de novembro de 1875... Boa e patusca viúva! \n",
       "<mark class=\"entity\" style=\"background: #ddd; padding: 0.45em 0.6em; margin: 0 0.25em; line-height: 1; border-radius: 0.35em;\">\n",
       "    Amava\n",
       "    <span style=\"font-size: 0.8em; font-weight: bold; line-height: 1; border-radius: 0.35em; vertical-align: middle; margin-left: 0.5rem\">PER</span>\n",
       "</mark>\n",
       " o riso e</br>a folga, apesar dos sessenta anos em que entrava, e foi a última vez que folgou e riu, pois faleceu nos primeiros dias de 1876. Boa e patusca viúva! Com que alma e</br>diligência arranjou ali umas danças, logo depois do jantar, pedindo ao \n",
       "<mark class=\"entity\" style=\"background: #ddd; padding: 0.45em 0.6em; margin: 0 0.25em; line-height: 1; border-radius: 0.35em;\">\n",
       "    Pestana\n",
       "    <span style=\"font-size: 0.8em; font-weight: bold; line-height: 1; border-radius: 0.35em; vertical-align: middle; margin-left: 0.5rem\">PER</span>\n",
       "</mark>\n",
       " que tocasse uma quadrilha! Nem foi preciso acabar o pedido; \n",
       "<mark class=\"entity\" style=\"background: #ddd; padding: 0.45em 0.6em; margin: 0 0.25em; line-height: 1; border-radius: 0.35em;\">\n",
       "    Pestana\n",
       "    <span style=\"font-size: 0.8em; font-weight: bold; line-height: 1; border-radius: 0.35em; vertical-align: middle; margin-left: 0.5rem\">PER</span>\n",
       "</mark>\n",
       " curvou-se</br>gentilmente, e correu ao piano. Finda a quadrilha, mal teriam descansado uns dez minutos, a viúva correu novamente ao \n",
       "<mark class=\"entity\" style=\"background: #ff9561; padding: 0.45em 0.6em; margin: 0 0.25em; line-height: 1; border-radius: 0.35em;\">\n",
       "    Pestana\n",
       "    <span style=\"font-size: 0.8em; font-weight: bold; line-height: 1; border-radius: 0.35em; vertical-align: middle; margin-left: 0.5rem\">LOC</span>\n",
       "</mark>\n",
       " para um obséquio mui particular.</br>- \n",
       "<mark class=\"entity\" style=\"background: #7aecec; padding: 0.45em 0.6em; margin: 0 0.25em; line-height: 1; border-radius: 0.35em;\">\n",
       "    Diga\n",
       "    <span style=\"font-size: 0.8em; font-weight: bold; line-height: 1; border-radius: 0.35em; vertical-align: middle; margin-left: 0.5rem\">ORG</span>\n",
       "</mark>\n",
       ", minha senhora.</br>- É que nos toque agora aquela sua polca Não bula comigo, \n",
       "<mark class=\"entity\" style=\"background: #ddd; padding: 0.45em 0.6em; margin: 0 0.25em; line-height: 1; border-radius: 0.35em;\">\n",
       "    Nhonhô\n",
       "    <span style=\"font-size: 0.8em; font-weight: bold; line-height: 1; border-radius: 0.35em; vertical-align: middle; margin-left: 0.5rem\">PER</span>\n",
       "</mark>\n",
       ".</br>\n",
       "<mark class=\"entity\" style=\"background: #ddd; padding: 0.45em 0.6em; margin: 0 0.25em; line-height: 1; border-radius: 0.35em;\">\n",
       "    Pestana\n",
       "    <span style=\"font-size: 0.8em; font-weight: bold; line-height: 1; border-radius: 0.35em; vertical-align: middle; margin-left: 0.5rem\">PER</span>\n",
       "</mark>\n",
       " fez uma careta, mas dissimulou depressa, inclinou-se calado, sem gentileza, e foi para o piano, sem entusiasmo. Ouvidos os primeiros compassos, derramou-se pela sala uma alegria nova, os cavalheiros correram às damas, e os pares entraram a \n",
       "<mark class=\"entity\" style=\"background: #ff9561; padding: 0.45em 0.6em; margin: 0 0.25em; line-height: 1; border-radius: 0.35em;\">\n",
       "    saracotear\n",
       "    <span style=\"font-size: 0.8em; font-weight: bold; line-height: 1; border-radius: 0.35em; vertical-align: middle; margin-left: 0.5rem\">LOC</span>\n",
       "</mark>\n",
       " a polca da moda. Da moda; tinha sido publicada vinte dias antes, e já não havia recanto da cidade em que não fosse conhecida. Ia chegando à consagração do assobio e da cantarola noturna.</br>\n",
       "<mark class=\"entity\" style=\"background: #ddd; padding: 0.45em 0.6em; margin: 0 0.25em; line-height: 1; border-radius: 0.35em;\">\n",
       "    Sinhazinha Mota\n",
       "    <span style=\"font-size: 0.8em; font-weight: bold; line-height: 1; border-radius: 0.35em; vertical-align: middle; margin-left: 0.5rem\">PER</span>\n",
       "</mark>\n",
       " estava longe de supor que aquele \n",
       "<mark class=\"entity\" style=\"background: #ddd; padding: 0.45em 0.6em; margin: 0 0.25em; line-height: 1; border-radius: 0.35em;\">\n",
       "    Pestana\n",
       "    <span style=\"font-size: 0.8em; font-weight: bold; line-height: 1; border-radius: 0.35em; vertical-align: middle; margin-left: 0.5rem\">PER</span>\n",
       "</mark>\n",
       " que ela vira à mesa de jantar e depois ao piano, metido numa sobrecasaca cor de rapé, cabelo negro, longo e cacheado, olhos cuidosos, queixo rapado, era o mesmo \n",
       "<mark class=\"entity\" style=\"background: #ddd; padding: 0.45em 0.6em; margin: 0 0.25em; line-height: 1; border-radius: 0.35em;\">\n",
       "    Pestana\n",
       "    <span style=\"font-size: 0.8em; font-weight: bold; line-height: 1; border-radius: 0.35em; vertical-align: middle; margin-left: 0.5rem\">PER</span>\n",
       "</mark>\n",
       " compositor; foi uma amiga que lho disse quando o viu vir do piano, acabada a polca. Daí a pergunta admirativa. Vimos que ele respondeu aborrecido e vexado. Nem assim as duas moças lhe pouparam finezas, tais e tantas, que a mais modesta vaidade se contentaria de as ouvir; ele recebeu-as cada vez mais enfadado, até que, alegando dor de cabeça, pediu licença para sair. Nem elas, nem a dona da casa, ninguém logrou retê-lo. Ofereceram-lhe remédios caseiros, algum repouso, não aceitou nada, teimou em sair e saiu.</br>Rua fora, caminhou depressa, com medo de que ainda o chamassem; só afrouxou, depois que dobrou a esquina da</br>rua \n",
       "<mark class=\"entity\" style=\"background: #ff9561; padding: 0.45em 0.6em; margin: 0 0.25em; line-height: 1; border-radius: 0.35em;\">\n",
       "    Formosa\n",
       "    <span style=\"font-size: 0.8em; font-weight: bold; line-height: 1; border-radius: 0.35em; vertical-align: middle; margin-left: 0.5rem\">LOC</span>\n",
       "</mark>\n",
       ". Mas aí mesmo esperava-o a sua grande polca festiva. De uma casa modesta, à direita, a poucos</br>metros de distância, saíam as notas da composição do dia, sopradas em clarineta. \n",
       "<mark class=\"entity\" style=\"background: #ddd; padding: 0.45em 0.6em; margin: 0 0.25em; line-height: 1; border-radius: 0.35em;\">\n",
       "    Dançava-se\n",
       "    <span style=\"font-size: 0.8em; font-weight: bold; line-height: 1; border-radius: 0.35em; vertical-align: middle; margin-left: 0.5rem\">PER</span>\n",
       "</mark>\n",
       ". \n",
       "<mark class=\"entity\" style=\"background: #ddd; padding: 0.45em 0.6em; margin: 0 0.25em; line-height: 1; border-radius: 0.35em;\">\n",
       "    Pestana\n",
       "    <span style=\"font-size: 0.8em; font-weight: bold; line-height: 1; border-radius: 0.35em; vertical-align: middle; margin-left: 0.5rem\">PER</span>\n",
       "</mark>\n",
       " parou alguns instantes, pensou em arrepiar caminho, mas dispôs-se</br>a andar, estugou o passo, atravessou a rua, e seguiu pelo lado oposto ao da casa do baile. As notas foram-se perdendo, ao longe, e o nosso homem entrou na</br>rua do \n",
       "<mark class=\"entity\" style=\"background: #ff9561; padding: 0.45em 0.6em; margin: 0 0.25em; line-height: 1; border-radius: 0.35em;\">\n",
       "    Aterrado\n",
       "    <span style=\"font-size: 0.8em; font-weight: bold; line-height: 1; border-radius: 0.35em; vertical-align: middle; margin-left: 0.5rem\">LOC</span>\n",
       "</mark>\n",
       ", onde morava. Já perto de casa, viu vir dois homens; um deles, passando \n",
       "<mark class=\"entity\" style=\"background: #ddd; padding: 0.45em 0.6em; margin: 0 0.25em; line-height: 1; border-radius: 0.35em;\">\n",
       "    rentezinho\n",
       "    <span style=\"font-size: 0.8em; font-weight: bold; line-height: 1; border-radius: 0.35em; vertical-align: middle; margin-left: 0.5rem\">PER</span>\n",
       "</mark>\n",
       " com o</br>\n",
       "<mark class=\"entity\" style=\"background: #ddd; padding: 0.45em 0.6em; margin: 0 0.25em; line-height: 1; border-radius: 0.35em;\">\n",
       "    Pestana\n",
       "    <span style=\"font-size: 0.8em; font-weight: bold; line-height: 1; border-radius: 0.35em; vertical-align: middle; margin-left: 0.5rem\">PER</span>\n",
       "</mark>\n",
       ", começou a assobiar a mesma polca, rijamente, com brio, e o outro pegou a tempo na música, e aí foram os dois abaixo, ruidosos e alegres, enquanto o autor da</br>peça, desesperado, corria a meter-se em casa.</br>Em casa, respirou. Casa velha, escada velha,</br>um preto velho que o servia, e que veio saber se ele queria cear.</br>- Não quero nada - bradou o \n",
       "<mark class=\"entity\" style=\"background: #ff9561; padding: 0.45em 0.6em; margin: 0 0.25em; line-height: 1; border-radius: 0.35em;\">\n",
       "    Pestana\n",
       "    <span style=\"font-size: 0.8em; font-weight: bold; line-height: 1; border-radius: 0.35em; vertical-align: middle; margin-left: 0.5rem\">LOC</span>\n",
       "</mark>\n",
       " -; faça-me café e vá dormir.</br>\n",
       "<mark class=\"entity\" style=\"background: #7aecec; padding: 0.45em 0.6em; margin: 0 0.25em; line-height: 1; border-radius: 0.35em;\">\n",
       "    Despiu-se\n",
       "    <span style=\"font-size: 0.8em; font-weight: bold; line-height: 1; border-radius: 0.35em; vertical-align: middle; margin-left: 0.5rem\">ORG</span>\n",
       "</mark>\n",
       ", enfiou uma</br>camisola, e foi para a sala dos fundos. Quando o preto acendeu o gás da sala, \n",
       "<mark class=\"entity\" style=\"background: #ddd; padding: 0.45em 0.6em; margin: 0 0.25em; line-height: 1; border-radius: 0.35em;\">\n",
       "    Pestana\n",
       "    <span style=\"font-size: 0.8em; font-weight: bold; line-height: 1; border-radius: 0.35em; vertical-align: middle; margin-left: 0.5rem\">PER</span>\n",
       "</mark>\n",
       " sorriu e, dentro</br>d`alma, cumprimentou uns dez retratos que pendiam da parede. Um só era a óleo, o de um padre, que o educara, que lhe ensinara latim e música, e que, segundo os</br>ociosos, era o próprio pai do \n",
       "<mark class=\"entity\" style=\"background: #ddd; padding: 0.45em 0.6em; margin: 0 0.25em; line-height: 1; border-radius: 0.35em;\">\n",
       "    Pestana\n",
       "    <span style=\"font-size: 0.8em; font-weight: bold; line-height: 1; border-radius: 0.35em; vertical-align: middle; margin-left: 0.5rem\">PER</span>\n",
       "</mark>\n",
       ". Certo é que lhe deixou em herança aquela casa velha, e os velhos</br>trastes, ainda do</br>tempo de Pedro I. Compusera alguns motetes o padre, era doudo por música, sacra ou profana, cujo gosto</br>incutiu no moço, ou também lhe transmitiu no sangue, se é que tinham razão as bocas vadias, cousa de que se não ocupa a minha história, como ides ver.</br>Os demais retratos eram de compositores clássicos,</br>\n",
       "<mark class=\"entity\" style=\"background: #ddd; padding: 0.45em 0.6em; margin: 0 0.25em; line-height: 1; border-radius: 0.35em;\">\n",
       "    Cimarosa\n",
       "    <span style=\"font-size: 0.8em; font-weight: bold; line-height: 1; border-radius: 0.35em; vertical-align: middle; margin-left: 0.5rem\">PER</span>\n",
       "</mark>\n",
       ", \n",
       "<mark class=\"entity\" style=\"background: #ddd; padding: 0.45em 0.6em; margin: 0 0.25em; line-height: 1; border-radius: 0.35em;\">\n",
       "    Mozart\n",
       "    <span style=\"font-size: 0.8em; font-weight: bold; line-height: 1; border-radius: 0.35em; vertical-align: middle; margin-left: 0.5rem\">PER</span>\n",
       "</mark>\n",
       ",</br>\n",
       "<mark class=\"entity\" style=\"background: #ddd; padding: 0.45em 0.6em; margin: 0 0.25em; line-height: 1; border-radius: 0.35em;\">\n",
       "    Beethoven\n",
       "    <span style=\"font-size: 0.8em; font-weight: bold; line-height: 1; border-radius: 0.35em; vertical-align: middle; margin-left: 0.5rem\">PER</span>\n",
       "</mark>\n",
       ", \n",
       "<mark class=\"entity\" style=\"background: #ddd; padding: 0.45em 0.6em; margin: 0 0.25em; line-height: 1; border-radius: 0.35em;\">\n",
       "    Gluck\n",
       "    <span style=\"font-size: 0.8em; font-weight: bold; line-height: 1; border-radius: 0.35em; vertical-align: middle; margin-left: 0.5rem\">PER</span>\n",
       "</mark>\n",
       ",</br>\n",
       "<mark class=\"entity\" style=\"background: #ddd; padding: 0.45em 0.6em; margin: 0 0.25em; line-height: 1; border-radius: 0.35em;\">\n",
       "    Bach\n",
       "    <span style=\"font-size: 0.8em; font-weight: bold; line-height: 1; border-radius: 0.35em; vertical-align: middle; margin-left: 0.5rem\">PER</span>\n",
       "</mark>\n",
       ", \n",
       "<mark class=\"entity\" style=\"background: #ddd; padding: 0.45em 0.6em; margin: 0 0.25em; line-height: 1; border-radius: 0.35em;\">\n",
       "    Schumann\n",
       "    <span style=\"font-size: 0.8em; font-weight: bold; line-height: 1; border-radius: 0.35em; vertical-align: middle; margin-left: 0.5rem\">PER</span>\n",
       "</mark>\n",
       ", e ainda uns três, alguns gravados, outros litografados, todos mal encaixilhados e de</br>diferente tamanho, mas postos ali como santos de uma igreja. O piano era o altar; o \n",
       "<mark class=\"entity\" style=\"background: #ddd; padding: 0.45em 0.6em; margin: 0 0.25em; line-height: 1; border-radius: 0.35em;\">\n",
       "    evangelho da noite\n",
       "    <span style=\"font-size: 0.8em; font-weight: bold; line-height: 1; border-radius: 0.35em; vertical-align: middle; margin-left: 0.5rem\">MISC</span>\n",
       "</mark>\n",
       " lá estava aberto: era uma sonata de \n",
       "<mark class=\"entity\" style=\"background: #ddd; padding: 0.45em 0.6em; margin: 0 0.25em; line-height: 1; border-radius: 0.35em;\">\n",
       "    Beethoven\n",
       "    <span style=\"font-size: 0.8em; font-weight: bold; line-height: 1; border-radius: 0.35em; vertical-align: middle; margin-left: 0.5rem\">PER</span>\n",
       "</mark>\n",
       ".</br>Veio o café; \n",
       "<mark class=\"entity\" style=\"background: #ddd; padding: 0.45em 0.6em; margin: 0 0.25em; line-height: 1; border-radius: 0.35em;\">\n",
       "    Pestana\n",
       "    <span style=\"font-size: 0.8em; font-weight: bold; line-height: 1; border-radius: 0.35em; vertical-align: middle; margin-left: 0.5rem\">PER</span>\n",
       "</mark>\n",
       " engoliu a primeira xícara, e sentou-se ao piano. Olhou para o retrato de \n",
       "<mark class=\"entity\" style=\"background: #ddd; padding: 0.45em 0.6em; margin: 0 0.25em; line-height: 1; border-radius: 0.35em;\">\n",
       "    Beethoven\n",
       "    <span style=\"font-size: 0.8em; font-weight: bold; line-height: 1; border-radius: 0.35em; vertical-align: middle; margin-left: 0.5rem\">PER</span>\n",
       "</mark>\n",
       ", e começou a executar a sonata, sem saber de si, desvairado</br>ou absorto, mas com grande perfeição. Repetiu a peça; depois parou alguns instantes, levantou-se e foi a uma das janelas. Tornou ao piano; era a vez de \n",
       "<mark class=\"entity\" style=\"background: #ddd; padding: 0.45em 0.6em; margin: 0 0.25em; line-height: 1; border-radius: 0.35em;\">\n",
       "    Mozart\n",
       "    <span style=\"font-size: 0.8em; font-weight: bold; line-height: 1; border-radius: 0.35em; vertical-align: middle; margin-left: 0.5rem\">PER</span>\n",
       "</mark>\n",
       ", pegou</br>de um trecho, e executou-o do mesmo modo, com a alma alhures.</br>\n",
       "<mark class=\"entity\" style=\"background: #ddd; padding: 0.45em 0.6em; margin: 0 0.25em; line-height: 1; border-radius: 0.35em;\">\n",
       "    Haydn\n",
       "    <span style=\"font-size: 0.8em; font-weight: bold; line-height: 1; border-radius: 0.35em; vertical-align: middle; margin-left: 0.5rem\">PER</span>\n",
       "</mark>\n",
       " levou-o à meia-noite e à segunda xícara de café.</br>Entre meia-noite e uma hora, \n",
       "<mark class=\"entity\" style=\"background: #ddd; padding: 0.45em 0.6em; margin: 0 0.25em; line-height: 1; border-radius: 0.35em;\">\n",
       "    Pestana\n",
       "    <span style=\"font-size: 0.8em; font-weight: bold; line-height: 1; border-radius: 0.35em; vertical-align: middle; margin-left: 0.5rem\">PER</span>\n",
       "</mark>\n",
       " pouco mais fez que estar à janela e olhar para as estrelas, entrar e olhar para os retratos. De quando em quando ia ao</br>piano, e, de pé, dava uns golpes soltos no teclado, como se procurasse algum pensamento; mas o pensamento não aparecia e ele voltava a encostar-se à janela. As</br>estrelas pareciam-lhe outras tantas notas musicais fixadas no céu à espera de alguém que as fosse descolar; tempo viria em que o céu tinha de ficar vazio, mas</br>então a terra seria uma constelação de partituras. Nenhuma imagem, desvario ou reflexão trazia uma lembrança qualquer de \n",
       "<mark class=\"entity\" style=\"background: #ddd; padding: 0.45em 0.6em; margin: 0 0.25em; line-height: 1; border-radius: 0.35em;\">\n",
       "    sinhazinha Mota\n",
       "    <span style=\"font-size: 0.8em; font-weight: bold; line-height: 1; border-radius: 0.35em; vertical-align: middle; margin-left: 0.5rem\">PER</span>\n",
       "</mark>\n",
       ", que entretanto, a essa</br>mesma hora, adormecia, pensando nele, famoso autor de tantas polcas amadas. Talvez a ideia conjugal tirou à moça alguns momentos de sono. Que tinha? Ela ia em</br>vinte anos, ele, em trinta, boa conta. A moça dormia ao som da polca, ouvida de cor, enquanto o autor desta não cuidava nem da polca nem da moça, mas das velhas</br>obras clássicas, interrogando o céu e a noite, rogando aos anjos, em último caso ao diabo. Por que não faria ele uma só que fosse daquelas páginas imortais?</br>Às vezes, como que ia surgir das profundezas do inconsciente uma aurora de ideia; ele corria ao piano, para aventá-la inteira, traduzi-la, em sons, mas era em</br>vão; a ideia esvaía-se. Outras vezes, sentado, ao piano, deixava os dedos correrem, à ventura, a ver se as fantasias brotavam deles, como dos de</br>\n",
       "<mark class=\"entity\" style=\"background: #ddd; padding: 0.45em 0.6em; margin: 0 0.25em; line-height: 1; border-radius: 0.35em;\">\n",
       "    Mozart\n",
       "    <span style=\"font-size: 0.8em; font-weight: bold; line-height: 1; border-radius: 0.35em; vertical-align: middle; margin-left: 0.5rem\">PER</span>\n",
       "</mark>\n",
       "; mas nada, nada, a inspiração não vinha, a imaginação deixava-se estar dormindo. Se acaso uma</br>ideia aparecia, definida e bela, era eco apenas de alguma peça alheia, que a memória repetia, e que ele supunha inventar. Então, irritado, erguia-se, jurava</br>abandonar a arte, ir plantar café ou puxar carroça; mas daí a dez minutos, ei-lo outra vez, com os olhos em \n",
       "<mark class=\"entity\" style=\"background: #ddd; padding: 0.45em 0.6em; margin: 0 0.25em; line-height: 1; border-radius: 0.35em;\">\n",
       "    Mozart\n",
       "    <span style=\"font-size: 0.8em; font-weight: bold; line-height: 1; border-radius: 0.35em; vertical-align: middle; margin-left: 0.5rem\">PER</span>\n",
       "</mark>\n",
       ", a imitá-lo ao piano.</br>Duas, três, quatro horas. Depois das quatro foi dormir; estava cansado, desanimado, morto; tinha que dar lições no dia seguinte. Pouco dormiu; acordou às sete horas. Vestiu-se e</br>almoçou.</br>- Meu senhor quer a bengala ou o chapéu-de-sol? - perguntou</br>o preto, segundo as ordens que tinha, porque as distrações do senhor eram frequentes.</br>- A bengala.</br>- Mas parece que hoje chove.</br>- \n",
       "<mark class=\"entity\" style=\"background: #ddd; padding: 0.45em 0.6em; margin: 0 0.25em; line-height: 1; border-radius: 0.35em;\">\n",
       "    Chove\n",
       "    <span style=\"font-size: 0.8em; font-weight: bold; line-height: 1; border-radius: 0.35em; vertical-align: middle; margin-left: 0.5rem\">MISC</span>\n",
       "</mark>\n",
       " - repetiu \n",
       "<mark class=\"entity\" style=\"background: #ddd; padding: 0.45em 0.6em; margin: 0 0.25em; line-height: 1; border-radius: 0.35em;\">\n",
       "    Pestana\n",
       "    <span style=\"font-size: 0.8em; font-weight: bold; line-height: 1; border-radius: 0.35em; vertical-align: middle; margin-left: 0.5rem\">PER</span>\n",
       "</mark>\n",
       " maquinalmente.</br>- Parece que sim, senhor, o céu está meio escuro.</br>\n",
       "<mark class=\"entity\" style=\"background: #ddd; padding: 0.45em 0.6em; margin: 0 0.25em; line-height: 1; border-radius: 0.35em;\">\n",
       "    Pestana\n",
       "    <span style=\"font-size: 0.8em; font-weight: bold; line-height: 1; border-radius: 0.35em; vertical-align: middle; margin-left: 0.5rem\">PER</span>\n",
       "</mark>\n",
       " olhava para o preto, vago, preocupado. De repente:</br>- Espera aí.</br>Correu à sala dos retratos, abriu o piano, sentou-se e espalmou as mãos no teclado. Começou a tocar alguma cousa própria, uma inspiração real e pronta, uma</br>polca, uma polca buliçosa, como dizem os anúncios. Nenhuma repulsa da parte do compositor; os dedos iam arrancando as notas, ligando-as, meneando-as; dir-se-ia que</br>a musa compunha e bailava a um tempo. \n",
       "<mark class=\"entity\" style=\"background: #ddd; padding: 0.45em 0.6em; margin: 0 0.25em; line-height: 1; border-radius: 0.35em;\">\n",
       "    Pestana\n",
       "    <span style=\"font-size: 0.8em; font-weight: bold; line-height: 1; border-radius: 0.35em; vertical-align: middle; margin-left: 0.5rem\">PER</span>\n",
       "</mark>\n",
       " esquecera as discípulas, esquecera o preto, que o</br>esperava com a bengala e o guarda-chuva, esquecera até os retratos que pendiam gravemente da parede. Compunha só, teclando ou escrevendo, sem os vãos esforços da</br>véspera, sem exasperação, sem nada pedir ao céu, sem interrogar os olhos de \n",
       "<mark class=\"entity\" style=\"background: #ddd; padding: 0.45em 0.6em; margin: 0 0.25em; line-height: 1; border-radius: 0.35em;\">\n",
       "    Mozart\n",
       "    <span style=\"font-size: 0.8em; font-weight: bold; line-height: 1; border-radius: 0.35em; vertical-align: middle; margin-left: 0.5rem\">PER</span>\n",
       "</mark>\n",
       ". Nenhum tédio. Vida, graça, novidade escorriam-lhe da alma como de uma fonte perene.</br>Em pouco tempo estava a polca feita. Corrigiu ainda alguns pontos, quando voltou para jantar; mas já a cantarolava, andando, na rua. Gostou dela; na composição</br>recente e inédita circulava o sangue da paternidade e da vocação. Dois dias depois, foi levá-la ao editor das outras polcas suas, que andariam já por umas</br>trinta. O editor achou-a linda.</br>- Vai fazer grande efeito.</br>Veio a questão do título. \n",
       "<mark class=\"entity\" style=\"background: #ddd; padding: 0.45em 0.6em; margin: 0 0.25em; line-height: 1; border-radius: 0.35em;\">\n",
       "    Pestana\n",
       "    <span style=\"font-size: 0.8em; font-weight: bold; line-height: 1; border-radius: 0.35em; vertical-align: middle; margin-left: 0.5rem\">PER</span>\n",
       "</mark>\n",
       ", quando compôs a primeira polca, em 1871, quis dar-lhe um título poético, escolheu este: \n",
       "<mark class=\"entity\" style=\"background: #ff9561; padding: 0.45em 0.6em; margin: 0 0.25em; line-height: 1; border-radius: 0.35em;\">\n",
       "    Pingos\n",
       "    <span style=\"font-size: 0.8em; font-weight: bold; line-height: 1; border-radius: 0.35em; vertical-align: middle; margin-left: 0.5rem\">LOC</span>\n",
       "</mark>\n",
       " de sol. O editor abanou a</br>cabeça, e disse-lhe que os títulos deviam ser, já de si, destinados à popularidade - ou por alusão a algum sucesso do dia, ou pela graça das palavras -; indicou-lhe dois:</br> A lei de 28 de setembro, ou \n",
       "<mark class=\"entity\" style=\"background: #ddd; padding: 0.45em 0.6em; margin: 0 0.25em; line-height: 1; border-radius: 0.35em;\">\n",
       "    Candongas\n",
       "    <span style=\"font-size: 0.8em; font-weight: bold; line-height: 1; border-radius: 0.35em; vertical-align: middle; margin-left: 0.5rem\">MISC</span>\n",
       "</mark>\n",
       " não fazem festa.</br>- Mas que quer dizer \n",
       "<mark class=\"entity\" style=\"background: #ddd; padding: 0.45em 0.6em; margin: 0 0.25em; line-height: 1; border-radius: 0.35em;\">\n",
       "    Candongas\n",
       "    <span style=\"font-size: 0.8em; font-weight: bold; line-height: 1; border-radius: 0.35em; vertical-align: middle; margin-left: 0.5rem\">PER</span>\n",
       "</mark>\n",
       " não fazem festa? - perguntou o autor.</br>- Não quer dizer nada, mas populariza-se logo.</br>\n",
       "<mark class=\"entity\" style=\"background: #ddd; padding: 0.45em 0.6em; margin: 0 0.25em; line-height: 1; border-radius: 0.35em;\">\n",
       "    Pestana\n",
       "    <span style=\"font-size: 0.8em; font-weight: bold; line-height: 1; border-radius: 0.35em; vertical-align: middle; margin-left: 0.5rem\">PER</span>\n",
       "</mark>\n",
       ", ainda donzel inédito, recusou qualquer das denominações e guardou a polca; mas não tardou que compusesse outra, e a comichão da publicidade levou-o a</br>imprimir as duas, com os títulos que ao editor parecessem mais atraentes ou apropriados. Assim se regulou pelo tempo adiante.</br>Agora, quando \n",
       "<mark class=\"entity\" style=\"background: #ddd; padding: 0.45em 0.6em; margin: 0 0.25em; line-height: 1; border-radius: 0.35em;\">\n",
       "    Pestana\n",
       "    <span style=\"font-size: 0.8em; font-weight: bold; line-height: 1; border-radius: 0.35em; vertical-align: middle; margin-left: 0.5rem\">PER</span>\n",
       "</mark>\n",
       " entregou a nova polca, e passaram ao título, o editor acudiu que trazia um, desde muitos dias, para a primeira obra que ele lhe</br>apresentasse, título de \n",
       "<mark class=\"entity\" style=\"background: #ddd; padding: 0.45em 0.6em; margin: 0 0.25em; line-height: 1; border-radius: 0.35em;\">\n",
       "    espavento\n",
       "    <span style=\"font-size: 0.8em; font-weight: bold; line-height: 1; border-radius: 0.35em; vertical-align: middle; margin-left: 0.5rem\">PER</span>\n",
       "</mark>\n",
       ", longo e meneado. Era este: \n",
       "<mark class=\"entity\" style=\"background: #ddd; padding: 0.45em 0.6em; margin: 0 0.25em; line-height: 1; border-radius: 0.35em;\">\n",
       "    Senhora dona\n",
       "    <span style=\"font-size: 0.8em; font-weight: bold; line-height: 1; border-radius: 0.35em; vertical-align: middle; margin-left: 0.5rem\">PER</span>\n",
       "</mark>\n",
       ", guarde o seu balaio.</br>- E para a vez seguinte - acrescentou - já trago outro de cor.</br>Exposta à venda, esgotou-se logo a primeira edição. A fama do compositor bastava à procura; mas a obra em si mesma era adequada ao gênero, original, convidava a</br>dançá-la e decorava-se depressa. Em oito dias, estava célebre. \n",
       "<mark class=\"entity\" style=\"background: #ddd; padding: 0.45em 0.6em; margin: 0 0.25em; line-height: 1; border-radius: 0.35em;\">\n",
       "    Pestana\n",
       "    <span style=\"font-size: 0.8em; font-weight: bold; line-height: 1; border-radius: 0.35em; vertical-align: middle; margin-left: 0.5rem\">PER</span>\n",
       "</mark>\n",
       ", durante os primeiros, andou deveras namorado da composição, gostava de a cantarolar</br>baixinho, detinha-se na rua, para ouvi-la tocar em alguma casa, e zangava-se quando não a tocavam bem. Desde logo, as orquestras de teatro a executaram, e ele lá</br>foi a um deles. Não desgostou também de a ouvir assobiada, uma noite, por um vulto que descia a</br>rua do \n",
       "<mark class=\"entity\" style=\"background: #ff9561; padding: 0.45em 0.6em; margin: 0 0.25em; line-height: 1; border-radius: 0.35em;\">\n",
       "    Aterrado\n",
       "    <span style=\"font-size: 0.8em; font-weight: bold; line-height: 1; border-radius: 0.35em; vertical-align: middle; margin-left: 0.5rem\">LOC</span>\n",
       "</mark>\n",
       ".</br>Essa lua de mel durou apenas um quarto de lua. Como das outras vezes, e mais depressa ainda, os velhos mestres retratados o fizeram sangrar de remorsos. \n",
       "<mark class=\"entity\" style=\"background: #ddd; padding: 0.45em 0.6em; margin: 0 0.25em; line-height: 1; border-radius: 0.35em;\">\n",
       "    Vexado\n",
       "    <span style=\"font-size: 0.8em; font-weight: bold; line-height: 1; border-radius: 0.35em; vertical-align: middle; margin-left: 0.5rem\">PER</span>\n",
       "</mark>\n",
       " e</br>enfastiado, \n",
       "<mark class=\"entity\" style=\"background: #ddd; padding: 0.45em 0.6em; margin: 0 0.25em; line-height: 1; border-radius: 0.35em;\">\n",
       "    Pestana\n",
       "    <span style=\"font-size: 0.8em; font-weight: bold; line-height: 1; border-radius: 0.35em; vertical-align: middle; margin-left: 0.5rem\">PER</span>\n",
       "</mark>\n",
       " arremeteu contra aquela que o viera consolar tantas vezes, musa de olhos marotos e gestos arredondados, fácil e graciosa. E aí voltaram as náuseas</br>de si mesmo, o ódio a quem lhe pedia a nova polca da moda, e juntamente o esforço de compor alguma cousa ao sabor clássico, uma página que fosse, uma só, mas tal que pudesse ser encadernada entre</br>\n",
       "<mark class=\"entity\" style=\"background: #ddd; padding: 0.45em 0.6em; margin: 0 0.25em; line-height: 1; border-radius: 0.35em;\">\n",
       "    Bach\n",
       "    <span style=\"font-size: 0.8em; font-weight: bold; line-height: 1; border-radius: 0.35em; vertical-align: middle; margin-left: 0.5rem\">PER</span>\n",
       "</mark>\n",
       " e \n",
       "<mark class=\"entity\" style=\"background: #ddd; padding: 0.45em 0.6em; margin: 0 0.25em; line-height: 1; border-radius: 0.35em;\">\n",
       "    Schumann\n",
       "    <span style=\"font-size: 0.8em; font-weight: bold; line-height: 1; border-radius: 0.35em; vertical-align: middle; margin-left: 0.5rem\">PER</span>\n",
       "</mark>\n",
       ". Vão estudo, inútil esforço.</br>\n",
       "<mark class=\"entity\" style=\"background: #ff9561; padding: 0.45em 0.6em; margin: 0 0.25em; line-height: 1; border-radius: 0.35em;\">\n",
       "    Mergulhava\n",
       "    <span style=\"font-size: 0.8em; font-weight: bold; line-height: 1; border-radius: 0.35em; vertical-align: middle; margin-left: 0.5rem\">LOC</span>\n",
       "</mark>\n",
       " naquele \n",
       "<mark class=\"entity\" style=\"background: #ff9561; padding: 0.45em 0.6em; margin: 0 0.25em; line-height: 1; border-radius: 0.35em;\">\n",
       "    Jordão\n",
       "    <span style=\"font-size: 0.8em; font-weight: bold; line-height: 1; border-radius: 0.35em; vertical-align: middle; margin-left: 0.5rem\">LOC</span>\n",
       "</mark>\n",
       " sem sair batizado. \n",
       "<mark class=\"entity\" style=\"background: #ddd; padding: 0.45em 0.6em; margin: 0 0.25em; line-height: 1; border-radius: 0.35em;\">\n",
       "    Noites e noites\n",
       "    <span style=\"font-size: 0.8em; font-weight: bold; line-height: 1; border-radius: 0.35em; vertical-align: middle; margin-left: 0.5rem\">MISC</span>\n",
       "</mark>\n",
       ", gastou-as assim, confiado e teimoso, certo</br>de que a vontade era tudo, e que, uma vez que abrisse mão da música fácil...</br>- As polcas que vão para o inferno fazer dançar o diabo - disse ele um dia, de madrugada, ao deitar-se.</br>Mas as polcas não quiseram ir tão fundo. Vinham à casa de \n",
       "<mark class=\"entity\" style=\"background: #ddd; padding: 0.45em 0.6em; margin: 0 0.25em; line-height: 1; border-radius: 0.35em;\">\n",
       "    Pestana\n",
       "    <span style=\"font-size: 0.8em; font-weight: bold; line-height: 1; border-radius: 0.35em; vertical-align: middle; margin-left: 0.5rem\">PER</span>\n",
       "</mark>\n",
       ", à própria sala dos retratos, irrompiam tão prontas, que ele não tinha mais que o tempo de as</br>compor, imprimi-las depois, gostá-las alguns dias, aborrecê-las, e tornar às velhas fontes, donde lhe não manava nada. Nessa alternativa viveu até casar, e depois</br>de casar.</br>- Casar com quem? - perguntou sinhazinha \n",
       "<mark class=\"entity\" style=\"background: #ddd; padding: 0.45em 0.6em; margin: 0 0.25em; line-height: 1; border-radius: 0.35em;\">\n",
       "    Mota\n",
       "    <span style=\"font-size: 0.8em; font-weight: bold; line-height: 1; border-radius: 0.35em; vertical-align: middle; margin-left: 0.5rem\">PER</span>\n",
       "</mark>\n",
       " ao tio escrivão que lhe deu aquela notícia.</br>- Vai casar com uma viúva.</br>- Velha?</br>- Vinte e sete anos.</br>- Bonita?</br>- Não, nem feia, assim, assim. Ouvi dizer que ele se enamorou dela, porque a ouviu cantar na última festa de</br>\n",
       "<mark class=\"entity\" style=\"background: #ddd; padding: 0.45em 0.6em; margin: 0 0.25em; line-height: 1; border-radius: 0.35em;\">\n",
       "    São Francisco de Paula\n",
       "    <span style=\"font-size: 0.8em; font-weight: bold; line-height: 1; border-radius: 0.35em; vertical-align: middle; margin-left: 0.5rem\">PER</span>\n",
       "</mark>\n",
       ". Mas ouvi também que ela possui outra prenda, que não é rara, mas vale menos: está tísica.</br>Os escrivães não deviam ter espírito - mau espírito, quero dizer. A sobrinha deste sentiu no fim um pingo de bálsamo, que lhe curou a dentadinha da inveja. Era</br>tudo verdade. \n",
       "<mark class=\"entity\" style=\"background: #ddd; padding: 0.45em 0.6em; margin: 0 0.25em; line-height: 1; border-radius: 0.35em;\">\n",
       "    Pestana\n",
       "    <span style=\"font-size: 0.8em; font-weight: bold; line-height: 1; border-radius: 0.35em; vertical-align: middle; margin-left: 0.5rem\">PER</span>\n",
       "</mark>\n",
       " casou daí a dias com uma viúva de vinte e sete anos, boa cantora e tísica. Recebeu-a como a esposa espiritual do seu gênio. O celibato era, sem</br>dúvida, a causa da esterilidade e do transvio, dizia ele consigo; artisticamente considerava-se um arruador de horas mortas; tinha as polcas por aventuras de</br>petimetres. Agora, sim, é que ia engendrar uma família de obras sérias, profundas, inspiradas e trabalhadas.</br>Essa esperança abotoou desde as primeiras horas do amor, e desabrochou à primeira aurora do casamento. &quot;\n",
       "<mark class=\"entity\" style=\"background: #ddd; padding: 0.45em 0.6em; margin: 0 0.25em; line-height: 1; border-radius: 0.35em;\">\n",
       "    Maria\n",
       "    <span style=\"font-size: 0.8em; font-weight: bold; line-height: 1; border-radius: 0.35em; vertical-align: middle; margin-left: 0.5rem\">PER</span>\n",
       "</mark>\n",
       "&quot;, balbuciou a alma dele, &quot;dá-me o que não achei na</br>solidão das noites, nem no tumulto dos dias.&quot;</br>Desde logo, para comemorar o consórcio, teve ideia de compor um noturno. \n",
       "<mark class=\"entity\" style=\"background: #ddd; padding: 0.45em 0.6em; margin: 0 0.25em; line-height: 1; border-radius: 0.35em;\">\n",
       "    Chamar-lhe-ia\n",
       " Ave\n",
       "    <span style=\"font-size: 0.8em; font-weight: bold; line-height: 1; border-radius: 0.35em; vertical-align: middle; margin-left: 0.5rem\">MISC</span>\n",
       "</mark>\n",
       ", \n",
       "<mark class=\"entity\" style=\"background: #ddd; padding: 0.45em 0.6em; margin: 0 0.25em; line-height: 1; border-radius: 0.35em;\">\n",
       "    Maria\n",
       "    <span style=\"font-size: 0.8em; font-weight: bold; line-height: 1; border-radius: 0.35em; vertical-align: middle; margin-left: 0.5rem\">PER</span>\n",
       "</mark>\n",
       ". A felicidade como que lhe trouxe um princípio de inspiração; não querendo dizer nada</br>à mulher, antes de pronto, trabalhava às escondidas; cousa difícil, porque \n",
       "<mark class=\"entity\" style=\"background: #ddd; padding: 0.45em 0.6em; margin: 0 0.25em; line-height: 1; border-radius: 0.35em;\">\n",
       "    Maria\n",
       "    <span style=\"font-size: 0.8em; font-weight: bold; line-height: 1; border-radius: 0.35em; vertical-align: middle; margin-left: 0.5rem\">PER</span>\n",
       "</mark>\n",
       ", que amava igualmente a arte, vinha tocar com ele, ou ouvi-lo somente, horas e</br>horas, na sala dos retratos. Chegaram a fazer alguns concertos semanais, com três artistas, amigos do \n",
       "<mark class=\"entity\" style=\"background: #ddd; padding: 0.45em 0.6em; margin: 0 0.25em; line-height: 1; border-radius: 0.35em;\">\n",
       "    Pestana\n",
       "    <span style=\"font-size: 0.8em; font-weight: bold; line-height: 1; border-radius: 0.35em; vertical-align: middle; margin-left: 0.5rem\">PER</span>\n",
       "</mark>\n",
       ". Um domingo, porém, não se pôde ter o marido, e</br>chamou a mulher para tocar um trecho do noturno; não lhe disse o que era nem de quem era. De repente, parando, interrogou-a com os olhos.</br>\n",
       "<mark class=\"entity\" style=\"background: #ddd; padding: 0.45em 0.6em; margin: 0 0.25em; line-height: 1; border-radius: 0.35em;\">\n",
       "    - Acaba\n",
       "    <span style=\"font-size: 0.8em; font-weight: bold; line-height: 1; border-radius: 0.35em; vertical-align: middle; margin-left: 0.5rem\">MISC</span>\n",
       "</mark>\n",
       " - disse \n",
       "<mark class=\"entity\" style=\"background: #ddd; padding: 0.45em 0.6em; margin: 0 0.25em; line-height: 1; border-radius: 0.35em;\">\n",
       "    Maria\n",
       "    <span style=\"font-size: 0.8em; font-weight: bold; line-height: 1; border-radius: 0.35em; vertical-align: middle; margin-left: 0.5rem\">PER</span>\n",
       "</mark>\n",
       " -; não é \n",
       "<mark class=\"entity\" style=\"background: #ddd; padding: 0.45em 0.6em; margin: 0 0.25em; line-height: 1; border-radius: 0.35em;\">\n",
       "    Chopin\n",
       "    <span style=\"font-size: 0.8em; font-weight: bold; line-height: 1; border-radius: 0.35em; vertical-align: middle; margin-left: 0.5rem\">PER</span>\n",
       "</mark>\n",
       "?</br>\n",
       "<mark class=\"entity\" style=\"background: #ddd; padding: 0.45em 0.6em; margin: 0 0.25em; line-height: 1; border-radius: 0.35em;\">\n",
       "    Pestana\n",
       "    <span style=\"font-size: 0.8em; font-weight: bold; line-height: 1; border-radius: 0.35em; vertical-align: middle; margin-left: 0.5rem\">PER</span>\n",
       "</mark>\n",
       " empalideceu, fitou os olhos no ar, repetiu um ou dois trechos e ergueu-se. \n",
       "<mark class=\"entity\" style=\"background: #ddd; padding: 0.45em 0.6em; margin: 0 0.25em; line-height: 1; border-radius: 0.35em;\">\n",
       "    Maria\n",
       "    <span style=\"font-size: 0.8em; font-weight: bold; line-height: 1; border-radius: 0.35em; vertical-align: middle; margin-left: 0.5rem\">PER</span>\n",
       "</mark>\n",
       " assentou-se ao piano, e, depois de algum esforço de memória, executou a</br>peça de \n",
       "<mark class=\"entity\" style=\"background: #ddd; padding: 0.45em 0.6em; margin: 0 0.25em; line-height: 1; border-radius: 0.35em;\">\n",
       "    Chopin\n",
       "    <span style=\"font-size: 0.8em; font-weight: bold; line-height: 1; border-radius: 0.35em; vertical-align: middle; margin-left: 0.5rem\">PER</span>\n",
       "</mark>\n",
       ". A ideia, o motivo eram os mesmos; \n",
       "<mark class=\"entity\" style=\"background: #ddd; padding: 0.45em 0.6em; margin: 0 0.25em; line-height: 1; border-radius: 0.35em;\">\n",
       "    Pestana\n",
       "    <span style=\"font-size: 0.8em; font-weight: bold; line-height: 1; border-radius: 0.35em; vertical-align: middle; margin-left: 0.5rem\">PER</span>\n",
       "</mark>\n",
       " achara-os em algum daqueles becos escuros da memória, velha cidade de traições. Triste, desesperado, saiu de</br>casa, e dirigiu-se para o lado da ponte, caminho de</br>\n",
       "<mark class=\"entity\" style=\"background: #ddd; padding: 0.45em 0.6em; margin: 0 0.25em; line-height: 1; border-radius: 0.35em;\">\n",
       "    São Cristóvão\n",
       "    <span style=\"font-size: 0.8em; font-weight: bold; line-height: 1; border-radius: 0.35em; vertical-align: middle; margin-left: 0.5rem\">PER</span>\n",
       "</mark>\n",
       ".</br>- Para que lutar? - dizia ele -. Vou com as polcas... Viva a polca!</br>Homens que passavam por ele, e ouviam isto, ficavam olhando, como para um doudo. E ele ia andando, alucinado, mortificado, eterna peteca entre a ambição e a vocação... Passou o velho matadouro; ao chegar à porteira da estrada de ferro, teve ideia de ir pelo trilho acima e esperar o primeiro trem que viesse e o esmagasse. O guarda fê-lo recuar. Voltou a si e tornou a casa.</br>Poucos dias depois - uma clara e fresca manhã de maio de 1876 -, eram seis horas, \n",
       "<mark class=\"entity\" style=\"background: #ddd; padding: 0.45em 0.6em; margin: 0 0.25em; line-height: 1; border-radius: 0.35em;\">\n",
       "    Pestana\n",
       "    <span style=\"font-size: 0.8em; font-weight: bold; line-height: 1; border-radius: 0.35em; vertical-align: middle; margin-left: 0.5rem\">PER</span>\n",
       "</mark>\n",
       " sentiu nos dedos um frêmito particular e conhecido. Ergueu-se devagarinho, para não acordar \n",
       "<mark class=\"entity\" style=\"background: #ddd; padding: 0.45em 0.6em; margin: 0 0.25em; line-height: 1; border-radius: 0.35em;\">\n",
       "    Maria\n",
       "    <span style=\"font-size: 0.8em; font-weight: bold; line-height: 1; border-radius: 0.35em; vertical-align: middle; margin-left: 0.5rem\">PER</span>\n",
       "</mark>\n",
       ", que tossira toda noite, e agora dormia profundamente. Foi para a sala dos retratos, abriu o piano, e, o mais surdamente que pôde, extraiu uma polca. Fê-la publicar com um pseudônimo; nos dois meses seguintes compôs e publicou mais duas. \n",
       "<mark class=\"entity\" style=\"background: #ddd; padding: 0.45em 0.6em; margin: 0 0.25em; line-height: 1; border-radius: 0.35em;\">\n",
       "    Maria\n",
       "    <span style=\"font-size: 0.8em; font-weight: bold; line-height: 1; border-radius: 0.35em; vertical-align: middle; margin-left: 0.5rem\">PER</span>\n",
       "</mark>\n",
       " não soube nada; ia tossindo e morrendo, até que expirou, uma noite, nos braços do marido, apavorado e desesperado.</br>Era noite de \n",
       "<mark class=\"entity\" style=\"background: #ddd; padding: 0.45em 0.6em; margin: 0 0.25em; line-height: 1; border-radius: 0.35em;\">\n",
       "    Natal\n",
       "    <span style=\"font-size: 0.8em; font-weight: bold; line-height: 1; border-radius: 0.35em; vertical-align: middle; margin-left: 0.5rem\">MISC</span>\n",
       "</mark>\n",
       ". A dor do \n",
       "<mark class=\"entity\" style=\"background: #ff9561; padding: 0.45em 0.6em; margin: 0 0.25em; line-height: 1; border-radius: 0.35em;\">\n",
       "    Pestana\n",
       "    <span style=\"font-size: 0.8em; font-weight: bold; line-height: 1; border-radius: 0.35em; vertical-align: middle; margin-left: 0.5rem\">LOC</span>\n",
       "</mark>\n",
       " teve um acréscimo, porque na vizinhança havia um baile, em que</br>se tocaram várias de suas melhores polcas. Já o baile era duro de sofrer; as suas composições davam-lhe um ar de ironia e perversidade. Ele sentia a cadência dos</br>passos, adivinhava os movimentos, porventura lúbricos, a que obrigava alguma daquelas composições; tudo isso ao pé do cadáver pálido, um molho de ossos, estendido</br>na cama... Todas as horas da noite passaram assim, vagarosas ou rápidas, úmidas de lágrimas e de suor,</br>de águas-da-colônia e de \n",
       "<mark class=\"entity\" style=\"background: #ff9561; padding: 0.45em 0.6em; margin: 0 0.25em; line-height: 1; border-radius: 0.35em;\">\n",
       "    Labarraque\n",
       "    <span style=\"font-size: 0.8em; font-weight: bold; line-height: 1; border-radius: 0.35em; vertical-align: middle; margin-left: 0.5rem\">LOC</span>\n",
       "</mark>\n",
       ", saltando sem parar, como ao som da polca de um grande \n",
       "<mark class=\"entity\" style=\"background: #ddd; padding: 0.45em 0.6em; margin: 0 0.25em; line-height: 1; border-radius: 0.35em;\">\n",
       "    Pestana\n",
       "    <span style=\"font-size: 0.8em; font-weight: bold; line-height: 1; border-radius: 0.35em; vertical-align: middle; margin-left: 0.5rem\">PER</span>\n",
       "</mark>\n",
       " invisível.</br>Enterrada a mulher, o viúvo teve uma única preocupação: deixar a música, depois de compor um \n",
       "<mark class=\"entity\" style=\"background: #ddd; padding: 0.45em 0.6em; margin: 0 0.25em; line-height: 1; border-radius: 0.35em;\">\n",
       "    Requiem\n",
       "    <span style=\"font-size: 0.8em; font-weight: bold; line-height: 1; border-radius: 0.35em; vertical-align: middle; margin-left: 0.5rem\">MISC</span>\n",
       "</mark>\n",
       ", que faria executar no primeiro aniversário da morte de \n",
       "<mark class=\"entity\" style=\"background: #ddd; padding: 0.45em 0.6em; margin: 0 0.25em; line-height: 1; border-radius: 0.35em;\">\n",
       "    Maria\n",
       "    <span style=\"font-size: 0.8em; font-weight: bold; line-height: 1; border-radius: 0.35em; vertical-align: middle; margin-left: 0.5rem\">PER</span>\n",
       "</mark>\n",
       ". Escolheria outro emprego, escrevente, carteiro, mascate, qualquer cousa que lhe fizesse esquecer a arte assassina e surda.</br>Começou a obra; empregou tudo, arrojo, paciência, meditação, e até os caprichos do acaso, como fizera outrora, imitando</br>\n",
       "<mark class=\"entity\" style=\"background: #ddd; padding: 0.45em 0.6em; margin: 0 0.25em; line-height: 1; border-radius: 0.35em;\">\n",
       "    Mozart\n",
       "    <span style=\"font-size: 0.8em; font-weight: bold; line-height: 1; border-radius: 0.35em; vertical-align: middle; margin-left: 0.5rem\">PER</span>\n",
       "</mark>\n",
       ". \n",
       "<mark class=\"entity\" style=\"background: #ddd; padding: 0.45em 0.6em; margin: 0 0.25em; line-height: 1; border-radius: 0.35em;\">\n",
       "    Releu\n",
       "    <span style=\"font-size: 0.8em; font-weight: bold; line-height: 1; border-radius: 0.35em; vertical-align: middle; margin-left: 0.5rem\">PER</span>\n",
       "</mark>\n",
       " e estudou o \n",
       "<mark class=\"entity\" style=\"background: #ddd; padding: 0.45em 0.6em; margin: 0 0.25em; line-height: 1; border-radius: 0.35em;\">\n",
       "    Requiem\n",
       "    <span style=\"font-size: 0.8em; font-weight: bold; line-height: 1; border-radius: 0.35em; vertical-align: middle; margin-left: 0.5rem\">MISC</span>\n",
       "</mark>\n",
       " deste autor. Passaram-se semanas e meses. A obra, célere a</br>princípio, afrouxou o andar. \n",
       "<mark class=\"entity\" style=\"background: #ff9561; padding: 0.45em 0.6em; margin: 0 0.25em; line-height: 1; border-radius: 0.35em;\">\n",
       "    Pestana\n",
       "    <span style=\"font-size: 0.8em; font-weight: bold; line-height: 1; border-radius: 0.35em; vertical-align: middle; margin-left: 0.5rem\">LOC</span>\n",
       "</mark>\n",
       " tinha altos e baixos. Ora achava-a incompleta, não lhe sentia a alma sacra, nem ideia, nem inspiração, nem método; ora</br>elevava-se-lhe o coração e trabalhava com vigor. Oito meses, nove, dez, onze, e o \n",
       "<mark class=\"entity\" style=\"background: #ddd; padding: 0.45em 0.6em; margin: 0 0.25em; line-height: 1; border-radius: 0.35em;\">\n",
       "    Requiem\n",
       "    <span style=\"font-size: 0.8em; font-weight: bold; line-height: 1; border-radius: 0.35em; vertical-align: middle; margin-left: 0.5rem\">MISC</span>\n",
       "</mark>\n",
       " não estava concluído. \n",
       "<mark class=\"entity\" style=\"background: #ff9561; padding: 0.45em 0.6em; margin: 0 0.25em; line-height: 1; border-radius: 0.35em;\">\n",
       "    Redobrou\n",
       "    <span style=\"font-size: 0.8em; font-weight: bold; line-height: 1; border-radius: 0.35em; vertical-align: middle; margin-left: 0.5rem\">LOC</span>\n",
       "</mark>\n",
       " de esforços; esqueceu lições e</br>amizades. Tinha refeito muitas vezes a obra; mas agora queria concluí-la, fosse como fosse. Quinze dias, oito, cinco... A aurora do aniversário veio achá-lo trabalhando.</br>\n",
       "<mark class=\"entity\" style=\"background: #ddd; padding: 0.45em 0.6em; margin: 0 0.25em; line-height: 1; border-radius: 0.35em;\">\n",
       "    Contentou-se\n",
       "    <span style=\"font-size: 0.8em; font-weight: bold; line-height: 1; border-radius: 0.35em; vertical-align: middle; margin-left: 0.5rem\">PER</span>\n",
       "</mark>\n",
       " da missa rezada e simples, para ele só. Não se pode dizer se todas as lágrimas que lhe vieram sorrateiramente aos olhos foram do marido, ou se algumas eram do compositor. \n",
       "<mark class=\"entity\" style=\"background: #ddd; padding: 0.45em 0.6em; margin: 0 0.25em; line-height: 1; border-radius: 0.35em;\">\n",
       "    Certo\n",
       "    <span style=\"font-size: 0.8em; font-weight: bold; line-height: 1; border-radius: 0.35em; vertical-align: middle; margin-left: 0.5rem\">PER</span>\n",
       "</mark>\n",
       " é que nunca mais tornou ao \n",
       "<mark class=\"entity\" style=\"background: #ddd; padding: 0.45em 0.6em; margin: 0 0.25em; line-height: 1; border-radius: 0.35em;\">\n",
       "    Requiem\n",
       "    <span style=\"font-size: 0.8em; font-weight: bold; line-height: 1; border-radius: 0.35em; vertical-align: middle; margin-left: 0.5rem\">MISC</span>\n",
       "</mark>\n",
       ".</br>&quot;Para quê?&quot;, dizia ele a si mesmo.</br>Correu ainda um ano. No princípio de 1878, apareceu-lhe o editor.</br>- Lá vão dois anos - disse este - que nos não dá um ar da sua graça. Toda a gente pergunta se o senhor perdeu o talento. Que tem feito?</br>- Nada.</br>- Bem sei o golpe que o feriu; mas lá vão dois anos. Venho propor-lhe um contrato: vinte polcas durante doze meses; o preço antigo, e uma porcentagem</br>maior na venda. Depois, acabado o ano, podemos renovar.</br>\n",
       "<mark class=\"entity\" style=\"background: #ddd; padding: 0.45em 0.6em; margin: 0 0.25em; line-height: 1; border-radius: 0.35em;\">\n",
       "    Pestana\n",
       "    <span style=\"font-size: 0.8em; font-weight: bold; line-height: 1; border-radius: 0.35em; vertical-align: middle; margin-left: 0.5rem\">PER</span>\n",
       "</mark>\n",
       " assentiu com um gesto. Poucas lições tinha, vendera a casa para saldar dívidas, e as necessidades iam comendo o resto, que era assaz escasso. Aceitou o contrato.</br>- Mas a primeira polca há de ser já - explicou o editor -. É urgente.</br>Viu a carta do \n",
       "<mark class=\"entity\" style=\"background: #ddd; padding: 0.45em 0.6em; margin: 0 0.25em; line-height: 1; border-radius: 0.35em;\">\n",
       "    Imperador\n",
       "    <span style=\"font-size: 0.8em; font-weight: bold; line-height: 1; border-radius: 0.35em; vertical-align: middle; margin-left: 0.5rem\">PER</span>\n",
       "</mark>\n",
       " ao \n",
       "<mark class=\"entity\" style=\"background: #ddd; padding: 0.45em 0.6em; margin: 0 0.25em; line-height: 1; border-radius: 0.35em;\">\n",
       "    Caxias\n",
       "    <span style=\"font-size: 0.8em; font-weight: bold; line-height: 1; border-radius: 0.35em; vertical-align: middle; margin-left: 0.5rem\">PER</span>\n",
       "</mark>\n",
       "? Os liberais foram chamados ao poder; vão fazer a reforma eleitoral. A</br>polca há de chamar-se: \n",
       "<mark class=\"entity\" style=\"background: #ff9561; padding: 0.45em 0.6em; margin: 0 0.25em; line-height: 1; border-radius: 0.35em;\">\n",
       "    Bravos\n",
       "    <span style=\"font-size: 0.8em; font-weight: bold; line-height: 1; border-radius: 0.35em; vertical-align: middle; margin-left: 0.5rem\">LOC</span>\n",
       "</mark>\n",
       " à eleição direta! Não é política; é um bom título de ocasião.</br>\n",
       "<mark class=\"entity\" style=\"background: #ddd; padding: 0.45em 0.6em; margin: 0 0.25em; line-height: 1; border-radius: 0.35em;\">\n",
       "    Pestana\n",
       "    <span style=\"font-size: 0.8em; font-weight: bold; line-height: 1; border-radius: 0.35em; vertical-align: middle; margin-left: 0.5rem\">PER</span>\n",
       "</mark>\n",
       " compôs a primeira obra do contrato. Apesar do longo tempo de silêncio, não perdera a originalidade nem a inspiração. Trazia a mesma nota genial. As outras</br>polcas vieram vindo, regularmente. \n",
       "<mark class=\"entity\" style=\"background: #ddd; padding: 0.45em 0.6em; margin: 0 0.25em; line-height: 1; border-radius: 0.35em;\">\n",
       "    Conservara\n",
       "    <span style=\"font-size: 0.8em; font-weight: bold; line-height: 1; border-radius: 0.35em; vertical-align: middle; margin-left: 0.5rem\">PER</span>\n",
       "</mark>\n",
       " os retratos e os repertórios; mas fugia de gastar todas as noites ao piano, para não cair em novas tentativas. Já agora</br>pedia uma entrada de graça, sempre que havia alguma boa ópera ou concerto de artista, ia, metia-se a um canto, gozando aquela porção de cousas que nunca lhe haviam de</br>brotar do cérebro. Uma ou outra vez, ao tornar para casa, cheio de música, despertava nele o maestro inédito; então, sentava-se ao piano, e, sem ideia, tirava algumas</br>notas, até que ia dormir, vinte ou trinta minutos depois.</br>Assim foram passando os anos, até 1885. A fama do \n",
       "<mark class=\"entity\" style=\"background: #ddd; padding: 0.45em 0.6em; margin: 0 0.25em; line-height: 1; border-radius: 0.35em;\">\n",
       "    Pestana\n",
       "    <span style=\"font-size: 0.8em; font-weight: bold; line-height: 1; border-radius: 0.35em; vertical-align: middle; margin-left: 0.5rem\">PER</span>\n",
       "</mark>\n",
       " dera-lhe definitivamente o primeiro lugar entre os compositores de polcas; mas o primeiro lugar da</br>aldeia não contentava a este</br>\n",
       "<mark class=\"entity\" style=\"background: #ddd; padding: 0.45em 0.6em; margin: 0 0.25em; line-height: 1; border-radius: 0.35em;\">\n",
       "    César\n",
       "    <span style=\"font-size: 0.8em; font-weight: bold; line-height: 1; border-radius: 0.35em; vertical-align: middle; margin-left: 0.5rem\">PER</span>\n",
       "</mark>\n",
       ", que continuava a preferir-lhe não o segundo, mas o centésimo em \n",
       "<mark class=\"entity\" style=\"background: #ff9561; padding: 0.45em 0.6em; margin: 0 0.25em; line-height: 1; border-radius: 0.35em;\">\n",
       "    Roma\n",
       "    <span style=\"font-size: 0.8em; font-weight: bold; line-height: 1; border-radius: 0.35em; vertical-align: middle; margin-left: 0.5rem\">LOC</span>\n",
       "</mark>\n",
       ". Tinha ainda as alternativas</br>de outro tempo, acerca de suas composições; a diferença é que eram menos violentas. Nem entusiasmo nas primeiras horas, nem horror depois da primeira semana; algum prazer e certo fastio.</br>Naquele ano, apanhou uma febre de nada, que em poucos dias cresceu, até virar perniciosa. Já estava em perigo, quando lhe apareceu o editor, que não sabia da</br>doença, e ia dar-lhe notícia da</br>subida dos conservadores, e pedir-lhe uma polca de ocasião. O enfermeiro, pobre clarineta de</br>teatro, referiu-lhe o estado do \n",
       "<mark class=\"entity\" style=\"background: #ff9561; padding: 0.45em 0.6em; margin: 0 0.25em; line-height: 1; border-radius: 0.35em;\">\n",
       "    Pestana\n",
       "    <span style=\"font-size: 0.8em; font-weight: bold; line-height: 1; border-radius: 0.35em; vertical-align: middle; margin-left: 0.5rem\">LOC</span>\n",
       "</mark>\n",
       ", de modo que o editor entendeu calar-se. O doente é que instou para que lhe dissesse o que era; o editor obedeceu.</br>- Mas há de ser quando estiver bom de todo - concluiu.</br>- Logo que a febre decline um pouco - disse o \n",
       "<mark class=\"entity\" style=\"background: #ff9561; padding: 0.45em 0.6em; margin: 0 0.25em; line-height: 1; border-radius: 0.35em;\">\n",
       "    Pestana\n",
       "    <span style=\"font-size: 0.8em; font-weight: bold; line-height: 1; border-radius: 0.35em; vertical-align: middle; margin-left: 0.5rem\">LOC</span>\n",
       "</mark>\n",
       ".</br>Seguiu-se uma pausa de alguns segundos. O clarineta foi pé ante pé preparar o remédio; o editor levantou-se e despediu-se.</br>- \n",
       "<mark class=\"entity\" style=\"background: #ddd; padding: 0.45em 0.6em; margin: 0 0.25em; line-height: 1; border-radius: 0.35em;\">\n",
       "    Adeus\n",
       "    <span style=\"font-size: 0.8em; font-weight: bold; line-height: 1; border-radius: 0.35em; vertical-align: middle; margin-left: 0.5rem\">PER</span>\n",
       "</mark>\n",
       ".</br>- Olhe - disse o \n",
       "<mark class=\"entity\" style=\"background: #ddd; padding: 0.45em 0.6em; margin: 0 0.25em; line-height: 1; border-radius: 0.35em;\">\n",
       "    Pestana\n",
       "    <span style=\"font-size: 0.8em; font-weight: bold; line-height: 1; border-radius: 0.35em; vertical-align: middle; margin-left: 0.5rem\">PER</span>\n",
       "</mark>\n",
       " -, como é provável que eu morra por estes dias, faço-lhe logo duas polcas; a outra servirá para quando subirem os liberais.</br>Foi a única pilhéria que disse em toda a vida, e era tempo, porque expirou na madrugada seguinte, às quatro horas e cinco minutos, bem com os homens e mal</br>consigo mesmo.</div></span>"
      ],
      "text/plain": [
       "<IPython.core.display.HTML object>"
      ]
     },
     "metadata": {},
     "output_type": "display_data"
    }
   ],
   "source": [
    "spacy.displacy.render(doc,style='ent') # renderizando a entidade"
   ]
  },
  {
   "cell_type": "markdown",
   "metadata": {},
   "source": [
    "#### Analisando os `tokens`do texto"
   ]
  },
  {
   "cell_type": "code",
   "execution_count": 8,
   "metadata": {},
   "outputs": [],
   "source": [
    "# importando tokens\n",
    "from spacy import tokens "
   ]
  },
  {
   "cell_type": "code",
   "execution_count": 9,
   "metadata": {},
   "outputs": [],
   "source": [
    "# transformando em tokens\n",
    "tokens = [token.orth_ for token in doc] # token.orth_ = token.text"
   ]
  },
  {
   "cell_type": "markdown",
   "metadata": {},
   "source": [
    "##### Classes gramaticais"
   ]
  },
  {
   "cell_type": "code",
   "execution_count": 10,
   "metadata": {},
   "outputs": [
    {
     "name": "stdout",
     "output_type": "stream",
     "text": [
      "Classes no corpus: [('Um', 'DET'), ('homem', 'NOUN'), ('célebre', 'ADJ'), (' ', 'SPACE'), ('*', 'PUNCT'), ('\\n', 'SPACE'), ('-', 'PROPN'), ('Ah', 'PROPN'), ('!', 'PUNCT'), ('O', 'DET'), ('senhor', 'NOUN'), ('é', 'VERB'), ('que', 'SCONJ'), ('é', 'AUX'), ('o', 'DET'), ('Pestana', 'PROPN'), ('?', 'PUNCT'), ('-', 'PUNCT'), ('perguntou', 'VERB'), ('sinhazinha', 'NOUN'), ('Mota', 'PROPN'), (',', 'PUNCT'), ('fazendo', 'VERB'), ('um', 'DET'), ('largo', 'ADJ'), ('gesto', 'NOUN'), ('admirativo', 'ADJ'), ('.', 'PUNCT'), ('E', 'CCONJ'), ('logo', 'ADV'), ('depois', 'ADV'), (',', 'PUNCT'), ('corrigindo', 'VERB'), ('a', 'DET'), ('familiaridade', 'NOUN'), ('-', 'PUNCT'), (':', 'PUNCT'), ('Desculpe', 'INTJ'), ('\\n', 'SPACE'), ('meu', 'DET'), ('modo', 'NOUN'), (',', 'PUNCT'), ('mas', 'CCONJ'), ('...', 'PUNCT'), ('é', 'AUX'), ('mesmo', 'ADV'), ('o', 'DET'), ('senhor', 'NOUN'), ('?', 'PUNCT'), ('\\n', 'SPACE')]\n"
     ]
    }
   ],
   "source": [
    "classes = [(token.orth_, token.pos_) for token in doc] # part of speech = classes gramaticais\n",
    "print(f'Classes no corpus: {classes[:50]}')"
   ]
  },
  {
   "cell_type": "markdown",
   "metadata": {},
   "source": [
    "##### Morfologia"
   ]
  },
  {
   "cell_type": "code",
   "execution_count": 11,
   "metadata": {},
   "outputs": [
    {
     "name": "stdout",
     "output_type": "stream",
     "text": [
      "Morfologias: [('Um', Definite=Ind|Gender=Masc|Number=Sing|PronType=Art), ('homem', Gender=Masc|Number=Sing), ('célebre', Gender=Masc|Number=Sing), (' ', ), ('*', ), ('\\n', ), ('-', Number=Sing), ('Ah', Number=Sing), ('!', ), ('O', Definite=Def|Gender=Masc|Number=Sing|PronType=Art), ('senhor', Gender=Masc|Number=Sing), ('é', Mood=Ind|Number=Sing|Person=3|Tense=Pres|VerbForm=Fin), ('que', ), ('é', Mood=Ind|Number=Sing|Person=3|Tense=Pres|VerbForm=Fin), ('o', Definite=Def|Gender=Masc|Number=Sing|PronType=Art), ('Pestana', Gender=Masc|Number=Sing), ('?', ), ('-', ), ('perguntou', Mood=Ind|Number=Sing|Person=3|Tense=Past|VerbForm=Fin), ('sinhazinha', Gender=Fem|Number=Sing), ('Mota', Gender=Fem|Number=Sing), (',', ), ('fazendo', VerbForm=Ger), ('um', Definite=Ind|Gender=Masc|Number=Sing|PronType=Art), ('largo', Gender=Masc|Number=Sing), ('gesto', Gender=Masc|Number=Sing), ('admirativo', Gender=Masc|Number=Sing), ('.', ), ('E', ), ('logo', ), ('depois', ), (',', ), ('corrigindo', VerbForm=Ger), ('a', Definite=Def|Gender=Fem|Number=Sing|PronType=Art), ('familiaridade', Gender=Fem|Number=Sing), ('-', ), (':', ), ('Desculpe', ), ('\\n', ), ('meu', Gender=Masc|Number=Sing|PronType=Prs), ('modo', Gender=Masc|Number=Sing), (',', ), ('mas', ), ('...', ), ('é', Mood=Ind|Number=Sing|Person=3|Tense=Pres|VerbForm=Fin), ('mesmo', ), ('o', Definite=Def|Gender=Masc|Number=Sing|PronType=Art), ('senhor', Gender=Masc|Number=Sing), ('?', ), ('\\n', )]\n"
     ]
    }
   ],
   "source": [
    "morfologicas = [(token.orth_, token.morph) for token in doc] # morfologia de cada token\n",
    "print(f'Morfologias: {morfologicas[:50]}')"
   ]
  },
  {
   "cell_type": "markdown",
   "metadata": {},
   "source": [
    "##### Verbos"
   ]
  },
  {
   "cell_type": "code",
   "execution_count": 12,
   "metadata": {},
   "outputs": [
    {
     "name": "stdout",
     "output_type": "stream",
     "text": [
      "Verbos no corpus: ['ser', 'perguntar', 'fazer', 'corrigir', 'responder', 'enxugar', 'ir', 'chegar', 'fazer', 'parar', 'ir', 'jantar', 'Amava', 'entravar', 'folgar', 'rir', 'falecer', 'arranjar', 'pedir', 'tocar', 'acabar', 'curvou-se', 'correr', 'Finda', 'descansar', 'correr', 'bulir', 'fazer', 'dissimular', 'inclinou-se', 'calar', 'ser', 'Ouvidos', 'derramou-se', 'correr', 'entrar', 'saracotear', 'publicar', 'haver', 'conhecido', 'chegar', 'supor', 'virar', 'meter', 'cachear', 'rapar', 'dizer', 'ver', 'ver', 'acabar']\n"
     ]
    }
   ],
   "source": [
    "lemma_tokens = [token.lemma_ for token in doc if token.pos_ == 'VERB'] # reduz a palavra para o lema, nesse caso, apenas os verbos\n",
    "print(f'Verbos no corpus: {lemma_tokens[:50]}')"
   ]
  },
  {
   "cell_type": "markdown",
   "metadata": {},
   "source": [
    "##### Apenas tokens alfabéticos"
   ]
  },
  {
   "cell_type": "code",
   "execution_count": 13,
   "metadata": {},
   "outputs": [
    {
     "name": "stdout",
     "output_type": "stream",
     "text": [
      "Tokens alfa: ['Um', 'homem', 'célebre', 'Ah', 'O', 'senhor', 'é', 'que', 'é', 'o', 'Pestana', 'perguntou', 'sinhazinha', 'Mota', 'fazendo', 'um', 'largo', 'gesto', 'admirativo', 'E', 'logo', 'depois', 'corrigindo', 'a', 'familiaridade', 'Desculpe', 'meu', 'modo', 'mas', 'é', 'mesmo', 'o', 'senhor', 'Vexado', 'aborrecido', 'Pestana', 'respondeu', 'que', 'sim', 'que', 'era', 'ele', 'Vinha', 'do', 'piano', 'enxugando', 'a', 'testa', 'com', 'o']\n"
     ]
    }
   ],
   "source": [
    "alpha_tokens = [token.orth_ for token in doc if token.is_alpha]\n",
    "print(f'Tokens alfa: {alpha_tokens[:50]}')"
   ]
  },
  {
   "cell_type": "markdown",
   "metadata": {},
   "source": [
    "##### Seperar o texto em pedaços e analisar cada um"
   ]
  },
  {
   "cell_type": "code",
   "execution_count": 14,
   "metadata": {},
   "outputs": [],
   "source": [
    "# criar grupos de tokens\n",
    "import math\n",
    "number_of_chunks = 80  # numero de grupos\n",
    "\n",
    "chunk_size = math.ceil(len(corpus) / number_of_chunks) # tamanho de cada grupo\n",
    "\n",
    "text_chunks = [] # lista de grupos\n",
    "\n",
    "for number in range(0, len(corpus), chunk_size): # para cada grupo\n",
    "    text_chunk = corpus[number:number+chunk_size]\n",
    "    text_chunks.append(text_chunk) "
   ]
  },
  {
   "cell_type": "code",
   "execution_count": 15,
   "metadata": {},
   "outputs": [],
   "source": [
    "chunked_documents = list(nlp.pipe(text_chunks)) # processando cada grupo"
   ]
  },
  {
   "cell_type": "code",
   "execution_count": 16,
   "metadata": {},
   "outputs": [],
   "source": [
    "import pandas as pd # para criar um dataframe\n",
    "from collections import Counter # para contar o numero de tokens por grupo"
   ]
  },
  {
   "cell_type": "code",
   "execution_count": 17,
   "metadata": {},
   "outputs": [
    {
     "data": {
      "text/html": [
       "<div>\n",
       "<style scoped>\n",
       "    .dataframe tbody tr th:only-of-type {\n",
       "        vertical-align: middle;\n",
       "    }\n",
       "\n",
       "    .dataframe tbody tr th {\n",
       "        vertical-align: top;\n",
       "    }\n",
       "\n",
       "    .dataframe thead th {\n",
       "        text-align: right;\n",
       "    }\n",
       "</style>\n",
       "<table border=\"1\" class=\"dataframe\">\n",
       "  <thead>\n",
       "    <tr style=\"text-align: right;\">\n",
       "      <th></th>\n",
       "      <th>character</th>\n",
       "      <th>count</th>\n",
       "    </tr>\n",
       "  </thead>\n",
       "  <tbody>\n",
       "    <tr>\n",
       "      <th>0</th>\n",
       "      <td>Pestana</td>\n",
       "      <td>27</td>\n",
       "    </tr>\n",
       "    <tr>\n",
       "      <th>1</th>\n",
       "      <td>Maria</td>\n",
       "      <td>8</td>\n",
       "    </tr>\n",
       "    <tr>\n",
       "      <th>2</th>\n",
       "      <td>Mozart</td>\n",
       "      <td>6</td>\n",
       "    </tr>\n",
       "    <tr>\n",
       "      <th>3</th>\n",
       "      <td>Beethoven</td>\n",
       "      <td>3</td>\n",
       "    </tr>\n",
       "    <tr>\n",
       "      <th>4</th>\n",
       "      <td>Vexado</td>\n",
       "      <td>2</td>\n",
       "    </tr>\n",
       "    <tr>\n",
       "      <th>5</th>\n",
       "      <td>Bach</td>\n",
       "      <td>2</td>\n",
       "    </tr>\n",
       "    <tr>\n",
       "      <th>6</th>\n",
       "      <td>Schumann</td>\n",
       "      <td>2</td>\n",
       "    </tr>\n",
       "    <tr>\n",
       "      <th>7</th>\n",
       "      <td>Chopin</td>\n",
       "      <td>2</td>\n",
       "    </tr>\n",
       "    <tr>\n",
       "      <th>8</th>\n",
       "      <td>Camargo</td>\n",
       "      <td>1</td>\n",
       "    </tr>\n",
       "    <tr>\n",
       "      <th>9</th>\n",
       "      <td>Amava</td>\n",
       "      <td>1</td>\n",
       "    </tr>\n",
       "    <tr>\n",
       "      <th>10</th>\n",
       "      <td>Nhonhô</td>\n",
       "      <td>1</td>\n",
       "    </tr>\n",
       "    <tr>\n",
       "      <th>11</th>\n",
       "      <td>Sinhazinha Mota</td>\n",
       "      <td>1</td>\n",
       "    </tr>\n",
       "    <tr>\n",
       "      <th>12</th>\n",
       "      <td>Dançava-se</td>\n",
       "      <td>1</td>\n",
       "    </tr>\n",
       "    <tr>\n",
       "      <th>13</th>\n",
       "      <td>rentezinho</td>\n",
       "      <td>1</td>\n",
       "    </tr>\n",
       "    <tr>\n",
       "      <th>14</th>\n",
       "      <td>Cimarosa</td>\n",
       "      <td>1</td>\n",
       "    </tr>\n",
       "    <tr>\n",
       "      <th>15</th>\n",
       "      <td>Gluck</td>\n",
       "      <td>1</td>\n",
       "    </tr>\n",
       "    <tr>\n",
       "      <th>16</th>\n",
       "      <td>Haydn</td>\n",
       "      <td>1</td>\n",
       "    </tr>\n",
       "    <tr>\n",
       "      <th>17</th>\n",
       "      <td>sinhazinha Mota</td>\n",
       "      <td>1</td>\n",
       "    </tr>\n",
       "    <tr>\n",
       "      <th>18</th>\n",
       "      <td>pux</td>\n",
       "      <td>1</td>\n",
       "    </tr>\n",
       "    <tr>\n",
       "      <th>19</th>\n",
       "      <td>petiu Pestana</td>\n",
       "      <td>1</td>\n",
       "    </tr>\n",
       "    <tr>\n",
       "      <th>20</th>\n",
       "      <td>Candongas</td>\n",
       "      <td>1</td>\n",
       "    </tr>\n",
       "    <tr>\n",
       "      <th>21</th>\n",
       "      <td>espavento</td>\n",
       "      <td>1</td>\n",
       "    </tr>\n",
       "    <tr>\n",
       "      <th>22</th>\n",
       "      <td>Senhora dona</td>\n",
       "      <td>1</td>\n",
       "    </tr>\n",
       "    <tr>\n",
       "      <th>23</th>\n",
       "      <td>ma noite</td>\n",
       "      <td>1</td>\n",
       "    </tr>\n",
       "    <tr>\n",
       "      <th>24</th>\n",
       "      <td>Mota</td>\n",
       "      <td>1</td>\n",
       "    </tr>\n",
       "    <tr>\n",
       "      <th>25</th>\n",
       "      <td>São Francisco de Paula</td>\n",
       "      <td>1</td>\n",
       "    </tr>\n",
       "    <tr>\n",
       "      <th>26</th>\n",
       "      <td>São Cristóvão</td>\n",
       "      <td>1</td>\n",
       "    </tr>\n",
       "    <tr>\n",
       "      <th>27</th>\n",
       "      <td>Releu</td>\n",
       "      <td>1</td>\n",
       "    </tr>\n",
       "    <tr>\n",
       "      <th>28</th>\n",
       "      <td>Contentou-se</td>\n",
       "      <td>1</td>\n",
       "    </tr>\n",
       "    <tr>\n",
       "      <th>29</th>\n",
       "      <td>Imperador</td>\n",
       "      <td>1</td>\n",
       "    </tr>\n",
       "    <tr>\n",
       "      <th>30</th>\n",
       "      <td>Caxias</td>\n",
       "      <td>1</td>\n",
       "    </tr>\n",
       "    <tr>\n",
       "      <th>31</th>\n",
       "      <td>Conservara</td>\n",
       "      <td>1</td>\n",
       "    </tr>\n",
       "    <tr>\n",
       "      <th>32</th>\n",
       "      <td>César</td>\n",
       "      <td>1</td>\n",
       "    </tr>\n",
       "    <tr>\n",
       "      <th>33</th>\n",
       "      <td>Adeus</td>\n",
       "      <td>1</td>\n",
       "    </tr>\n",
       "  </tbody>\n",
       "</table>\n",
       "</div>"
      ],
      "text/plain": [
       "                 character  count\n",
       "0                  Pestana     27\n",
       "1                    Maria      8\n",
       "2                   Mozart      6\n",
       "3                Beethoven      3\n",
       "4                   Vexado      2\n",
       "5                     Bach      2\n",
       "6                 Schumann      2\n",
       "7                   Chopin      2\n",
       "8                  Camargo      1\n",
       "9                    Amava      1\n",
       "10                  Nhonhô      1\n",
       "11         Sinhazinha Mota      1\n",
       "12              Dançava-se      1\n",
       "13              rentezinho      1\n",
       "14                Cimarosa      1\n",
       "15                   Gluck      1\n",
       "16                   Haydn      1\n",
       "17         sinhazinha Mota      1\n",
       "18                     pux      1\n",
       "19           petiu Pestana      1\n",
       "20               Candongas      1\n",
       "21               espavento      1\n",
       "22            Senhora dona      1\n",
       "23                ma noite      1\n",
       "24                    Mota      1\n",
       "25  São Francisco de Paula      1\n",
       "26           São Cristóvão      1\n",
       "27                   Releu      1\n",
       "28            Contentou-se      1\n",
       "29               Imperador      1\n",
       "30                  Caxias      1\n",
       "31              Conservara      1\n",
       "32                   César      1\n",
       "33                   Adeus      1"
      ]
     },
     "execution_count": 17,
     "metadata": {},
     "output_type": "execute_result"
    }
   ],
   "source": [
    "# criando um dataframe com PESSOAS\n",
    "people = []\n",
    "\n",
    "for document in chunked_documents:\n",
    "    for named_entity in document.ents:\n",
    "        if named_entity.label_ == \"PER\":\n",
    "            people.append(named_entity.text)\n",
    "\n",
    "people_tally = Counter(people)\n",
    "\n",
    "df = pd.DataFrame(people_tally.most_common(), columns=['character', 'count'])\n",
    "df"
   ]
  },
  {
   "cell_type": "code",
   "execution_count": 18,
   "metadata": {},
   "outputs": [
    {
     "data": {
      "text/html": [
       "<div>\n",
       "<style scoped>\n",
       "    .dataframe tbody tr th:only-of-type {\n",
       "        vertical-align: middle;\n",
       "    }\n",
       "\n",
       "    .dataframe tbody tr th {\n",
       "        vertical-align: top;\n",
       "    }\n",
       "\n",
       "    .dataframe thead th {\n",
       "        text-align: right;\n",
       "    }\n",
       "</style>\n",
       "<table border=\"1\" class=\"dataframe\">\n",
       "  <thead>\n",
       "    <tr style=\"text-align: right;\">\n",
       "      <th></th>\n",
       "      <th>place</th>\n",
       "      <th>count</th>\n",
       "    </tr>\n",
       "  </thead>\n",
       "  <tbody>\n",
       "    <tr>\n",
       "      <th>0</th>\n",
       "      <td>Pestana</td>\n",
       "      <td>9</td>\n",
       "    </tr>\n",
       "    <tr>\n",
       "      <th>1</th>\n",
       "      <td>Aterrado</td>\n",
       "      <td>2</td>\n",
       "    </tr>\n",
       "    <tr>\n",
       "      <th>2</th>\n",
       "      <td>Areal</td>\n",
       "      <td>1</td>\n",
       "    </tr>\n",
       "    <tr>\n",
       "      <th>3</th>\n",
       "      <td>saracotear</td>\n",
       "      <td>1</td>\n",
       "    </tr>\n",
       "    <tr>\n",
       "      <th>4</th>\n",
       "      <td>Formosa</td>\n",
       "      <td>1</td>\n",
       "    </tr>\n",
       "    <tr>\n",
       "      <th>5</th>\n",
       "      <td>rava</td>\n",
       "      <td>1</td>\n",
       "    </tr>\n",
       "    <tr>\n",
       "      <th>6</th>\n",
       "      <td>ão</td>\n",
       "      <td>1</td>\n",
       "    </tr>\n",
       "    <tr>\n",
       "      <th>7</th>\n",
       "      <td>ordou</td>\n",
       "      <td>1</td>\n",
       "    </tr>\n",
       "    <tr>\n",
       "      <th>8</th>\n",
       "      <td>ha</td>\n",
       "      <td>1</td>\n",
       "    </tr>\n",
       "    <tr>\n",
       "      <th>9</th>\n",
       "      <td>Pingos</td>\n",
       "      <td>1</td>\n",
       "    </tr>\n",
       "    <tr>\n",
       "      <th>10</th>\n",
       "      <td>Mergulhava</td>\n",
       "      <td>1</td>\n",
       "    </tr>\n",
       "    <tr>\n",
       "      <th>11</th>\n",
       "      <td>Jordão</td>\n",
       "      <td>1</td>\n",
       "    </tr>\n",
       "    <tr>\n",
       "      <th>12</th>\n",
       "      <td>estana</td>\n",
       "      <td>1</td>\n",
       "    </tr>\n",
       "    <tr>\n",
       "      <th>13</th>\n",
       "      <td>sições</td>\n",
       "      <td>1</td>\n",
       "    </tr>\n",
       "    <tr>\n",
       "      <th>14</th>\n",
       "      <td>Labarraque</td>\n",
       "      <td>1</td>\n",
       "    </tr>\n",
       "    <tr>\n",
       "      <th>15</th>\n",
       "      <td>Redobrou</td>\n",
       "      <td>1</td>\n",
       "    </tr>\n",
       "    <tr>\n",
       "      <th>16</th>\n",
       "      <td>erdeu</td>\n",
       "      <td>1</td>\n",
       "    </tr>\n",
       "    <tr>\n",
       "      <th>17</th>\n",
       "      <td>Bravos</td>\n",
       "      <td>1</td>\n",
       "    </tr>\n",
       "    <tr>\n",
       "      <th>18</th>\n",
       "      <td>Roma</td>\n",
       "      <td>1</td>\n",
       "    </tr>\n",
       "    <tr>\n",
       "      <th>19</th>\n",
       "      <td>riu-lhe</td>\n",
       "      <td>1</td>\n",
       "    </tr>\n",
       "  </tbody>\n",
       "</table>\n",
       "</div>"
      ],
      "text/plain": [
       "         place  count\n",
       "0      Pestana      9\n",
       "1     Aterrado      2\n",
       "2        Areal      1\n",
       "3   saracotear      1\n",
       "4      Formosa      1\n",
       "5         rava      1\n",
       "6           ão      1\n",
       "7        ordou      1\n",
       "8           ha      1\n",
       "9       Pingos      1\n",
       "10  Mergulhava      1\n",
       "11      Jordão      1\n",
       "12      estana      1\n",
       "13      sições      1\n",
       "14  Labarraque      1\n",
       "15    Redobrou      1\n",
       "16       erdeu      1\n",
       "17      Bravos      1\n",
       "18        Roma      1\n",
       "19     riu-lhe      1"
      ]
     },
     "execution_count": 18,
     "metadata": {},
     "output_type": "execute_result"
    }
   ],
   "source": [
    "# criando um dataframe com LOCAIS\n",
    "places = []\n",
    "for document in chunked_documents:\n",
    "    for named_entity in document.ents:\n",
    "        if named_entity.label_ == \"LOC\":\n",
    "            places.append(named_entity.text)\n",
    "\n",
    "places_tally = Counter(places)\n",
    "\n",
    "df = pd.DataFrame(places_tally.most_common(), columns=['place', 'count'])\n",
    "df"
   ]
  },
  {
   "cell_type": "markdown",
   "metadata": {},
   "source": [
    "#### Analisar tokens em seu contexto"
   ]
  },
  {
   "cell_type": "code",
   "execution_count": 19,
   "metadata": {},
   "outputs": [],
   "source": [
    "# contexto\n",
    "from IPython.display import Markdown, display\n",
    "import re\n",
    "\n",
    "def get_ner_in_context(keyword, document, desired_ner_labels= False):\n",
    "    \n",
    "    if desired_ner_labels != False:\n",
    "        desired_ner_labels = desired_ner_labels\n",
    "    else:\n",
    "        desired_ner_labels = ['PER', 'ORG', 'LOC']  \n",
    "        \n",
    "    #Iterate through all the sentences in the document and pull out the text of each sentence\n",
    "    for sentence in document.sents:\n",
    "        #process each sentence\n",
    "        sentence_doc = nlp(sentence.text)\n",
    "        for named_entity in sentence_doc.ents:\n",
    "            #Check to see if the keyword is in the sentence (and ignore capitalization by making both lowercase)\n",
    "            if keyword.lower() in named_entity.text.lower()  and named_entity.label_ in desired_ner_labels:\n",
    "                #Use the regex library to replace linebreaks and to make the keyword bolded, again ignoring capitalization\n",
    "                #sentence_text = sentence.text\n",
    "            \n",
    "                sentence_text = re.sub('\\n', ' ', sentence.text)\n",
    "                sentence_text = re.sub(f\"{named_entity.text}\", f\"**{named_entity.text}**\", sentence_text, flags=re.IGNORECASE)\n",
    "\n",
    "                display(Markdown('---'))\n",
    "                display(Markdown(f\"**{named_entity.label_}**\"))\n",
    "                display(Markdown(sentence_text))"
   ]
  },
  {
   "cell_type": "code",
   "execution_count": 21,
   "metadata": {},
   "outputs": [
    {
     "data": {
      "text/markdown": [
       "---"
      ],
      "text/plain": [
       "<IPython.core.display.Markdown object>"
      ]
     },
     "metadata": {},
     "output_type": "display_data"
    },
    {
     "data": {
      "text/markdown": [
       "**PER**"
      ],
      "text/plain": [
       "<IPython.core.display.Markdown object>"
      ]
     },
     "metadata": {},
     "output_type": "display_data"
    },
    {
     "data": {
      "text/markdown": [
       " Os demais retratos eram de compositores clássicos, Cimarosa, **Mozart**, Beethoven,"
      ],
      "text/plain": [
       "<IPython.core.display.Markdown object>"
      ]
     },
     "metadata": {},
     "output_type": "display_data"
    },
    {
     "data": {
      "text/markdown": [
       "---"
      ],
      "text/plain": [
       "<IPython.core.display.Markdown object>"
      ]
     },
     "metadata": {},
     "output_type": "display_data"
    },
    {
     "data": {
      "text/markdown": [
       "**PER**"
      ],
      "text/plain": [
       "<IPython.core.display.Markdown object>"
      ]
     },
     "metadata": {},
     "output_type": "display_data"
    },
    {
     "data": {
      "text/markdown": [
       "era a vez de **Mozart**, pegou de um trecho, e executou-o do mesmo modo, com a alma alhures."
      ],
      "text/plain": [
       "<IPython.core.display.Markdown object>"
      ]
     },
     "metadata": {},
     "output_type": "display_data"
    },
    {
     "data": {
      "text/markdown": [
       "---"
      ],
      "text/plain": [
       "<IPython.core.display.Markdown object>"
      ]
     },
     "metadata": {},
     "output_type": "display_data"
    },
    {
     "data": {
      "text/markdown": [
       "**PER**"
      ],
      "text/plain": [
       "<IPython.core.display.Markdown object>"
      ]
     },
     "metadata": {},
     "output_type": "display_data"
    },
    {
     "data": {
      "text/markdown": [
       "Outras vezes, sentado, ao piano, deixava os dedos correrem, à ventura, a ver se as fantasias brotavam deles, como dos de **Mozart**;"
      ],
      "text/plain": [
       "<IPython.core.display.Markdown object>"
      ]
     },
     "metadata": {},
     "output_type": "display_data"
    },
    {
     "data": {
      "text/markdown": [
       "---"
      ],
      "text/plain": [
       "<IPython.core.display.Markdown object>"
      ]
     },
     "metadata": {},
     "output_type": "display_data"
    },
    {
     "data": {
      "text/markdown": [
       "**PER**"
      ],
      "text/plain": [
       "<IPython.core.display.Markdown object>"
      ]
     },
     "metadata": {},
     "output_type": "display_data"
    },
    {
     "data": {
      "text/markdown": [
       "ar carroça; mas daí a dez minutos, ei-lo outra vez, com os olhos em **Mozart**, a imitá-lo ao piano."
      ],
      "text/plain": [
       "<IPython.core.display.Markdown object>"
      ]
     },
     "metadata": {},
     "output_type": "display_data"
    },
    {
     "data": {
      "text/markdown": [
       "---"
      ],
      "text/plain": [
       "<IPython.core.display.Markdown object>"
      ]
     },
     "metadata": {},
     "output_type": "display_data"
    },
    {
     "data": {
      "text/markdown": [
       "**PER**"
      ],
      "text/plain": [
       "<IPython.core.display.Markdown object>"
      ]
     },
     "metadata": {},
     "output_type": "display_data"
    },
    {
     "data": {
      "text/markdown": [
       "da véspera, sem exasperação, sem nada pedir ao céu, sem interrogar os olhos de **Mozart**"
      ],
      "text/plain": [
       "<IPython.core.display.Markdown object>"
      ]
     },
     "metadata": {},
     "output_type": "display_data"
    },
    {
     "data": {
      "text/markdown": [
       "---"
      ],
      "text/plain": [
       "<IPython.core.display.Markdown object>"
      ]
     },
     "metadata": {},
     "output_type": "display_data"
    },
    {
     "data": {
      "text/markdown": [
       "**PER**"
      ],
      "text/plain": [
       "<IPython.core.display.Markdown object>"
      ]
     },
     "metadata": {},
     "output_type": "display_data"
    },
    {
     "data": {
      "text/markdown": [
       "empregou tudo, arrojo, paciência, meditação, e até os caprichos do acaso, como fizera outrora, imitando **Mozart**."
      ],
      "text/plain": [
       "<IPython.core.display.Markdown object>"
      ]
     },
     "metadata": {},
     "output_type": "display_data"
    }
   ],
   "source": [
    "for document in chunked_documents:\n",
    "    get_ner_in_context('Mozart', document)"
   ]
  },
  {
   "cell_type": "code",
   "execution_count": 22,
   "metadata": {},
   "outputs": [
    {
     "data": {
      "text/markdown": [
       "---"
      ],
      "text/plain": [
       "<IPython.core.display.Markdown object>"
      ]
     },
     "metadata": {},
     "output_type": "display_data"
    },
    {
     "data": {
      "text/markdown": [
       "**PER**"
      ],
      "text/plain": [
       "<IPython.core.display.Markdown object>"
      ]
     },
     "metadata": {},
     "output_type": "display_data"
    },
    {
     "data": {
      "text/markdown": [
       "\"**Maria**\", balbuciou a alma dele, \"dá-me o que não achei na solidão das noites, nem no tumulto dos dias."
      ],
      "text/plain": [
       "<IPython.core.display.Markdown object>"
      ]
     },
     "metadata": {},
     "output_type": "display_data"
    },
    {
     "data": {
      "text/markdown": [
       "---"
      ],
      "text/plain": [
       "<IPython.core.display.Markdown object>"
      ]
     },
     "metadata": {},
     "output_type": "display_data"
    },
    {
     "data": {
      "text/markdown": [
       "**PER**"
      ],
      "text/plain": [
       "<IPython.core.display.Markdown object>"
      ]
     },
     "metadata": {},
     "output_type": "display_data"
    },
    {
     "data": {
      "text/markdown": [
       "Chamar-lhe-ia  Ave, **Maria**."
      ],
      "text/plain": [
       "<IPython.core.display.Markdown object>"
      ]
     },
     "metadata": {},
     "output_type": "display_data"
    },
    {
     "data": {
      "text/markdown": [
       "---"
      ],
      "text/plain": [
       "<IPython.core.display.Markdown object>"
      ]
     },
     "metadata": {},
     "output_type": "display_data"
    },
    {
     "data": {
      "text/markdown": [
       "**PER**"
      ],
      "text/plain": [
       "<IPython.core.display.Markdown object>"
      ]
     },
     "metadata": {},
     "output_type": "display_data"
    },
    {
     "data": {
      "text/markdown": [
       "usa difícil, porque **Maria**, que amava igualmente a arte, vinha tocar com ele, ou ouvi-lo somente, horas e horas, na sala dos retratos."
      ],
      "text/plain": [
       "<IPython.core.display.Markdown object>"
      ]
     },
     "metadata": {},
     "output_type": "display_data"
    },
    {
     "data": {
      "text/markdown": [
       "---"
      ],
      "text/plain": [
       "<IPython.core.display.Markdown object>"
      ]
     },
     "metadata": {},
     "output_type": "display_data"
    },
    {
     "data": {
      "text/markdown": [
       "**PER**"
      ],
      "text/plain": [
       "<IPython.core.display.Markdown object>"
      ]
     },
     "metadata": {},
     "output_type": "display_data"
    },
    {
     "data": {
      "text/markdown": [
       " - Acaba - disse **Maria** -; não é Chopin?"
      ],
      "text/plain": [
       "<IPython.core.display.Markdown object>"
      ]
     },
     "metadata": {},
     "output_type": "display_data"
    },
    {
     "data": {
      "text/markdown": [
       "---"
      ],
      "text/plain": [
       "<IPython.core.display.Markdown object>"
      ]
     },
     "metadata": {},
     "output_type": "display_data"
    },
    {
     "data": {
      "text/markdown": [
       "**PER**"
      ],
      "text/plain": [
       "<IPython.core.display.Markdown object>"
      ]
     },
     "metadata": {},
     "output_type": "display_data"
    },
    {
     "data": {
      "text/markdown": [
       "**Maria** assentou-se ao piano, e, depois de algum esforço de memória, executou a peça de Chopin."
      ],
      "text/plain": [
       "<IPython.core.display.Markdown object>"
      ]
     },
     "metadata": {},
     "output_type": "display_data"
    },
    {
     "data": {
      "text/markdown": [
       "---"
      ],
      "text/plain": [
       "<IPython.core.display.Markdown object>"
      ]
     },
     "metadata": {},
     "output_type": "display_data"
    },
    {
     "data": {
      "text/markdown": [
       "**PER**"
      ],
      "text/plain": [
       "<IPython.core.display.Markdown object>"
      ]
     },
     "metadata": {},
     "output_type": "display_data"
    },
    {
     "data": {
      "text/markdown": [
       "acordar **Maria**, que tossira toda noite, e agora dormia profundamente."
      ],
      "text/plain": [
       "<IPython.core.display.Markdown object>"
      ]
     },
     "metadata": {},
     "output_type": "display_data"
    },
    {
     "data": {
      "text/markdown": [
       "---"
      ],
      "text/plain": [
       "<IPython.core.display.Markdown object>"
      ]
     },
     "metadata": {},
     "output_type": "display_data"
    },
    {
     "data": {
      "text/markdown": [
       "**PER**"
      ],
      "text/plain": [
       "<IPython.core.display.Markdown object>"
      ]
     },
     "metadata": {},
     "output_type": "display_data"
    },
    {
     "data": {
      "text/markdown": [
       "**Maria** não soube nada;"
      ],
      "text/plain": [
       "<IPython.core.display.Markdown object>"
      ]
     },
     "metadata": {},
     "output_type": "display_data"
    },
    {
     "data": {
      "text/markdown": [
       "---"
      ],
      "text/plain": [
       "<IPython.core.display.Markdown object>"
      ]
     },
     "metadata": {},
     "output_type": "display_data"
    },
    {
     "data": {
      "text/markdown": [
       "**PER**"
      ],
      "text/plain": [
       "<IPython.core.display.Markdown object>"
      ]
     },
     "metadata": {},
     "output_type": "display_data"
    },
    {
     "data": {
      "text/markdown": [
       " Enterrada a mulher, o viúvo teve uma única preocupação: deixar a música, depois de compor um Requiem, que faria executar no primeiro aniversário da morte de **Maria**."
      ],
      "text/plain": [
       "<IPython.core.display.Markdown object>"
      ]
     },
     "metadata": {},
     "output_type": "display_data"
    }
   ],
   "source": [
    "for document in chunked_documents:\n",
    "    get_ner_in_context('Maria', document)"
   ]
  },
  {
   "cell_type": "markdown",
   "metadata": {},
   "source": [
    "#### O que dá pra fazer com isso?"
   ]
  },
  {
   "cell_type": "markdown",
   "metadata": {},
   "source": [
    "### Big Data terá um impacto revolucionário na base epistemológica da História?\n",
    "\n",
    "* Voltaremos a uma história quantitativa?\n",
    "* Voltaremos a uma hegemonia das fontes escritas?\n",
    "* Ou não muda nada?\n",
    "\n",
    "> Digital approaches to the past that sit within the digital humanities use our computational power to force us to look at the materials differently, to think about them playfully, and to explore what these sometimes jarring deformations could mean. (34)"
   ]
  },
  {
   "cell_type": "markdown",
   "metadata": {},
   "source": [
    "## Temporalidade e tecnologia digital\n",
    "\n",
    "> Não lembro nem o que comi ontem..."
   ]
  },
  {
   "cell_type": "markdown",
   "metadata": {},
   "source": [
    "### Ler, escrever e representar o passado: o que muda com a era digital?\n",
    "\n",
    "1. Temporalidade: \"constitutivo e estruturados do conheciumento histórico\" (159)\n",
    "   * como entender historicidade quando a orientação temporal é abalada no presente? (160)\n",
    "2. Presente: \"o tempo-espaço no qual se ministram as tensões e se fazem a gestão e o equacionamento entre passado e futuro: é o espaço das demandas e da onde emergem questões políticas que nos interpelam.\"\n",
    "   * Que outros 'espaços de experiência' e 'horizontes de expectativa' a tecnologia possibilita construir? (160)\n",
    "3. Uso e problematização da tecnologia: descentralização da concepção de História como progresso linear."
   ]
  }
 ],
 "metadata": {
  "interpreter": {
   "hash": "916dbcbb3f70747c44a77c7bcd40155683ae19c65e1c03b4aa3499c5328201f1"
  },
  "kernelspec": {
   "display_name": "Python 3.9.5 64-bit",
   "name": "python3"
  },
  "language_info": {
   "codemirror_mode": {
    "name": "ipython",
    "version": 3
   },
   "file_extension": ".py",
   "mimetype": "text/x-python",
   "name": "python",
   "nbconvert_exporter": "python",
   "pygments_lexer": "ipython3",
   "version": "3.9.5"
  }
 },
 "nbformat": 4,
 "nbformat_minor": 2
}
