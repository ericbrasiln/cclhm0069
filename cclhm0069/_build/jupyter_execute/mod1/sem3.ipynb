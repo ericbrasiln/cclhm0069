{
 "cells": [
  {
   "cell_type": "markdown",
   "metadata": {},
   "source": [
    "# Semana 3\n",
    "\n",
    "**Período**: 25/10/2021 a 29/10/2021\n",
    "**CH**: 5h"
   ]
  },
  {
   "cell_type": "markdown",
   "metadata": {},
   "source": [
    "## Encontro Virtual 1 (AS)\n",
    "\n",
    "**Tema**: História e tecnologia\n",
    "\n",
    "```{attention}\n",
    "Para essa aula é preciso ler a [_Leitura 1_](https://ericbrasiln.github.io/intro-historia-digital/mod1/sem2.html#leitura-1).\n",
    "```\n",
    "\n",
    "**Data**: 27/10/2021\n",
    "\n",
    "**Horário**: 19h - 21h\n",
    "\n",
    "**CH**: 2 horas\n",
    "\n",
    "**Plataforma**: `Google Meet` - link enviado por e-mail.\n",
    "\n",
    "```{attention}\n",
    "[_Clique aqui para acessar a apresentação da aula_](https://ericbrasiln.github.io/intro-historia-digital/mod1/sem3_ap.html).\n",
    "```"
   ]
  },
  {
   "cell_type": "markdown",
   "metadata": {},
   "source": [
    "## Leitura 2\n",
    "\n",
    "```{attention}\n",
    "Essa leitura será debatida no Encontro Virtual 2, no dia 03/11/2021.\n",
    "```\n",
    "\n",
    "**CH**: 3 horas\n",
    "\n",
    "**Textos Obrigatórios**: \n",
    "\n",
    "1. [FORTES, A.; ALVIM, L. G. M. Evidências, códigos e classificações: o ofício do historiador e o mundo digital. Esboços: histórias em contextos globais, v. 27, n. 45, p. 207–227, 19 jun. 2020.](https://periodicos.ufsc.br/index.php/esbocos/article/view/2175-7976.2020.e68270)\n",
    "2. [COSTA, Marcella A. F. DA. Tecnologia, temporalidade e história digital: interpelações ao historiador e ao professor de história. _Revista Mosaico - Revista de História_, v. 8, n. 2, p. 155–163, 15 dez. 2015.](http://seer.pucgoias.edu.br/index.php/mosaico/article/view/4428)\n",
    "\n",
    "**Textos Complementares**:\n",
    "\n",
    "1. [ZAAGSMA, G. On Digital History._ BMGN - Low Countries Historical Review_, v. 128, n. 4, p. 3–29, 16 dez. 2013.](http://www.bmgn-lchr.nl/articles/abstract/10.18352/bmgn-lchr.9344/)\n",
    "2. [GRAHAM, S.; MILLIGAN, I.; WEINGART, S. Exploring big historical data: the historian’s macroscope. Londres: Imperial College Press, 2015. pp. 31 - 35](http://library.lol/main/964A7CDD13A5D60D6FDF77CF4E6241DD)"
   ]
  }
 ],
 "metadata": {
  "language_info": {
   "name": "python"
  }
 },
 "nbformat": 4,
 "nbformat_minor": 2
}