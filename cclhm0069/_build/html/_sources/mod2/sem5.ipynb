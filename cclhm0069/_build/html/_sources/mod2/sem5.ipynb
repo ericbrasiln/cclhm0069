{
 "cells": [
  {
   "cell_type": "markdown",
   "metadata": {},
   "source": [
    "# Semana 5\n",
    "\n",
    "**Período**: 08/11/2021 a 12/11/2021"
   ]
  },
  {
   "cell_type": "markdown",
   "metadata": {},
   "source": [
    "## Encontro Virtual 3 (AS)\n",
    "\n",
    "**Tema**: Repositórios de fontes online e a pesquisa digital\n",
    "\n",
    "```{Note}\n",
    "Para essa aula é indicado ler o artigo [BRASIL, Eric; NASCIMENTO, Leonardo F. História digital: reflexões a partir da Hemeroteca Digital Brasileira e do uso de CAQDAS na reelaboração da pesquisa histórica. *Revista Estudos Históricos*, v. 33, n. 69, p. 196–219, 2020](http://dx.doi.org/10.1590/S2178-14942020000100011).\n",
    "```\n",
    "\n",
    "**Data**: 10/11/2021\n",
    "\n",
    "**Horário**: 19h - 21h\n",
    "\n",
    "**CH**: 2 horas\n",
    "\n",
    "**Plataforma**: `Google Meet` - link enviado por e-mail.\n",
    "\n",
    "```{Attention}\n",
    "[_Clique aqui para acessar a apresentação da aula_](https://ericbrasiln.github.io/intro-historia-digital/mod2/sem5_ap.html).\n",
    "```"
   ]
  },
  {
   "cell_type": "markdown",
   "metadata": {},
   "source": [
    "## Tarefa 2 (AA)\n",
    "\n",
    "**Tema**: Levantamento bibliográfico / HDB \n",
    "\n",
    "**Data**: 10/11/2021 - 16/11/2021\n",
    "\n",
    "**CH**: 1 hora\n",
    "\n",
    "1. Escolha uma das opções para realizar a tarefa:\n",
    "   * [] Levantamento Bibliográfico online com Google Acadêmico\n",
    "   * [] Pesquisa na Hemeroteca Digital Brasileira\n",
    "2. Faça buscas com dois termos distintos e utilize o máximo de parâmetros e opções para filtrar suas buscas.\n",
    "3. Registre os parâmetros utilizados na busca e o resultado obtido em um arquivo de texto simples (sem formatação, salvo no formato txt).\n"
   ]
  }
 ],
 "metadata": {
  "language_info": {
   "name": "python"
  }
 },
 "nbformat": 4,
 "nbformat_minor": 2
}
