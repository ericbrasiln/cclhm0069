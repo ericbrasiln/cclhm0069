{
 "cells": [
  {
   "cell_type": "markdown",
   "metadata": {},
   "source": [
    "# Semana 12\n",
    "\n",
    "**Período**: 17/01/2022 a 21/01/2022\n",
    "\n",
    "**CH**: 2h"
   ]
  },
  {
   "cell_type": "markdown",
   "metadata": {},
   "source": [
    "| Tipo          | [Atividade Assíncrona 6 (AA)](https://ericbrasiln.github.io/intro-historia-digital/mod4a/sem12.html#atividade-assíncrona-6-aa)|\n",
    "| ------------- | -------------------------------------------- |\n",
    "| Data e hora | 17/01/2022 a 21/01/2022 |\n",
    "| Carga Horária | 2h |\n",
    "| Descrição | Tutorial 02: StoryMapJS |"
   ]
  }
 ],
 "metadata": {
  "language_info": {
   "name": "python"
  }
 },
 "nbformat": 4,
 "nbformat_minor": 2
}
