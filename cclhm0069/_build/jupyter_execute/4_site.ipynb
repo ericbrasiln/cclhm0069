{
 "cells": [
  {
   "cell_type": "markdown",
   "metadata": {},
   "source": [
    "# Como interagir com esse livro/site\n",
    "\n",
    "> Essas informações foram traduzidas de [**How to interact with this book**](https://melaniewalsh.github.io/Intro-Cultural-Analytics/How-To-Interact-With-This-Book.html) do livro [**Intro to Cultural Analytics**](https://melaniewalsh.github.io/Intro-Cultural-Analytics/), de [Melanie Walsh](https://melaniewalsh.org/)."
   ]
  },
  {
   "cell_type": "markdown",
   "metadata": {},
   "source": [
    "Esse livro foi criado com [Jupyter Book](https://jupyterbook.org/intro.html), um projeto de código aberto para criar livros interativos on-line que contêm código e outros materiais computacionais.\n",
    "\n",
    "Abaixo, os recursos interativos deste Jupyter Book são explicados em mais detalhes. A maioria dos recursos interativos pode ser encontrada na barra de ferramentas na parte superior da página."
   ]
  },
  {
   "cell_type": "markdown",
   "metadata": {},
   "source": [
    "## <i class=\"fa fa-rocket\" aria-hidden=\"true\"></i> Abra o Jupyter Notebook na nuvem "
   ]
  },
  {
   "cell_type": "markdown",
   "metadata": {},
   "source": [
    "Você pode abrir a maioria das páginas deste livro na nuvem e executar o código ao vivo. Passe o mouse sobre o ícone do foguete no topo da página <i class=\"fa fa-rocket\" aria-hidden=\"true\"></i> e clique em \"Binder\" para abrir uma versão da mesma página na nuvem."
   ]
  },
  {
   "cell_type": "markdown",
   "metadata": {},
   "source": [
    "[Binder](https://mybinder.org/) é um serviço que permite que você execute notebooks Jupyter sem qualquer configuração ou instalação prévia. O Jupyter pode levar alguns minutos para carregar, então seja paciente."
   ]
  },
  {
   "cell_type": "markdown",
   "metadata": {},
   "source": [
    "## <i class=\"fa fa-download\" aria-hidden=\"true\"></i> Download Jupyter Notebook "
   ]
  },
  {
   "cell_type": "markdown",
   "metadata": {},
   "source": [
    "Você pode baixar qualquer página de Jupyter notebook deste livro como um arquivo de Jupyter notebook (.ipynb). Passe o mouse sobre o ícone de download <i class=\"fa fa-download\" aria-hidden=\"true\"></i> e clique em \".ipynb\""
   ]
  },
  {
   "cell_type": "markdown",
   "metadata": {},
   "source": [
    "```{attention}\n",
    "Para trabalhar com este arquivo .ipynb, você precisará ter Jupyter instalado e rodando em seu próprio computador.\n",
    "```"
   ]
  },
  {
   "cell_type": "markdown",
   "metadata": {},
   "source": [
    "## <i class=\"fa fa-download\" aria-hidden=\"true\"></i> Download PDF "
   ]
  },
  {
   "cell_type": "markdown",
   "metadata": {},
   "source": [
    "Você pode baixar qualquer página de Jupyter notebook deste livro como um arquivo PDF. Passe o mouse sobre o ícone de download <i class = \"fa fa-download\" aria-hidden = \"true\"> </i> e clique em \".pdf\""
   ]
  },
  {
   "cell_type": "markdown",
   "metadata": {},
   "source": [
    "## <i class=\"fas fa-expand\" aria-hidden=\"true\"></i> Coloque em tela cheia"
   ]
  },
  {
   "cell_type": "markdown",
   "metadata": {},
   "source": [
    "Para colocar qualquer página desse livro em tela cheia, clique no ícone <i class=\"fas fa-expand\" aria-hidden=\"true\"></i> de tela cheia no top da página."
   ]
  },
  {
   "cell_type": "markdown",
   "metadata": {},
   "source": [
    "## <i class=\"fab fa-github\" aria-hidden=\"true\"></i> Abra um ticket no GitHub"
   ]
  },
  {
   "cell_type": "markdown",
   "metadata": {},
   "source": [
    "Se você encontrar um problema ou erro, ou quiser fazer qualquer sugestão, você pode abrir um ticket (issue) no Github passando o mouse sobre o ícone do Github <i class=\"fab fa-github\" aria-hidden=\"true\"></i> e clicando em \"open issue.\""
   ]
  },
  {
   "cell_type": "markdown",
   "metadata": {},
   "source": [
    "Você também pode comentar em nosso servidor do Discord ou me enviar para o email profericbrasil@unilab.edu.br"
   ]
  },
  {
   "cell_type": "markdown",
   "metadata": {},
   "source": [
    "## Clique para mostrar a saída/código"
   ]
  },
  {
   "cell_type": "markdown",
   "metadata": {},
   "source": [
    "Muitas das páginas deste livro incluem conteúdo oculto (especialmente no módulo **4b. Programação para História**). Você pode revelar o conteúdo oculto clicando em \"Click to show\" abaixo da célula à direita.\n",
    "\n",
    "Revelar conteúdo tem o objetivo de replicar a experiência de execução de código ao vivo.e."
   ]
  },
  {
   "cell_type": "code",
   "execution_count": 1,
   "metadata": {
    "tags": [
     "hide-output"
    ]
   },
   "outputs": [
    {
     "name": "stdout",
     "output_type": "stream",
     "text": [
      "Aqui está um exemplo de saída oculta! Clique em 'Click to Show' para ver o resultado!\n"
     ]
    }
   ],
   "source": [
    "print(\"Aqui está um exemplo de saída oculta! Clique em 'Click to Show' para ver o resultado!\")"
   ]
  },
  {
   "cell_type": "code",
   "execution_count": 2,
   "metadata": {
    "tags": [
     "hide-output"
    ]
   },
   "outputs": [
    {
     "data": {
      "text/plain": [
       "1764"
      ]
     },
     "execution_count": 2,
     "metadata": {},
     "output_type": "execute_result"
    }
   ],
   "source": [
    "42 * 42"
   ]
  }
 ],
 "metadata": {
  "interpreter": {
   "hash": "916dbcbb3f70747c44a77c7bcd40155683ae19c65e1c03b4aa3499c5328201f1"
  },
  "kernelspec": {
   "display_name": "Python 3.9.5 64-bit",
   "name": "python3"
  },
  "language_info": {
   "codemirror_mode": {
    "name": "ipython",
    "version": 3
   },
   "file_extension": ".py",
   "mimetype": "text/x-python",
   "name": "python",
   "nbconvert_exporter": "python",
   "pygments_lexer": "ipython3",
   "version": "3.9.5"
  }
 },
 "nbformat": 4,
 "nbformat_minor": 4
}