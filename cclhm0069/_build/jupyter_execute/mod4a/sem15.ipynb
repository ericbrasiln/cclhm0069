{
 "cells": [
  {
   "cell_type": "markdown",
   "metadata": {},
   "source": [
    "# Semana 15\n",
    "\n",
    "**Período**: 07/02/2022 a 11/02/2022\n",
    "\n",
    "**CH**: 2h"
   ]
  },
  {
   "cell_type": "markdown",
   "metadata": {},
   "source": [
    "| Tipo          | [Encontro Virtual 7 (AS)](https://ericbrasiln.github.io/intro-historia-digital/mod4a/sem15.html#encontro-virtual-7-as)| Encerramento do curso |\n",
    "| ------------- | -------------------------------------------- |---------------------------- |\n",
    "| Data e hora | 09/02/2022 | 09/02/2022 |\n",
    "| Carga Horária | 1h20 | 40min |\n",
    "| Descrição | Workshop: Podcast para o ensino de história - convidado Victor Martins| Momento para encerrar o curso e avaliar seus resultados e sugerir mudanças coletivamente.|\n"
   ]
  }
 ],
 "metadata": {
  "language_info": {
   "name": "python"
  }
 },
 "nbformat": 4,
 "nbformat_minor": 2
}