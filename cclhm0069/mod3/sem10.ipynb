{
 "cells": [
  {
   "cell_type": "markdown",
   "metadata": {},
   "source": [
    "# Semana 10\n",
    "\n",
    "**Período**: 13/12/2021 a 17/12/2021\n",
    "\n",
    "**CH**: 2h"
   ]
  },
  {
   "cell_type": "markdown",
   "metadata": {},
   "source": [
    "| Tipo          | [Encontro Virtual 7 (AS)](https://ericbrasiln.github.io/intro-historia-digital/mod3/sem10.html#encontro-virtual-7-as)|\n",
    "| ------------- | -------------------------------------------- |\n",
    "| Data e hora | 15/12/2021, às 19h |\n",
    "| Carga Horária | 2h |\n",
    "| Descrição | Fazer história com vestígios digitais: por uma história social digital - Debate de textos |"
   ]
  }
 ],
 "metadata": {
  "language_info": {
   "name": "python"
  }
 },
 "nbformat": 4,
 "nbformat_minor": 2
}
