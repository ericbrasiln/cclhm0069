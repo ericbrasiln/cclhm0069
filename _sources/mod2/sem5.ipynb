{
 "cells": [
  {
   "cell_type": "markdown",
   "metadata": {},
   "source": [
    "# Semana 5\n",
    "\n",
    "**Período**: 08/11/2021 a 12/11/2021\n",
    "\n",
    "**CH**: 3h30"
   ]
  },
  {
   "cell_type": "markdown",
   "metadata": {},
   "source": [
    "| Tipo          | [Encontro Virtual 3 (AS)](https://ericbrasiln.github.io/intro-historia-digital/mod2/sem5.html#encontro-virtual-3-as)| Tarefa 2 (AS)|\n",
    "| ------------- | -------------------------------------------- |-------------------------------------------- |\n",
    "| Data e hora | 10/11/2021, 19h | 08/11/2021 a 12/11/2021 |\n",
    "| Carga Horária | 2h30 | 1h |\n",
    "| Descrição | Repositórios de fontes online e a pesquisa digital | Levantamento bibliográfico / HDB |"
   ]
  }
 ],
 "metadata": {
  "language_info": {
   "name": "python"
  },
  "orig_nbformat": 4
 },
 "nbformat": 4,
 "nbformat_minor": 2
}
