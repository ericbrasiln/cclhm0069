{
 "cells": [
  {
   "cell_type": "markdown",
   "metadata": {},
   "source": [
    "# Algoritmos, dataficação da sociedade e o ofício de Historiadores/as: desigualdade, racismo e violências\n",
    "\n",
    "<small>Material para o Encontro Virtual 6, 14/12/2021, referente à [semana 10 do curso](https://ericbrasiln.github.io/intro-historia-digital/mod3/sem10.html#)</small>"
   ]
  },
  {
   "cell_type": "markdown",
   "metadata": {},
   "source": [
    "O objetivo desse encontro virtual é discutir a relação entre os algortimos e a dataficação da vida social com a pesquisa e ensino de história no presente e futuro.\n",
    "\n",
    "Para tanto vamos discutir os seguintes textos:\n",
    "\n",
    "1. [O'NEIL, CATHY. Componentes da bomba. O que é um modelo? In: **Algoritmos de Destruição em massa**. São Paulo: Editora Rua do Sabão, 2020. pp. 25-50](biblio/oneil.pdf)\n",
    "2. [NOBLE, Safiya Umoja. Introdução. In: **Algoritmos da opressão**. São Paulo: Editora Rua do Sabão, 2021. pp. 7-28](biblio/noble.pdf)"
   ]
  },
  {
   "cell_type": "markdown",
   "metadata": {},
   "source": [
    "## E esse tal de _algoritmo_?\n",
    "\n",
    "![math](https://raw.githubusercontent.com/ericbrasiln/ferramentas_digitais_UNILAB/master/docs/gifs/math.gif)\n"
   ]
  },
  {
   "cell_type": "markdown",
   "metadata": {},
   "source": [
    "Um conjunto de ações lógicas para realizar uma determinada tarefa. O algoritmo (escrito por um humano) informa ao computador que passos ele deve tomar e em que ordem isso deve ser feito.\n",
    "\n",
    "Essa lista de procedimentos é executada passo a passo até completar a ação esperada.\n",
    "\n",
    "Os passos lógicos são encadeados, por exemplo:\n"
   ]
  },
  {
   "cell_type": "markdown",
   "metadata": {},
   "source": [
    "`Se` tal coisa acontecer, então faça o passo 1, `senão` faça o passo 2.\n",
    "\n",
    "~~~\n",
    "if\n",
    "else\n",
    "~~~\n"
   ]
  },
  {
   "cell_type": "markdown",
   "metadata": {},
   "source": [
    "`Enquanto` tal coisa estiver acontecendo, continue com a ação.\n",
    "\n",
    "~~~\n",
    "while == True\n",
    "~~~\n"
   ]
  },
  {
   "cell_type": "markdown",
   "metadata": {},
   "source": [
    "`Tente` executar esse passo, se não funcionar, realize a `exceção` tal.\n",
    "\n",
    "~~~\n",
    "try:\n",
    "except:\n",
    "~~~\n"
   ]
  },
  {
   "cell_type": "markdown",
   "metadata": {},
   "source": [
    "![waze](https://raw.githubusercontent.com/ericbrasiln/ferramentas_digitais_UNILAB/master/docs/gifs/waze.gif)\n"
   ]
  },
  {
   "cell_type": "markdown",
   "metadata": {},
   "source": [
    "~~~\n",
    "se \"o carro passar de 65 km/h\":\n",
    "    mostrar alerta de velocidade\n",
    "senão:\n",
    "    não mostrar nada\n",
    "~~~\n",
    "\n",
    "Ou ainda:\n",
    "~~~\n",
    "se \"a rua estiver engarrafada\":\n",
    "    \"calcule nova rota mais curta por outra rua\"\n",
    "    \"mostre a nova rota\"\n",
    "    \"informe a direção\"\n",
    "senão:\n",
    "    \"manter a mesma rota\"\n",
    "~~~\n"
   ]
  },
  {
   "cell_type": "markdown",
   "metadata": {},
   "source": [
    "## Algoritmos em tudo?\n",
    "\n",
    "<div class=\"center\">\n",
    "\n",
    "<blockquote class=\"twitter-tweet\"><p lang=\"en\" dir=\"ltr\">Trying a horrible experiment...<br><br>Which will the Twitter algorithm pick: Mitch McConnell or Barack Obama? <a href=\"https://t.co/bR1GRyCkia\">pic.twitter.com/bR1GRyCkia</a></p>&mdash; Tony “Abolish (Pol)ICE” Arcieri 🦀 (@bascule) <a href=\"https://twitter.com/bascule/status/1307440596668182528?ref_src=twsrc%5Etfw\">September 19, 2020</a></blockquote>\n",
    "<script async src=\"https://platform.twitter.com/widgets.js\" charset=\"utf-8\"></script>\n",
    "\n",
    "</div>"
   ]
  },
  {
   "cell_type": "markdown",
   "metadata": {},
   "source": [
    "![tweet]("
   ]
  }
 ],
 "metadata": {
  "language_info": {
   "name": "python"
  },
  "orig_nbformat": 4
 },
 "nbformat": 4,
 "nbformat_minor": 2
}
