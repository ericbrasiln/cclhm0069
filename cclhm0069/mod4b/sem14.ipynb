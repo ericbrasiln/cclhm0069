{
 "cells": [
  {
   "cell_type": "markdown",
   "metadata": {},
   "source": [
    "# Semana 14\n",
    "\n",
    "**Período**: 07/02/2022 a 11/02/2022\n",
    "\n",
    "**CH**: 2h"
   ]
  },
  {
   "cell_type": "markdown",
   "metadata": {},
   "source": [
    "| Tipo          | [Live Coding 3 (AS)](https://ericbrasiln.github.io/intro-historia-digital/mod4b/sem14.html#live-coding-3-as)|\n",
    "| ------------- | -------------------------------------------- |\n",
    "| Data e hora | 09/02/2022, às 19h |\n",
    "| Carga Horária | 2h30 |\n",
    "| Descrição | Coleta de dados com Python: WGET, youtubedl e twitter-scrapper|"
   ]
  }
 ],
 "metadata": {
  "language_info": {
   "name": "python"
  }
 },
 "nbformat": 4,
 "nbformat_minor": 2
}
