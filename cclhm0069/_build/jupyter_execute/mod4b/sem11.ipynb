{
 "cells": [
  {
   "cell_type": "markdown",
   "metadata": {},
   "source": [
    "# Semana 11\n",
    "\n",
    "## Módulo 4b: Programação para História\n",
    "\n",
    "**Período**: 10/01/2022 a 14/01/2022\n",
    "\n",
    "**CH**: 2h"
   ]
  },
  {
   "cell_type": "markdown",
   "metadata": {},
   "source": [
    "### Atividade Assíncrona 5 (AA)\n",
    "\n",
    "Vídeos de apoio e tutoriais de Python e preparação do ambiente para as aulas seguintes.\n"
   ]
  },
  {
   "cell_type": "markdown",
   "metadata": {},
   "source": [
    "#### Preparando o ambiente para as aulas\n",
    "\n",
    "1. [O que é python e como instalar no seu computador](https://www.youtube.com/playlist?list=PLHz_AreHm4dlKP6QQCekuIPky1CiwmdI6): assista os vídeos 2, 3 e 4 da playlist.\n",
    "2. [Acesse o site do Python, faça o download e instale o python no seu computador](https://www.python.org/downloads/)\n",
    "3. [Assista o tutorial sobre instalação e configuração do VisualStudio Code](https://www.youtube.com/watch?v=UForX7ehChM) em seguida, faça o [download](https://code.visualstudio.com/Download) e instale o Visual Studio Code no seu computador."
   ]
  },
  {
   "cell_type": "markdown",
   "metadata": {},
   "source": [
    "#### Material de apoio\n",
    "\n",
    "- Livro [PensePython](https://penseallen.github.io/PensePython2e/) em português on-line;\n",
    "- [Curso introdutório de Python](https://www.youtube.com/watch?v=yTQDbqmv8Ho) do Dunossauro\n",
    "- Episódio da séria *Explicando*, temporada 2: [**Código de Programação**](https://www.netflix.com/br/title/80216752), Netflix.\n",
    "- Episódio [**Como os computadores funcionam?**](https://www.netflix.com/br/title/80108159) Pergunte aos Story Bots, Netflix."
   ]
  }
 ],
 "metadata": {
  "language_info": {
   "name": "python"
  }
 },
 "nbformat": 4,
 "nbformat_minor": 2
}