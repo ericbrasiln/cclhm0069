{
 "cells": [
  {
   "cell_type": "markdown",
   "metadata": {},
   "source": [
    "# Cronograma"
   ]
  },
  {
   "cell_type": "markdown",
   "metadata": {},
   "source": [
    "## Módulo 1: História na era digital: teoria, método e epistemologia"
   ]
  },
  {
   "cell_type": "markdown",
   "metadata": {},
   "source": [
    "\n",
    "### Semana 1\n",
    "\n",
    "**Período**: 11/10/2021 - 15/10/2021\n",
    "\n",
    "**CH** = 3h"
   ]
  },
  {
   "cell_type": "markdown",
   "metadata": {},
   "source": [
    "| Tipo          | [Atividade Assíncrona 1 (AA)](https://ericbrasiln.github.io/intro-historia-digital/mod1/sem1.html#atividade-assincrona-1)                                |[Tarefa 1 (AA)](https://ericbrasiln.github.io/intro-historia-digital/mod1/sem1.html#tarefa-1-participar-do-servidor-do-discord) |\n",
    "| ------------- | -------------------------------------------- |-------------------------------------------- |\n",
    "| Data e hora | 11/10/2021 - 15/10/2021                      |11/05/2021 a 15/05/2021 |\n",
    "| Carga Horária | 2h                                           | 1h |\n",
    "| Descrição | Assistir vídeo de introdução e preencher Formulário de apresentação | Participar do servidor do Discord |\n",
    "\n",
    "[**Link para a página da semana**](https://ericbrasiln.github.io/intro-historia-digital/mod1/sem1.html#semana-1)"
   ]
  },
  {
   "cell_type": "markdown",
   "metadata": {},
   "source": [
    "### Semana 2\n",
    "\n",
    "**Período**: 18/10/2021 a 22/10/2021\n",
    "\n",
    "**CH** = 5h"
   ]
  },
  {
   "cell_type": "markdown",
   "metadata": {},
   "source": [
    "| Tipo          | [Leitura 1 (AA)](https://ericbrasiln.github.io/intro-historia-digital/mod1/sem2.html#leitura-1)                                |[Atividade Assíncrona 2 (AA)](https://ericbrasiln.github.io/intro-historia-digital/mod1/sem2.html#atividade-assincrona-2) |\n",
    "| ------------- | -------------------------------------------- |-------------------------------------------- |\n",
    "| Data e hora         | 18/10/2021 - 22/10/2021                      |20/10/2021, às 17h15 |\n",
    "| Carga Horária | 3h                                           | 1h |\n",
    "| Descrição          | Leitura para o Encontro Virtual 1 | Sessão Especial - 7ª Semana de Pesquisadores da Biblioteca Nacional |\n",
    "\n",
    "[**Link para a página da semana**](https://ericbrasiln.github.io/intro-historia-digital/mod1/sem2.html#semana-2)"
   ]
  },
  {
   "cell_type": "markdown",
   "metadata": {},
   "source": [
    "### Semana 3\n",
    "\n",
    "**Período**: 25/10/2021 a 29/10/2021\n",
    "\n",
    "**CH**: 5h"
   ]
  },
  {
   "cell_type": "markdown",
   "metadata": {},
   "source": [
    "| Tipo          | [ Encontro Virtual 1 (AS)](https://ericbrasiln.github.io/intro-historia-digital/mod1/sem3.html#encontro-virtual-1-as) |[Leitura 2 (AA)](https://ericbrasiln.github.io/intro-historia-digital/mod1/sem3.html#leitura-2) |\n",
    "| ------------- | -------------------------------------------- |-------------------------------------------- |\n",
    "| Data e hora | 27/10/2021, 19h | 25/10/2021 a 29/10/2021 |\n",
    "| Carga Horária | 2h | 3h |\n",
    "| Descrição |  História e tecnologia | Leitura para o Encontro Virtual 2 |\n",
    "\n",
    "[**Link para a página da semana**](https://ericbrasiln.github.io/intro-historia-digital/mod1/sem3.html#semana-3)"
   ]
  },
  {
   "cell_type": "markdown",
   "metadata": {},
   "source": [
    "### Semana 4\n",
    "\n",
    "**Período**: 01/11/2021 a 05/11/2021\n",
    "\n",
    "**CH**: 2h"
   ]
  },
  {
   "cell_type": "markdown",
   "metadata": {},
   "source": [
    "| Tipo          | [Encontro Virtual 2 (AS)](https://ericbrasiln.github.io/intro-historia-digital/mod1/sem4.html#encontro-virtual-2-as)||\n",
    "| ------------- | -------------------------------------------- |-------------------------------------------- |\n",
    "| Data e hora | 03/11/2021, 19h |  |\n",
    "| Carga Horária | 2h |  |\n",
    "| Descrição | Passado, futuro e presente do digital na História: Fontes, métodos e análise |  |\n",
    "\n",
    "[**Link para a página da semana**](https://ericbrasiln.github.io/intro-historia-digital/mod1/sem4.html#semana-4)"
   ]
  },
  {
   "cell_type": "markdown",
   "metadata": {},
   "source": [
    "## Módulo 2. Ferramentas digitais e a pesquisa histórica"
   ]
  }
 ],
 "metadata": {
  "interpreter": {
   "hash": "916dbcbb3f70747c44a77c7bcd40155683ae19c65e1c03b4aa3499c5328201f1"
  },
  "kernelspec": {
   "display_name": "Python 3.9.5 64-bit",
   "name": "python3"
  },
  "language_info": {
   "codemirror_mode": {
    "name": "ipython",
    "version": 3
   },
   "file_extension": ".py",
   "mimetype": "text/x-python",
   "name": "python",
   "nbconvert_exporter": "python",
   "pygments_lexer": "ipython3",
   "version": "3.9.5"
  }
 },
 "nbformat": 4,
 "nbformat_minor": 4
}
