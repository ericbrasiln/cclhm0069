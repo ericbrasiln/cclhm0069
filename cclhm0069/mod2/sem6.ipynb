{
 "cells": [
  {
   "cell_type": "markdown",
   "metadata": {},
   "source": [
    "# Semana 6\n",
    "\n",
    "**Período**: 16/11/2021 a 19/11/2021\n",
    "\n",
    "**CH**: 3h30"
   ]
  },
  {
   "cell_type": "markdown",
   "metadata": {},
   "source": [
    "| Tipo          | [Atividade Assíncrona 3 (AA)](https://ericbrasiln.github.io/intro-historia-digital/mod2/sem6.html#atividade-assíncrona-3-aa)| Tarefa 3 (AS)|\n",
    "| ------------- | -------------------------------------------- |-------------------------------------------- |\n",
    "| Data e hora | 16/11/2021 a 19/11/2021 | 16/11/2021 a 19/11/2021 |\n",
    "| Carga Horária | 2h30 | 1h |\n",
    "| Descrição | Vídeo-aula de Zotero | Criar perfil e instalar o Zotero |"
   ]
  }
 ],
 "metadata": {
  "language_info": {
   "name": "python"
  },
  "orig_nbformat": 4
 },
 "nbformat": 4,
 "nbformat_minor": 2
}
