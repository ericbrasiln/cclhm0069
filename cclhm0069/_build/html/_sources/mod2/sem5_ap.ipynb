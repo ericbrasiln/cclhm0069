{
 "cells": [
  {
   "cell_type": "markdown",
   "metadata": {},
   "source": [
    "# Repositórios de fontes online e a pesquisa digital\n",
    "\n",
    "<small>Material para o Encontro Virtual 3, 10/11/2021, referente à [semana 5 do curso](https://ericbrasiln.github.io/intro-historia-digital/mod2/sem5.html)</small>"
   ]
  },
  {
   "cell_type": "markdown",
   "metadata": {},
   "source": [
    "Nessa aula vamos debater os impactos dos motores de busca e suas interfaces para a pesquisa em História.\n",
    "\n",
    "Inicialmente vamos avaliar os procedimentos de levantamento bibliográfico em meios virtuais e em seguida vamos analisar a interface de buscas da Hemeroteca Digital Brasileira (HDB) da Biblioteca Nacional.\n",
    "\n",
    "Peço que acessem o link da HDB e tentem realizar algumas buscas antes da aula: [http://memoria.bn.br/](http://memoria.bn.br/)\n",
    "\n",
    "A base para essa aula - que também pretender ter um caráter prático -  é o seguinte artigo:\n",
    "\n",
    "- [BRASIL, Eric; NASCIMENTO, Leonardo F. História digital: reflexões a partir da Hemeroteca Digital Brasileira e do uso de CAQDAS na reelaboração da pesquisa histórica. Revista Estudos Históricos, v. 33, n. 69, p. 196–219, 2020](http://dx.doi.org/10.1590/S2178-14942020000100011)"
   ]
  },
  {
   "cell_type": "markdown",
   "metadata": {},
   "source": [
    "## 📚️ Levantamento bibliográfico on-line"
   ]
  },
  {
   "cell_type": "markdown",
   "metadata": {},
   "source": [
    "<img src=\"https://github.com/ericbrasiln/ferramentas_digitais_UNILAB/raw/master/docs/gifs/lib.gif\" alt=\"library\" style=\"zoom:100%\" />"
   ]
  },
  {
   "cell_type": "markdown",
   "metadata": {},
   "source": [
    "### O que é? Pra que fazer?\n",
    "\n",
    "- Primeiro passo para qualquer pesquisa;\n",
    "- Encontrar produções variadas que abordam temas e questões de pesquisa que dialoguem com os interesses, problemáticas, fontes de sua proposta de pesquisa;\n",
    "- Iniciar o processo de revisão da literatura;\n",
    "- Organizar o caminho de leituras;\n",
    "- Encontrar e avaliar referenciais teóricos, metodológicos além dos trabalhos que já analisaram, em perspectivas variadas, o tema que vc pretende estudar."
   ]
  },
  {
   "cell_type": "markdown",
   "metadata": {},
   "source": [
    "### Como fazer?\n",
    "\n",
    "Há diferença entre realizar um levantamento bibliográfico **analogicamente**...\n"
   ]
  },
  {
   "cell_type": "markdown",
   "metadata": {},
   "source": [
    "<img src=\"https://github.com/ericbrasiln/ferramentas_digitais_UNILAB/raw/master/docs/gifs/bob.gif\" alt=\"bob1\" style=\"width: 300px;\" />\n",
    "<br>"
   ]
  },
  {
   "cell_type": "markdown",
   "metadata": {},
   "source": [
    "<br>\n",
    "\n",
    "e **digitalmente**?"
   ]
  },
  {
   "cell_type": "markdown",
   "metadata": {},
   "source": [
    "<img src=\"https://github.com/ericbrasiln/ferramentas_digitais_UNILAB/raw/master/docs/gifs/bob2.gif\" style=\"width: 300px;\" />"
   ]
  },
  {
   "cell_type": "markdown",
   "metadata": {},
   "source": [
    "- Pouca reflexão sobre o funcionamento e as implicações das ferramentas de pesquisa;\n",
    "\n",
    "- O que pode influenciar nos resultados de uma busca?\n",
    "\n",
    "  - Termos e padrões utilizados na busca;\n",
    "  - Site ustilizados para busca;\n",
    "  - Histórico de busca.\n"
   ]
  },
  {
   "cell_type": "markdown",
   "metadata": {},
   "source": [
    "#### **GOOGLE it**\n",
    "\n",
    "**Apenas um buscador de conteúdo?**\n",
    "\n",
    "[Google acha que ferramenta em mão negra é uma arma](https://tarciziosilva.com.br/blog/google-acha-que-ferramenta-em-mao-negra-e-uma-arma/), de [Tarcizio Silva](https://twitter.com/tarciziosilva)"
   ]
  },
  {
   "cell_type": "markdown",
   "metadata": {},
   "source": [
    "![g2](img/g2.png)\n",
    "![g1](img/g1.png)"
   ]
  },
  {
   "cell_type": "markdown",
   "metadata": {},
   "source": [
    "### Google Scholar\n",
    "\n",
    "<img src=\"https://github.com/ericbrasiln/ferramentas_digitais_UNILAB/raw/master/docs/imagens/gslogo.png\" style=\"width: 300px;\">\n",
    "\n",
    "É diferente? É outra ferramenta?"
   ]
  },
  {
   "cell_type": "markdown",
   "metadata": {},
   "source": [
    "#### Dicas de pesquisa\n",
    "\n",
    "Dicas inspiradas pela [thread no Twitter de Tarcizio Silva](https://twitter.com/tarciziosilva/status/1303347668123635714)\n",
    "\n",
    "✅️ Faça um perfil, pois assim a partir de suas buscas e seus favoritos, o Scholar vai te indicar artigos relacionados;\n",
    "\n",
    "✅️ Indexador que engloba revistas avaliadas por pares, livros, citações, etc."
   ]
  },
  {
   "cell_type": "markdown",
   "metadata": {},
   "source": [
    "✅️ Use `Operadores`:\n",
    "\n",
    "**AND** : busca referências com duas palavras -  `história AND digital`\n",
    "\n",
    "**OR**: uma palavra ou outra - `história OR sociologia`\n",
    "\n",
    "**-** (negativo): exclui termo da busca - `História digital -pública`\n",
    "\n",
    "**\" \"** (expressão enter aspas duplas): busca a expressão exata - `\"métodos digitais\"`\n",
    "\n",
    "**allintitle:** - fazer a busca apenas no título - `allintitle: história digital`\n",
    "\n",
    "**author:** - buscar autor específico - `author:Fanon, F.`\n",
    "\n",
    "É possível combinar os parâmetros: `história OR sociologia AND digital` ou `cidadania AND pós-abolição AND carnaval -\"rio de janeiro\"` ou ainda `author:ALBUQUERQUE \"cidadania negra\" AND Salvador`"
   ]
  },
  {
   "cell_type": "markdown",
   "metadata": {},
   "source": [
    "✅️ Filtros da busca (localizados no lado esquerdo):\n",
    "\n",
    "**Definir período**:\n",
    "\n",
    "![data](https://github.com/ericbrasiln/ferramentas_digitais_UNILAB/raw/master/docs/imagens/ga1.png)\n",
    "\n",
    "**Classificar por relevância ou data**:\n",
    "\n",
    "![data](https://github.com/ericbrasiln/ferramentas_digitais_UNILAB/raw/master/docs/imagens/ga2.png)\n",
    "\n",
    "**Definir idioma:**\n",
    "\n",
    "![data](https://github.com/ericbrasiln/ferramentas_digitais_UNILAB/raw/master/docs/imagens/ga3.png)\n",
    "\n",
    "**Definir se inclui patentes e citações e criar alerta para a busca:**\n",
    "\n",
    "![data](https://github.com/ericbrasiln/ferramentas_digitais_UNILAB/raw/master/docs/imagens/ga4.png)"
   ]
  },
  {
   "cell_type": "markdown",
   "metadata": {},
   "source": [
    "✅️ Bônus: Rápido tour pelo menu (no topo, à esquerda):\n",
    "\n",
    "![menu](https://github.com/ericbrasiln/ferramentas_digitais_UNILAB/raw/master/docs/imagens/ga6.png)\n",
    "\n",
    "**Pesquisa Avançada**:\n",
    "\n",
    "![menu](https://github.com/ericbrasiln/ferramentas_digitais_UNILAB/raw/master/docs/imagens/ga5.png)"
   ]
  },
  {
   "cell_type": "markdown",
   "metadata": {},
   "source": [
    "### 🗃️ Busca avançada em repositórios específicos\n",
    "\n",
    "- [Periódicos Capes](https://www.periodicos.capes.gov.br/)\n",
    "\n",
    "- [Domínio Público](http://www.dominiopublico.gov.br/pesquisa/PesquisaObraForm.jsp)\n",
    "\n",
    "- [Scielo](https://www.scielo.br/scielo.php?script=sci_home&lng=pt&nrm=iso)\n",
    "\n",
    "- [Internet Archive](https://archive.org/)\n",
    "\n",
    "- [Projetc Gutenberg](https://www.gutenberg.org/)\n",
    "\n",
    "- [Directory of Open Access Journals (DOAJ)](https://www.doaj.org/)"
   ]
  },
  {
   "cell_type": "markdown",
   "metadata": {},
   "source": [
    "#### Teses e dissertações\n",
    "\n",
    "- [Biblioteca Digital Brasileira de Teses e Dissertações (BDTD](http://bdtd.ibict.br/vufind/)\n",
    "\n",
    "- [Networked Digital Library of Theses and Dissertations (NDLTD)](http://www.ndltd.org/)\n",
    "\n",
    "- [Catálogo de teses e dissertações Capes](http://catalogodeteses.capes.gov.br/catalogo-teses/#!/)"
   ]
  },
  {
   "cell_type": "markdown",
   "metadata": {},
   "source": [
    "#### Repositórios de acesso restrito\n",
    "\n",
    "- [Web of Science](https://login.webofknowledge.com/error/Error?Error=IPError&PathInfo=%2F&RouterURL=https%3A%2F%2Fwww.webofknowledge.com%2F&Domain=.webofknowledge.com&Src=IP&Alias=WOK5) - **Acesso Capes**\n",
    "\n",
    "- [Jstor](https://www.jstor.org/) - **Acesso Capes**\n",
    "\n",
    "- [Project Muse](https://muse.jhu.edu/) - **Acesso Capes**\n",
    "\n",
    "- [Scopus](https://www.scopus.com/home.uri) - **Acesso Capes**\n",
    "\n",
    "- [Oxford Research Encyclopedias](https://oxfordre.com/)\n"
   ]
  },
  {
   "cell_type": "markdown",
   "metadata": {},
   "source": [
    "### 🤖️ A batalha pela ciência aberta e livre\n",
    "\n",
    "**Vc conhece essa pessoa?**\n",
    "\n",
    "![alexandra](https://github.com/ericbrasiln/ferramentas_digitais_UNILAB/raw/master/docs/gifs/al-sh.gif)\n",
    "\n",
    "[🔎 Descubra e agradeça!](https://sci-hub.st/alexandra)\n",
    "\n",
    "- [Sci-Hub](https://sci-hub.tw/)\n",
    "\n",
    "- [Library Genesis](http://gen.lib.rus.ec/)\n"
   ]
  },
  {
   "cell_type": "markdown",
   "metadata": {},
   "source": [
    "## 💻️ Acessando fontes on-line"
   ]
  },
  {
   "cell_type": "markdown",
   "metadata": {},
   "source": [
    "### Pesquisa na era da abundância?\n",
    "\n",
    "<div class=\"center\">\n",
    "\n",
    "<blockquote class=\"twitter-tweet\"><p lang=\"pt\" dir=\"ltr\">Historiadores do meu Br: como a gente vai guardar esse material q as mídias sociais produzem? To achando que daqui a 30 anos nao vai ter material pra pesquisar o cotidiano da pandemia, por exemplo. Temos q começar uma discussão sobre como guardar esse material (se ja tem me diga)</p>&mdash; Renata (@RenataFM) <a href=\"https://twitter.com/RenataFM/status/1308222908817444865?ref_src=twsrc%5Etfw\">September 22, 2020</a></blockquote>\n",
    "<script async src=\"https://platform.twitter.com/widgets.js\" charset=\"utf-8\"></script>\n",
    "\n",
    "</div>\n"
   ]
  },
  {
   "cell_type": "markdown",
   "metadata": {},
   "source": [
    "- Escassez ou abundância na era da internet?\n",
    "\n",
    "- Como definir e tratar fontes que são assim:\n",
    "\n",
    "~~~\n",
    "01000001 01101111 00100000 01110110 01100101 01110010 01101101 01100101 00100000 01110001 01110101 01100101 00100000 01110000 01110010 01101001 01101101 01100101 01101001 01110010 01101111 00100000 01110010 01101111 01100101 01110101 00100000 01100001 01110011 00100000 01100110 01110010 01101001 01100001 01110011 00100000 01100011 01100001 01110010 01101110 01100101 01110011 00100000 01100100 01101111 00100000 01101101 01100101 01110101 00100000 01100011 01100001 01100100 11100001 01110110 01100101 01110010 00100000 01100100 01100101 01100100 01101001 01100011 01101111 00100000 01100011 01101111 01101101 01101111 00100000 01110011 01100001 01110101 01100100 01101111 01110011 01100001 00100000 01101100 01100101 01101101 01100010 01110010 01100001 01101110 11100111 01100001 00100000 01100101 01110011 01110100 01100001 01110011 00100000 01101101 01100101 01101101 11110011 01110010 01101001 01100001 01110011 00100000 01110000 11110011 01110011 01110100 01110101 01101101 01100001 01110011 00101110 \n",
    "~~~\n",
    "\n",
    "<small>Tradução: 'Ao verme que primeiro roeu as frias carnes do meu cadáver dedico como saudosa lembrança estas memórias póstumas.'</small>\n"
   ]
  },
  {
   "cell_type": "markdown",
   "metadata": {},
   "source": [
    "### 📝 Da Web para seu computador? Como? E depois, como recuperar?\n",
    "\n",
    "❶ **Como vocês armazenam os arquivos (PDFs, imagens, textos variados, etc) encontrados online?**\n",
    "\n",
    "❷ **Que metodologia de organização e acesso aos dados armazenados localmente ou em nuvens vocês usam?**\n",
    "\n",
    "❸ **Vocês desenvolveram esse método com base em algum outro ou criaram a partir da necessidade e experiência?**\n",
    "\n",
    "❹ **Quais equipamentos, softwares e ferramentas vocês usam para realizar backups e/ou cópias de segurança desses arquivos?**"
   ]
  },
  {
   "cell_type": "markdown",
   "metadata": {},
   "source": [
    "> Os historiadores precisam pensar simultaneamente sobre como pesquisar, escrever e ensinar em um mundo de abundância histórica inédita e como evitar um futuro de escassez de registros. [...] O ‘sistema’ para preservar o passado que evoluiu ao longo dos séculos está em crise, e os historiadores precisam ajudar na construção de um novo sistema para o próximo século.\n",
    "\n",
    "Roy Rosenzweig, Scarcity or Abundance? Preserving the Past in a Digital Era, _The American Historical Review_, Volume 108, Issue 3, June 2003, Pages 735–762, [https://doi.org/10.1086/ahr/108.3.735](https://doi.org/10.1086/ahr/108.3.735)"
   ]
  },
  {
   "cell_type": "markdown",
   "metadata": {},
   "source": [
    "## 📰 O caso da Hemeroteca Digital Brasileira, da Biblioteca Nacional"
   ]
  },
  {
   "cell_type": "markdown",
   "metadata": {},
   "source": [
    "### Como usar?\n",
    "\n",
    "![shuri](https://ericbrasiln.github.io/ferramentas_digitais_UNILAB/gifs/shuri.gif)\n",
    "\n",
    "✅️ Acesse o site da HDB: [http://memoria.bn.br/hdb/](http://memoria.bn.br/hdb/);\n",
    "\n",
    "✅️ 3 tipos de busca:\n",
    "\n",
    "1. Periódico: filtrar por jornal específico;\n",
    "\n",
    "2. Período: filtrar por recorte Cronológico;\n",
    "\n",
    "3. Local: filtrar por região.\n"
   ]
  },
  {
   "cell_type": "markdown",
   "metadata": {},
   "source": [
    "✅️ Resultados:\n",
    "\n",
    "**Janela com a ocorrência:**\n",
    "\n",
    "<a href=\"[imagens/HDB/hdb-r1.png](https://ericbrasiln.github.io/ferramentas_digitais_UNILAB/imagens/HDB/hdb-r1.png)\" target=\"_blank\">\n",
    "    <img src=\"https://ericbrasiln.github.io/ferramentas_digitais_UNILAB/imagens/HDB/hdb-r1.png\" style=\"width: 600px;\"/>\n",
    "</a>"
   ]
  },
  {
   "cell_type": "markdown",
   "metadata": {},
   "source": [
    "**Menu superior:**\n",
    "\n",
    "<a href=\"https://ericbrasiln.github.io/ferramentas_digitais_UNILAB/imagens/HDB/hdb-r2.png\" target=\"_blank\">\n",
    "    <img src=\"https://ericbrasiln.github.io/ferramentas_digitais_UNILAB/imagens/HDB/hdb-r2.png\" />\n",
    "</a>"
   ]
  },
  {
   "cell_type": "markdown",
   "metadata": {},
   "source": [
    "**Aba lateral:**\n",
    "\n",
    "<a href=\"https://ericbrasiln.github.io/ferramentas_digitais_UNILAB/imagens/HDB/HDB-r3.png\" target=\"_blank\">\n",
    "    <img src=\"https://ericbrasiln.github.io/ferramentas_digitais_UNILAB/imagens/HDB/HDB-r3.png\" />\n",
    "</a>"
   ]
  },
  {
   "cell_type": "markdown",
   "metadata": {},
   "source": [
    "**Opções de visualização:**\n",
    "\n",
    "<a href=\"https://ericbrasiln.github.io/ferramentas_digitais_UNILAB/imagens/HDB/hdb-r5.png\" target=\"_blank\">\n",
    "    <img src=\"https://ericbrasiln.github.io/ferramentas_digitais_UNILAB/imagens/HDB/hdb-r5.png\" >\n",
    "</a>"
   ]
  },
  {
   "cell_type": "markdown",
   "metadata": {},
   "source": [
    "**Marcação do resultado:**\n",
    "\n",
    "<a href=\"https://ericbrasiln.github.io/ferramentas_digitais_UNILAB/imagens/HDB/hdb-r4.png\" target=\"_blank\">\n",
    "    <img src=\"https://ericbrasiln.github.io/ferramentas_digitais_UNILAB/imagens/HDB/hdb-r4.png\" style=\"width: 200px;\" />\n",
    "</a>"
   ]
  },
  {
   "cell_type": "markdown",
   "metadata": {},
   "source": [
    "✅️ Salvando as referências:\n",
    "\n",
    "É preciso criar um método de registro e citação de cada referência encontrada. \n",
    "Nome do jornal, data, número da edição, página, hyperlink e demais dados sobre a coleção estão disponíveis em cada ocorrência.\n",
    "\n",
    "Também é possível salvar a maioria dos jornais acessados. Basta clicar com o botão direito na imagem e depois `Salvar imagem como`\n",
    "\n",
    "Não deixe de salvar o hyperlink para recuperar e citar a fonte com precisão.\n",
    "\n",
    "⚠️ Dica 1: antes de salvar, clique em `100%` no menu de visualização, assim vc salvará a imagem na maior resolução digittalizada.\n",
    "\n",
    "⚠️ Dica 2: Faça buscas de até três termos entre aspas, para frases exatas.\n",
    "\n",
    "⚠️ Dica 3: instale a extensão [CopyFish](https://chrome.google.com/webstore/detail/copyfish-%F0%9F%90%9F-free-ocr-soft/eenjdnjldapjajjofmldgmkjaienebbj) em seu navegador e faça reconhecimento instantâneo de caracteres."
   ]
  },
  {
   "cell_type": "markdown",
   "metadata": {},
   "source": [
    "## 🎯 Tarefa 2 (AA)\n",
    "\n",
    "**Tema**: Levantamento bibliográfico / HDB \n",
    "\n",
    "**Data**: 10/11/2021 - 16/11/2021\n",
    "\n",
    "**CH**: 1 hora\n",
    "\n",
    "1. Escolha **uma das opções** para realizar a tarefa:\n",
    "   * 📌 Levantamento Bibliográfico online com Google Acadêmico\n",
    "   * 📌 Pesquisa na Hemeroteca Digital Brasileira\n",
    "2. Faça buscas com **dois termos distintos** e utilize o máximo de parâmetros e opções para filtrar suas buscas.\n",
    "3. **Registre os parâmetros utilizados na busca e o resultado obtido** em um arquivo de texto simples (sem formatação, salvo no formato txt)."
   ]
  }
 ],
 "metadata": {
  "language_info": {
   "name": "python"
  }
 },
 "nbformat": 4,
 "nbformat_minor": 2
}
