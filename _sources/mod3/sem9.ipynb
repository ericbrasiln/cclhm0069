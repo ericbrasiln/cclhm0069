{
 "cells": [
  {
   "cell_type": "markdown",
   "metadata": {},
   "source": [
    "# Semana 9\n",
    "\n",
    "**Período**: 06/12/2021 a 10/12/2021\n",
    "\n",
    "**CH**: 4h"
   ]
  },
  {
   "cell_type": "markdown",
   "metadata": {},
   "source": [
    "| Tipo          | [Encontro Virtual 6 (AS)](https://ericbrasiln.github.io/intro-historia-digital/mod3/sem9.html#encontro-virtual-6-as)| Leitura 5 (AS)|\n",
    "| ------------- | -------------------------------------------- |-------------------------------------------- |\n",
    "| Data e hora | 08/12/2021, às 19h | 06/12/2021 a 10/12/2021 |\n",
    "| Carga Horária | 2h | 2h |\n",
    "| Descrição | Algoritmos e dataficação da sociedade: desigualdade, racismo e violências - Debate de textos | Leitura para o Encontro Virtual 7 |"
   ]
  }
 ],
 "metadata": {
  "language_info": {
   "name": "python"
  }
 },
 "nbformat": 4,
 "nbformat_minor": 2
}
