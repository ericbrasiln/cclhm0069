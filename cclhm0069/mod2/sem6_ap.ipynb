{
 "cells": [
  {
   "cell_type": "markdown",
   "metadata": {},
   "source": [
    "# Organização de pesquisa e referêncas com Zotero\n",
    "\n",
    "<small>Material para a [semana 6](https://ericbrasiln.github.io/intro-historia-digital/mod2/sem6.html), 16/11/2021 a 19/11/2021</small>"
   ]
  },
  {
   "cell_type": "markdown",
   "metadata": {},
   "source": [
    "O objetivo dessa semana é capacitar os discentes do curso no uso de ferramentas de organização e gereciamento de bibliografia para psequisa e produção de trabalhos acadêmicos.\n",
    "\n",
    "Para isso teremos um tutorial e uma gravação de workshop sobre o programa Zotero. \n",
    "\n",
    "O [Zotero](https://www.zotero.org/) é um programa de código livre e aberto, gratuito, que tem como objetivo o gerenciamento, organização e armazenamento de referências bibliográficas, criando uma biblioteca organizada em coleções. O programa possibilita gerar notas/fichamentos, tecer conexões/links entre as referências, atribuição de etiquetas/marcadores, entre outras funções.O Zotero permite ao usuário administrar sua biblioteca em mais de um dispositivo através da sincronização do programa à conta online no servidor de Zotero, tornando possível acessar as informações armazenadas no computador pessoal, a criação de grupos e biblioteca compartilhada. O programa também permite a integração com os diversos editores de texto, permitindo a criação de referências às  citações e criação de bibliografias automáticas a partir de todas as citações presentes no texto no estilo selecionado pelo usuário. "
   ]
  },
  {
   "cell_type": "markdown",
   "metadata": {},
   "source": [
    "## *Zotero do Zero*: Tutorial de instalação do Zotero no Windows 10"
   ]
  },
  {
   "cell_type": "markdown",
   "metadata": {},
   "source": [
    "<iframe width=\"560\" height=\"315\" src=\"https://youtu.be/CPdhyKboKC0\" title=\"Zotero do Zero\" frameborder=\"0\" allow=\"accelerometer; autoplay; clipboard-write; encrypted-media; gyroscope; picture-in-picture\" allowfullscreen></iframe>"
   ]
  },
  {
   "cell_type": "markdown",
   "metadata": {},
   "source": [
    "## Workshop de Zotero\n"
   ]
  },
  {
   "cell_type": "markdown",
   "metadata": {},
   "source": [
    "<iframe width=\"560\" height=\"315\" src=\"https://youtu.be/I5ohkh5d51Y\" title=\"Workshop de Zotero\" frameborder=\"0\" allow=\"accelerometer; autoplay; clipboard-write; encrypted-media; gyroscope; picture-in-picture\" allowfullscreen></iframe>"
   ]
  },
  {
   "cell_type": "markdown",
   "metadata": {},
   "source": [
    "## Tarefa 3\n",
    "\n",
    "1. Criar uma conta no [Zotero](https://www.zotero.org/);\n",
    "2. Instalar o programa no computador e incluir a [bibliografia](https://ericbrasiln.github.io/intro-historia-digital/1_1_biblio.html) do curso no programa.\n",
    "3. Integrar o programa com editor de texto (Word, LibreOffice, etc) e gerar citações automáticas no estilo **ABNT**."
   ]
  }
 ],
 "metadata": {
  "language_info": {
   "name": "python"
  },
  "orig_nbformat": 4
 },
 "nbformat": 4,
 "nbformat_minor": 2
}
