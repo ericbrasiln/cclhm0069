{
 "cells": [
  {
   "cell_type": "markdown",
   "metadata": {},
   "source": [
    "# 4a. Ferramentas digitais e o ensino de história\n",
    "\n",
    "| Tipo de atividade | Quantidade | CH   |\n",
    "| ----------------- | ---------- | ---- |\n",
    "| AA [Tutoriais]    | 3          | 7h30  |\n",
    "| AS [Workshop]     | 1          | 2h30\n",
    "\n",
    "* Carga horária total: 10h\n",
    "* Dificuldade: Média\n",
    "\n",
    "## Temas\n",
    "\n",
    "1. Markdown\n",
    "2. [StoryMapJs](https://storymap.knightlab.com/)\n",
    "3. [Reveal.js](https://revealjs.com/)\n",
    "4. Podcast para ensino de história"
   ]
  }
 ],
 "metadata": {
  "language_info": {
   "name": "python"
  }
 },
 "nbformat": 4,
 "nbformat_minor": 2
}
