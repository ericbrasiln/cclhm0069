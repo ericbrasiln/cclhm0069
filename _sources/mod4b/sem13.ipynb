{
 "cells": [
  {
   "cell_type": "markdown",
   "metadata": {},
   "source": [
    "# Semana 13\n",
    "\n",
    "**Período**: 24/01/2022 a 28/01/2022\n",
    "\n",
    "**CH**: 2h"
   ]
  },
  {
   "cell_type": "markdown",
   "metadata": {},
   "source": [
    "| Tipo          | [Live Coding 2 (AS)](https://ericbrasiln.github.io/intro-historia-digital/mod4b/sem12.html#live-coding-2-as)|\n",
    "| ------------- | -------------------------------------------- |\n",
    "| Data e hora | 26/01/2022, às 19h |\n",
    "| Carga Horária | 2h30 |\n",
    "| Descrição | Python do Zero II |\n",
    "\n",
    "[**Link para a página da semana**](https://ericbrasiln.github.io/intro-historia-digital/mod4b/sem13.html#semana-13)"
   ]
  }
 ],
 "metadata": {
  "language_info": {
   "name": "python"
  }
 },
 "nbformat": 4,
 "nbformat_minor": 2
}
