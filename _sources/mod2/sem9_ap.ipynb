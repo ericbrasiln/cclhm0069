{
 "cells": [
  {
   "cell_type": "markdown",
   "metadata": {},
   "source": [
    "# Análise automática de texto\n",
    "\n",
    "<small>Material para o Encontro Virtual 5, 08/12/2021, referente à [semana 9 do curso](https://ericbrasiln.github.io/intro-historia-digital/mod2/sem9.html#)</small>"
   ]
  },
  {
   "cell_type": "markdown",
   "metadata": {},
   "source": [
    "O objetivo desse encontro virtual é discutir procedimentos automatizados de análise de textos escritos por meio de ferramentas digitais.\n",
    "\n",
    "Iniciaremos com um debate sobre as especificidades desses procedimentos e as reflexões anteriores que devem ser consideradas para a construção de um modelo de análise de textos.\n",
    "\n",
    "Em seguida, vamos realizar um workshop para o uso do [Voyant Tools](https://www.voyant-tools.org/)."
   ]
  },
  {
   "cell_type": "markdown",
   "metadata": {},
   "source": [
    "## Do que estamos falando? Computadores podem ler textos e entender como humanos?\n",
    "\n",
    "Como um computador lê?"
   ]
  },
  {
   "cell_type": "markdown",
   "metadata": {},
   "source": [
    "## Semântica: sentido das palavras.\n",
    "\n",
    "- Conotação: significado criado pelo contexto\n",
    "- Denotação: sentido original\n",
    "\n",
    "### Ambiguidade\n",
    "\n",
    "- Escapa ao computador\n",
    "- Como remediar essa questão na leitura realizada por computadores?\n",
    "- Pensar desambiguidades\n",
    "\n",
    "### Polissemia\n",
    "\n",
    "Uma palavra apresentando vários significados."
   ]
  },
  {
   "cell_type": "markdown",
   "metadata": {},
   "source": [
    "## Corpus\n",
    "\n",
    "- Uma coleção de textos de uma dada língua reunidos para serem analisados. Esses textos já existiam no idioma e não foram criados para compor o corpus. [(Silva & Silva, 2013)](http://www.anpad.org.br/admin/pdf/2013_EnANPAD_EPQ1021.pdf)\n",
    "\n",
    "- Termo utilizado sobretudo para estudos linguísticos;\n",
    "\n",
    "- Analisar o contexto de produção, os susjeitos e grupos sociais que participaram da sua construção, o público alvo, etc.\n",
    "\n",
    "- Perguntas de pesquisa (e seus enquadramentos teóricos): são fundamentais para a construção das categorias e etiquetas a serem atribuídas em seu corpus."
   ]
  },
  {
   "cell_type": "markdown",
   "metadata": {},
   "source": [
    "## [![logo](https://github.com/aurelberra/voyant_tools/raw/master/images/voyant-logo_0.png)](https://voyant-tools.org/) Voyant Tools "
   ]
  },
  {
   "cell_type": "markdown",
   "metadata": {},
   "source": [
    "[Sobre](https://voyant-tools.org/docs/#!/guide/about):\n",
    "\n",
    "```\n",
    "Voyant Tools é um ambiente de leitura e análise de texto baseado na web. É um projeto acadêmico que visa facilitar a leitura e as práticas interpretativas para estudantes e acadêmicos de humanidades digitais, bem como para o público em geral.\n",
    "\n",
    "O que você pode fazer com a Voyant:\n",
    "\n",
    "- Use-o para aprender como funciona a análise assistida por computador. Confira nossos exemplos que mostram como realizar tarefas acadêmicas reais com a Voyant.\n",
    "\n",
    "- Use-o para estudar textos que encontra na web ou textos que editou cuidadosamente e tem no seu computador.\n",
    "\n",
    "- Use-o para adicionar funcionalidade a suas coleções online, jornais, blogs ou sites da web para que outras pessoas possam ver seus textos com ferramentas analíticas.\n",
    "\n",
    "- Use-o para adicionar evidências interativas aos seus ensaios que você publica online. Adicione painéis interativos diretamente em seus ensaios de pesquisa (se eles puderem ser publicados online) para que seus leitores possam recapitular seus resultados.\n",
    "\n",
    "- Use-o para desenvolver suas próprias ferramentas usando nossa funcionalidade e código. \n",
    "```"
   ]
  },
  {
   "cell_type": "markdown",
   "metadata": {},
   "source": [
    "## Distant Reading\n",
    "\n",
    ">A leitura distante é uma abordagem em estudos literários que aplica métodos computacionais a dados literários, geralmente derivados de grandes bibliotecas digitais, para fins de história e teoria literárias. Embora o termo seja coletivo e seja usado para se referir a uma gama de diferentes métodos computacionais de análise de dados literários, abordagens semelhantes também incluem macroanálise, análise cultural, formalismo computacional, estudos literários computacionais, estudos literários quantitativos e crítica literária algorítmica.\n",
    "\n",
    "Fonte: [Wikipedia](https://en.wikipedia.org/wiki/Distant_reading)\n"
   ]
  },
  {
   "cell_type": "markdown",
   "metadata": {},
   "source": [
    "## Exemplo: Corpus Port-of-Spain Gazette (1882-1909)\n",
    "\n",
    "[Link para o corpus](http://u.pc.cd/07M7)\n",
    "\n",
    "1. Abrir Corpus\n",
    "2. Layout\n",
    "3. Cirrus\n",
    "4. Links\n",
    "\t- `labour`\n",
    "5. Tendências\n",
    "\t- `hard; labour; fight; stick; police`\n",
    "6. Contextos\n",
    "\t- `hard labour`\n",
    "\t- `woman`"
   ]
  }
 ],
 "metadata": {
  "language_info": {
   "name": "python"
  },
  "orig_nbformat": 4
 },
 "nbformat": 4,
 "nbformat_minor": 2
}
