{
 "cells": [
  {
   "cell_type": "markdown",
   "metadata": {},
   "source": [
    "# Módulo 2. Ferramentas digitais e a pesquisa histórica"
   ]
  },
  {
   "cell_type": "markdown",
   "metadata": {},
   "source": [
    "| Tipo de atividade | Quantidade        | CH   |\n",
    "| ----------------- | ----------------- | ---- |\n",
    "| EV [workshops]    | 3 (2h30)          | 7h30 |\n",
    "| AA                | 1 (2h30) + 1 (2h) | 4h30 |\n",
    "| Leitura           | 1 (4h)            | 4h   |\n",
    "\n",
    "* Carga horária total: 16h\n",
    "* Dificuldade Baixa\n",
    "\n",
    "## Temas\n",
    "\n",
    "1. Workshop 01: Repositórios de fontes online e a pesquisa digital\n",
    "2. Vídeo-aula: Organização: Zotero\n",
    "3. Workshop 02: Tratamento de texto com OCR\n",
    "4. Workshop 03: Análise de texto: Voyant tools e TagTog\n"
   ]
  }
 ],
 "metadata": {
  "language_info": {
   "name": "python"
  },
  "orig_nbformat": 4
 },
 "nbformat": 4,
 "nbformat_minor": 2
}
