{
 "cells": [
  {
   "cell_type": "markdown",
   "metadata": {},
   "source": [
    "# 3. Algoritmos, Dataficação e Sociedade\n",
    "\n",
    "| Tipo de atividade     | Quantidade | CH   |\n",
    "| --------------------- | ---------- | ---- |\n",
    "| EV [Debates de texto] | 2 (2h)     | 4h   |\n",
    "| Leitura               | 2 (3h)     | 6h   |\n",
    "\n",
    "* Carga horária total: 10h\n",
    "* Dificuldade Baixa\n",
    "\n",
    "## Temas\n",
    "\n",
    "1. Algoritmos e dataficação da sociedade: desigualdade, racismo e violências\n",
    "2. Fazer história com vestígios digitais: por uma história social digital\n"
   ]
  }
 ],
 "metadata": {
  "language_info": {
   "name": "python"
  }
 },
 "nbformat": 4,
 "nbformat_minor": 2
}
