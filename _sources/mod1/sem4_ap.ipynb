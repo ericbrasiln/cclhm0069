{
 "cells": [
  {
   "cell_type": "markdown",
   "metadata": {},
   "source": [
    "# Passado, futuro e presente do digital na História: Fontes, método e análise\n",
    "\n",
    "<small>Material para o Encontro Virtual 2, 03/11/2021</small>"
   ]
  },
  {
   "cell_type": "markdown",
   "metadata": {},
   "source": [
    "Nessa aula vamos debater acerca dos elementos constitutivos da disciplina História e sua relação com as transformações e continuidades na era digital.\n",
    "\n",
    "Buscamos avaliar o papel dos profissionais da História diante da sociedade contemporânea, assim como refletir sobre as mudanças de percepção do tempo e como isso pode afetar as formas de analisar e entender o passado e impactar nas formas de ensinar e narrar a História."
   ]
  },
  {
   "cell_type": "markdown",
   "metadata": {},
   "source": [
    "## O historiador do futuro ou será programador ou não será?"
   ]
  },
  {
   "cell_type": "markdown",
   "metadata": {},
   "source": [
    "<img src=\"https://media4.giphy.com/media/Xch9I90tRezyicQgma/giphy.gif?cid=790b7611917058ce2d4fba49c611758a9bd0f87a2ea36267&rid=giphy.gif&ct=g\" alt=\"wall-e\" style=\"zoom:100%;\" />"
   ]
  },
  {
   "cell_type": "markdown",
   "metadata": {},
   "source": [
    "FORTES, A.; ALVIM, L. G. M. Evidências, códigos e classificações: o ofício do historiador e o mundo digital. *Esboços: histórias em contextos globais*, v. 27, n. 45, p. 207–227, 19 jun. 2020. \n",
    "\n",
    "### Ofício do Históriador/a "
   ]
  },
  {
   "cell_type": "markdown",
   "metadata": {},
   "source": [
    "#### Marc Bloch (2001) e E. P. Thompson (1981)\n",
    "\n",
    "1. Conhecimento histórico => análise de fontes, validado pelo diálogo com a realidade, voltado para orientação da ação humana no presete (210)\n",
    "2. Fontes sçao epistemologicamente transformadas em conhecimento histórico pela formulação de problçemas (Bloch) e perguntas que interrogam as evidências (Thompson)\n"
   ]
  },
  {
   "cell_type": "markdown",
   "metadata": {},
   "source": [
    "#### Questões centrais da virada digital na História\n",
    "\n",
    "1. AMpliação de fontes + ferramentas que auxiliam em análises 'de qualidade superior'\n",
    "2. Qual contribuição do ofício dp historiador/a para o enfrentamento dos dilemas da sociedade contemporânea marcada por Big Data, Fake news e Inteligência Artificial"
   ]
  },
  {
   "cell_type": "markdown",
   "metadata": {},
   "source": [
    "### Codificar e classificar\n",
    "\n",
    "> De que modo as operações congnitivas referentes à linguagem realizadas pelo historiador são afetadas pelo desenvolvimento da tecnologia digital? (212)"
   ]
  },
  {
   "cell_type": "markdown",
   "metadata": {},
   "source": [
    "#### Linguagem de processamento natural\n",
    "\n",
    "Computadores \"lendo\" e \"entendendo\" linguagem humana."
   ]
  },
  {
   "cell_type": "markdown",
   "metadata": {},
   "source": [
    "### Produção de conhecimento histórico e a relevância na era Digital\n",
    "\n",
    "Instrumentos do historiodor/a - manipular evidências, transformar em 'informações racionalmente classificadas', escrever narrativas: é ao mesmo tempo método e técnica, mas também sensibilidade, 'intuição alta' (nas palavras de Ginzburg)\n",
    "\n",
    "> Chegarão as máquinas a desenvolver esse tipo de “alta intuição”? Em que tipo de operação cognitiva a inteligência artificial já pode, hoje em dia, auxiliar a pesquisa histórica? (215)"
   ]
  },
  {
   "cell_type": "markdown",
   "metadata": {},
   "source": [
    "#### Possibilidades e caminhos: Inteligência Articifial, Processamento de Linguagem Natural e mais...\n",
    "\n",
    "- Análise textual (gramática, semântica, lexicográfica, etc.)\n",
    "- NER (Name Entity Recognition) - Nomes, entidades, etc.\n",
    "- Topic modeling - Modelagem de tópicos\n",
    "- Reconhecimento de Layout\n",
    "- Análise de redes\n",
    "- Georeferenciamento"
   ]
  },
  {
   "cell_type": "markdown",
   "metadata": {},
   "source": [
    "### Um rápido exemplo: Python e spaCy para \"ler\" Helena de Machado de Assis"
   ]
  },
  {
   "cell_type": "markdown",
   "metadata": {},
   "source": [
    "> Esses exemplos foram inspirados pelo material produzido por Melanie Walsh em  seu curso [\"Introduction to cultural analytics & Python\"](https://melaniewalsh.github.io/Intro-Cultural-Analytics/05-Text-Analysis/Multilingual/Portuguese/00-Portuguese.html)."
   ]
  },
  {
   "cell_type": "code",
   "execution_count": null,
   "metadata": {},
   "outputs": [],
   "source": [
    "# Instalando spacy\n",
    "!pip install spacy"
   ]
  },
  {
   "cell_type": "code",
   "execution_count": 1,
   "metadata": {},
   "outputs": [],
   "source": [
    "# importando spacy para ser usado no Python\n",
    "import spacy"
   ]
  },
  {
   "cell_type": "code",
   "execution_count": 2,
   "metadata": {},
   "outputs": [],
   "source": [
    "# lendo o arquivo de texto\n",
    "corpus = open('helena.txt', 'r').read()\n",
    "# carregando o modelo de linguagem\n",
    "nlp = spacy.load('pt_core_news_lg')\n",
    "# processando o texto\n",
    "doc = nlp(corpus)"
   ]
  },
  {
   "cell_type": "code",
   "execution_count": 24,
   "metadata": {},
   "outputs": [
    {
     "name": "stdout",
     "output_type": "stream",
     "text": [
      "HELENA MISC\n",
      "Machado de Assis PER\n",
      "Helena PER\n",
      "M. de A.\n",
      "\n",
      " \n",
      "CAPÍTULO I PER\n",
      "Vale ORG\n",
      "Dr. Camargo PER\n",
      "Melchior PER\n",
      "Andaraí LOC\n",
      "Estado LOC\n",
      "Dr. Estácio PER\n",
      "D. Úrsula PER\n",
      "Estácio PER\n",
      "Dr. Camargo PER\n",
      "Estácio PER\n",
      "D. Úrsula PER\n",
      "Estácio PER\n",
      "Camargo LOC\n",
      "Quer MISC\n",
      "Estácio PER\n",
      "Estácio PER\n"
     ]
    }
   ],
   "source": [
    "# para cada entidade até 50 tokens\n",
    "for named_entity in doc.ents[:20]:\n",
    "    # imprimindo o nome da entidade\n",
    "    print(named_entity.text, named_entity.label_)"
   ]
  },
  {
   "cell_type": "code",
   "execution_count": null,
   "metadata": {},
   "outputs": [],
   "source": [
    "spacy.displacy.render(doc,style='ent') # renderizando a entidade"
   ]
  },
  {
   "cell_type": "code",
   "execution_count": 7,
   "metadata": {},
   "outputs": [],
   "source": [
    "# importando tokens\n",
    "from spacy import tokens "
   ]
  },
  {
   "cell_type": "code",
   "execution_count": 8,
   "metadata": {},
   "outputs": [],
   "source": [
    "# transformando em tokens\n",
    "tokens = [token.orth_ for token in doc] # token.orth_ = token.text"
   ]
  },
  {
   "cell_type": "code",
   "execution_count": 9,
   "metadata": {},
   "outputs": [
    {
     "name": "stdout",
     "output_type": "stream",
     "text": [
      "Classes no corpus: [('HELENA', 'PROPN'), ('\\n\\n\\n', 'SPACE'), ('Machado', 'PROPN'), ('de', 'ADP'), ('Assis', 'PROPN'), ('\\n\\n\\n\\n\\n\\n\\n\\n\\n\\n\\n \\n', 'SPACE'), ('ADVERTÊNCIA', 'PROPN'), ('\\n\\n\\n', 'SPACE'), ('Esta', 'DET'), ('nova', 'ADJ'), ('edição', 'NOUN'), ('de', 'ADP'), ('Helena', 'PROPN'), ('sai', 'VERB'), ('com', 'ADP'), ('várias', 'DET'), ('emendas', 'NOUN'), ('de', 'ADP'), ('linguagem', 'NOUN'), ('e', 'CCONJ'), ('outras', 'PRON'), (',', 'PUNCT'), ('que', 'PRON'), ('não', 'ADV'), ('alteram', 'VERB'), ('a', 'DET'), ('feição', 'NOUN'), ('do', 'ADP'), ('livro', 'NOUN'), ('.', 'PUNCT'), ('Ele', 'PRON'), ('é', 'AUX'), ('o', 'DET'), ('mesmo', 'PRON'), ('da', 'ADP'), ('data', 'NOUN'), ('em', 'ADP'), ('que', 'PRON'), ('o', 'PRON'), ('compus', 'VERB'), ('e', 'CCONJ'), ('imprimi', 'VERB'), (',', 'PUNCT'), ('diverso', 'ADJ'), ('do', 'ADP'), ('que', 'PRON'), ('o', 'DET'), ('tempo', 'NOUN'), ('me', 'PRON'), ('fez', 'VERB')]\n"
     ]
    }
   ],
   "source": [
    "classes = [(token.orth_, token.pos_) for token in doc] # part of speech = classes gramaticais\n",
    "print(f'Classes no corpus: {classes[:50]}')"
   ]
  },
  {
   "cell_type": "code",
   "execution_count": 10,
   "metadata": {},
   "outputs": [
    {
     "name": "stdout",
     "output_type": "stream",
     "text": [
      "Morfologias: [('HELENA', Gender=Masc|Number=Sing), ('\\n\\n\\n', ), ('Machado', Number=Sing), ('de', ), ('Assis', Number=Sing), ('\\n\\n\\n\\n\\n\\n\\n\\n\\n\\n\\n \\n', ), ('ADVERTÊNCIA', Number=Sing), ('\\n\\n\\n', ), ('Esta', Gender=Fem|Number=Sing|PronType=Dem), ('nova', Gender=Fem|Number=Sing), ('edição', Gender=Fem|Number=Sing), ('de', ), ('Helena', Gender=Fem|Number=Sing), ('sai', Mood=Ind|Number=Sing|Person=3|Tense=Pres|VerbForm=Fin), ('com', ), ('várias', Gender=Fem|Number=Plur|PronType=Ind), ('emendas', Gender=Fem|Number=Plur), ('de', ), ('linguagem', Gender=Fem|Number=Sing), ('e', ), ('outras', Gender=Fem|Number=Plur|PronType=Ind), (',', ), ('que', Gender=Masc|Number=Plur|PronType=Rel), ('não', Polarity=Neg), ('alteram', Mood=Ind|Number=Plur|Person=3|Tense=Pres|VerbForm=Fin), ('a', Definite=Def|Gender=Fem|Number=Sing|PronType=Art), ('feição', Gender=Fem|Number=Sing), ('do', Definite=Def|Gender=Masc|Number=Sing|PronType=Art), ('livro', Gender=Masc|Number=Sing), ('.', ), ('Ele', Case=Nom|Gender=Masc|Number=Sing|Person=3|PronType=Prs), ('é', Mood=Ind|Number=Sing|Person=3|Tense=Pres|VerbForm=Fin), ('o', Definite=Def|Gender=Masc|Number=Sing|PronType=Art), ('mesmo', Gender=Masc|Number=Sing|PronType=Dem), ('da', Definite=Def|Gender=Fem|Number=Sing|PronType=Art), ('data', Gender=Fem|Number=Sing), ('em', ), ('que', Gender=Fem|Number=Sing|PronType=Rel), ('o', Case=Acc|Gender=Masc|Number=Sing|Person=3|PronType=Prs), ('compus', Mood=Ind|Number=Sing|Person=3|Tense=Pres|VerbForm=Fin), ('e', ), ('imprimi', Mood=Ind|Number=Sing|Person=1|Tense=Past|VerbForm=Fin), (',', ), ('diverso', Gender=Masc|Number=Sing), ('do', Gender=Masc|Number=Sing|PronType=Dem), ('que', Gender=Masc|Number=Sing|PronType=Rel), ('o', Definite=Def|Gender=Masc|Number=Sing|PronType=Art), ('tempo', Gender=Masc|Number=Sing), ('me', Case=Dat|Gender=Unsp|Number=Sing|Person=1|PronType=Prs), ('fez', Mood=Ind|Number=Sing|Person=3|Tense=Past|VerbForm=Fin)]\n"
     ]
    }
   ],
   "source": [
    "morfologicas = [(token.orth_, token.morph) for token in doc] # morfologia de cada token\n",
    "print(f'Morfologias: {morfologicas[:50]}')"
   ]
  },
  {
   "cell_type": "code",
   "execution_count": 12,
   "metadata": {},
   "outputs": [
    {
     "name": "stdout",
     "output_type": "stream",
     "text": [
      "Verbos no corpus: ['sair', 'alterar', 'compor', 'imprimir', 'fazer', 'corresponder', 'fazer', 'prezar', 'haver', 'ouvir', 'reler', 'tirar', 'pertencer', 'morrer', 'Morreu', 'cochilar', 'costumar', 'dizer', 'preparar', 'jogar', 'chamar', 'chegar', 'empregar', 'poder', 'dar-lhe', 'fez-se', 'virar', 'acompanhar', 'achando-se', 'representar', 'figurar', 'ocupar', 'elevar', 'adquirir', 'descender', 'exercer', 'havendo-se', 'decorar', 'advir', 'conservar', 'achar', 'dar', 'Tinha', 'colhido', 'poder', 'confundir-se', 'deitar', 'haver', 'ver', 'ir']\n"
     ]
    }
   ],
   "source": [
    "lemma_tokens = [token.lemma_ for token in doc if token.pos_ == 'VERB'] # reduz a palavra para o lema, nesse caso, apenas os verbos\n",
    "print(f'Verbos no corpus: {lemma_tokens[:50]}')"
   ]
  },
  {
   "cell_type": "code",
   "execution_count": 14,
   "metadata": {},
   "outputs": [
    {
     "name": "stdout",
     "output_type": "stream",
     "text": [
      "Tokens alfa: ['HELENA', 'Machado', 'de', 'Assis', 'ADVERTÊNCIA', 'Esta', 'nova', 'edição', 'de', 'Helena', 'sai', 'com', 'várias', 'emendas', 'de', 'linguagem', 'e', 'outras', 'que', 'não', 'alteram', 'a', 'feição', 'do', 'livro', 'Ele', 'é', 'o', 'mesmo', 'da', 'data', 'em', 'que', 'o', 'compus', 'e', 'imprimi', 'diverso', 'do', 'que', 'o', 'tempo', 'me', 'fez', 'depois', 'correspondendo', 'assim', 'ao', 'capítulo', 'da']\n"
     ]
    }
   ],
   "source": [
    "alpha_tokens = [token.orth_ for token in doc if token.is_alpha]\n",
    "print(f'Tokens alfa: {alpha_tokens[:50]}')"
   ]
  },
  {
   "cell_type": "code",
   "execution_count": 15,
   "metadata": {},
   "outputs": [],
   "source": [
    "# criar grupos de tokens\n",
    "import math\n",
    "number_of_chunks = 80  # numero de grupos\n",
    "\n",
    "chunk_size = math.ceil(len(corpus) / number_of_chunks) # tamanho de cada grupo\n",
    "\n",
    "text_chunks = [] # lista de grupos\n",
    "\n",
    "for number in range(0, len(corpus), chunk_size): # para cada grupo\n",
    "    text_chunk = corpus[number:number+chunk_size]\n",
    "    text_chunks.append(text_chunk) "
   ]
  },
  {
   "cell_type": "code",
   "execution_count": 16,
   "metadata": {},
   "outputs": [],
   "source": [
    "chunked_documents = list(nlp.pipe(text_chunks)) # processando cada grupo"
   ]
  },
  {
   "cell_type": "code",
   "execution_count": 17,
   "metadata": {},
   "outputs": [],
   "source": [
    "import pandas as pd # para criar um dataframe"
   ]
  },
  {
   "cell_type": "code",
   "execution_count": 18,
   "metadata": {},
   "outputs": [],
   "source": [
    "from collections import Counter # para contar o numero de tokens por grupo"
   ]
  },
  {
   "cell_type": "code",
   "execution_count": 19,
   "metadata": {},
   "outputs": [
    {
     "data": {
      "text/html": [
       "<div>\n",
       "<style scoped>\n",
       "    .dataframe tbody tr th:only-of-type {\n",
       "        vertical-align: middle;\n",
       "    }\n",
       "\n",
       "    .dataframe tbody tr th {\n",
       "        vertical-align: top;\n",
       "    }\n",
       "\n",
       "    .dataframe thead th {\n",
       "        text-align: right;\n",
       "    }\n",
       "</style>\n",
       "<table border=\"1\" class=\"dataframe\">\n",
       "  <thead>\n",
       "    <tr style=\"text-align: right;\">\n",
       "      <th></th>\n",
       "      <th>character</th>\n",
       "      <th>count</th>\n",
       "    </tr>\n",
       "  </thead>\n",
       "  <tbody>\n",
       "    <tr>\n",
       "      <th>0</th>\n",
       "      <td>Estácio</td>\n",
       "      <td>501</td>\n",
       "    </tr>\n",
       "    <tr>\n",
       "      <th>1</th>\n",
       "      <td>Helena</td>\n",
       "      <td>479</td>\n",
       "    </tr>\n",
       "    <tr>\n",
       "      <th>2</th>\n",
       "      <td>D. Úrsula</td>\n",
       "      <td>158</td>\n",
       "    </tr>\n",
       "    <tr>\n",
       "      <th>3</th>\n",
       "      <td>Melchior</td>\n",
       "      <td>134</td>\n",
       "    </tr>\n",
       "    <tr>\n",
       "      <th>4</th>\n",
       "      <td>Mendonça</td>\n",
       "      <td>96</td>\n",
       "    </tr>\n",
       "    <tr>\n",
       "      <th>...</th>\n",
       "      <td>...</td>\n",
       "      <td>...</td>\n",
       "    </tr>\n",
       "    <tr>\n",
       "      <th>188</th>\n",
       "      <td>venturosas</td>\n",
       "      <td>1</td>\n",
       "    </tr>\n",
       "    <tr>\n",
       "      <th>189</th>\n",
       "      <td>Esvaíra-se-lhe</td>\n",
       "      <td>1</td>\n",
       "    </tr>\n",
       "    <tr>\n",
       "      <th>190</th>\n",
       "      <td>casa de Estácio</td>\n",
       "      <td>1</td>\n",
       "    </tr>\n",
       "    <tr>\n",
       "      <th>191</th>\n",
       "      <td>Sozinho</td>\n",
       "      <td>1</td>\n",
       "    </tr>\n",
       "    <tr>\n",
       "      <th>192</th>\n",
       "      <td>Perdi</td>\n",
       "      <td>1</td>\n",
       "    </tr>\n",
       "  </tbody>\n",
       "</table>\n",
       "<p>193 rows × 2 columns</p>\n",
       "</div>"
      ],
      "text/plain": [
       "           character  count\n",
       "0            Estácio    501\n",
       "1             Helena    479\n",
       "2          D. Úrsula    158\n",
       "3           Melchior    134\n",
       "4           Mendonça     96\n",
       "..               ...    ...\n",
       "188       venturosas      1\n",
       "189   Esvaíra-se-lhe      1\n",
       "190  casa de Estácio      1\n",
       "191          Sozinho      1\n",
       "192            Perdi      1\n",
       "\n",
       "[193 rows x 2 columns]"
      ]
     },
     "execution_count": 19,
     "metadata": {},
     "output_type": "execute_result"
    }
   ],
   "source": [
    "# criando um dataframe com PESSOAS\n",
    "people = []\n",
    "\n",
    "for document in chunked_documents:\n",
    "    for named_entity in document.ents:\n",
    "        if named_entity.label_ == \"PER\":\n",
    "            people.append(named_entity.text)\n",
    "\n",
    "people_tally = Counter(people)\n",
    "\n",
    "df = pd.DataFrame(people_tally.most_common(), columns=['character', 'count'])\n",
    "df"
   ]
  },
  {
   "cell_type": "code",
   "execution_count": 20,
   "metadata": {},
   "outputs": [
    {
     "data": {
      "text/html": [
       "<div>\n",
       "<style scoped>\n",
       "    .dataframe tbody tr th:only-of-type {\n",
       "        vertical-align: middle;\n",
       "    }\n",
       "\n",
       "    .dataframe tbody tr th {\n",
       "        vertical-align: top;\n",
       "    }\n",
       "\n",
       "    .dataframe thead th {\n",
       "        text-align: right;\n",
       "    }\n",
       "</style>\n",
       "<table border=\"1\" class=\"dataframe\">\n",
       "  <thead>\n",
       "    <tr style=\"text-align: right;\">\n",
       "      <th></th>\n",
       "      <th>place</th>\n",
       "      <th>count</th>\n",
       "    </tr>\n",
       "  </thead>\n",
       "  <tbody>\n",
       "    <tr>\n",
       "      <th>0</th>\n",
       "      <td>Camargo</td>\n",
       "      <td>55</td>\n",
       "    </tr>\n",
       "    <tr>\n",
       "      <th>1</th>\n",
       "      <td>Salvador</td>\n",
       "      <td>22</td>\n",
       "    </tr>\n",
       "    <tr>\n",
       "      <th>2</th>\n",
       "      <td>Andaraí</td>\n",
       "      <td>20</td>\n",
       "    </tr>\n",
       "    <tr>\n",
       "      <th>3</th>\n",
       "      <td>Rio Comprido</td>\n",
       "      <td>10</td>\n",
       "    </tr>\n",
       "    <tr>\n",
       "      <th>4</th>\n",
       "      <td>Corte</td>\n",
       "      <td>8</td>\n",
       "    </tr>\n",
       "    <tr>\n",
       "      <th>...</th>\n",
       "      <td>...</td>\n",
       "      <td>...</td>\n",
       "    </tr>\n",
       "    <tr>\n",
       "      <th>127</th>\n",
       "      <td>Passeio Público</td>\n",
       "      <td>1</td>\n",
       "    </tr>\n",
       "    <tr>\n",
       "      <th>128</th>\n",
       "      <td>Passeio</td>\n",
       "      <td>1</td>\n",
       "    </tr>\n",
       "    <tr>\n",
       "      <th>129</th>\n",
       "      <td>absolvemos</td>\n",
       "      <td>1</td>\n",
       "    </tr>\n",
       "    <tr>\n",
       "      <th>130</th>\n",
       "      <td>Ande</td>\n",
       "      <td>1</td>\n",
       "    </tr>\n",
       "    <tr>\n",
       "      <th>131</th>\n",
       "      <td>Acorreram</td>\n",
       "      <td>1</td>\n",
       "    </tr>\n",
       "  </tbody>\n",
       "</table>\n",
       "<p>132 rows × 2 columns</p>\n",
       "</div>"
      ],
      "text/plain": [
       "               place  count\n",
       "0            Camargo     55\n",
       "1           Salvador     22\n",
       "2            Andaraí     20\n",
       "3       Rio Comprido     10\n",
       "4              Corte      8\n",
       "..               ...    ...\n",
       "127  Passeio Público      1\n",
       "128          Passeio      1\n",
       "129       absolvemos      1\n",
       "130             Ande      1\n",
       "131        Acorreram      1\n",
       "\n",
       "[132 rows x 2 columns]"
      ]
     },
     "execution_count": 20,
     "metadata": {},
     "output_type": "execute_result"
    }
   ],
   "source": [
    "# criando um dataframe com LOCAIS\n",
    "places = []\n",
    "for document in chunked_documents:\n",
    "    for named_entity in document.ents:\n",
    "        if named_entity.label_ == \"LOC\":\n",
    "            places.append(named_entity.text)\n",
    "\n",
    "places_tally = Counter(places)\n",
    "\n",
    "df = pd.DataFrame(places_tally.most_common(), columns=['place', 'count'])\n",
    "df"
   ]
  },
  {
   "cell_type": "code",
   "execution_count": 21,
   "metadata": {},
   "outputs": [],
   "source": [
    "# contexto\n",
    "from IPython.display import Markdown, display\n",
    "import re\n",
    "\n",
    "def get_ner_in_context(keyword, document, desired_ner_labels= False):\n",
    "    \n",
    "    if desired_ner_labels != False:\n",
    "        desired_ner_labels = desired_ner_labels\n",
    "    else:\n",
    "        desired_ner_labels = ['PER', 'ORG', 'LOC']  \n",
    "        \n",
    "    #Iterate through all the sentences in the document and pull out the text of each sentence\n",
    "    for sentence in document.sents:\n",
    "        #process each sentence\n",
    "        sentence_doc = nlp(sentence.text)\n",
    "        for named_entity in sentence_doc.ents:\n",
    "            #Check to see if the keyword is in the sentence (and ignore capitalization by making both lowercase)\n",
    "            if keyword.lower() in named_entity.text.lower()  and named_entity.label_ in desired_ner_labels:\n",
    "                #Use the regex library to replace linebreaks and to make the keyword bolded, again ignoring capitalization\n",
    "                #sentence_text = sentence.text\n",
    "            \n",
    "                sentence_text = re.sub('\\n', ' ', sentence.text)\n",
    "                sentence_text = re.sub(f\"{named_entity.text}\", f\"**{named_entity.text}**\", sentence_text, flags=re.IGNORECASE)\n",
    "\n",
    "                display(Markdown('---'))\n",
    "                display(Markdown(f\"**{named_entity.label_}**\"))\n",
    "                display(Markdown(sentence_text))"
   ]
  },
  {
   "cell_type": "code",
   "execution_count": 28,
   "metadata": {},
   "outputs": [
    {
     "data": {
      "text/markdown": [
       "---"
      ],
      "text/plain": [
       "<IPython.core.display.Markdown object>"
      ]
     },
     "metadata": {},
     "output_type": "display_data"
    },
    {
     "data": {
      "text/markdown": [
       "**LOC**"
      ],
      "text/plain": [
       "<IPython.core.display.Markdown object>"
      ]
     },
     "metadata": {},
     "output_type": "display_data"
    },
    {
     "data": {
      "text/markdown": [
       " No dia seguinte fez-se o enterro, que foi um dos mais concorridos que ainda viram os moradores do **Andaraí**."
      ],
      "text/plain": [
       "<IPython.core.display.Markdown object>"
      ]
     },
     "metadata": {},
     "output_type": "display_data"
    },
    {
     "data": {
      "text/markdown": [
       "---"
      ],
      "text/plain": [
       "<IPython.core.display.Markdown object>"
      ]
     },
     "metadata": {},
     "output_type": "display_data"
    },
    {
     "data": {
      "text/markdown": [
       "**LOC**"
      ],
      "text/plain": [
       "<IPython.core.display.Markdown object>"
      ]
     },
     "metadata": {},
     "output_type": "display_data"
    },
    {
     "data": {
      "text/markdown": [
       "Na manhã seguinte escreveu um bilhete, que foi logo caminho de **Andaraí**."
      ],
      "text/plain": [
       "<IPython.core.display.Markdown object>"
      ]
     },
     "metadata": {},
     "output_type": "display_data"
    },
    {
     "data": {
      "text/markdown": [
       "---"
      ],
      "text/plain": [
       "<IPython.core.display.Markdown object>"
      ]
     },
     "metadata": {},
     "output_type": "display_data"
    },
    {
     "data": {
      "text/markdown": [
       "**LOC**"
      ],
      "text/plain": [
       "<IPython.core.display.Markdown object>"
      ]
     },
     "metadata": {},
     "output_type": "display_data"
    },
    {
     "data": {
      "text/markdown": [
       "Em casa foram-lhe preparados os aposentos; e marcou-se uma tarde de segunda-feira para ser a moça trasladada a **Andaraí**."
      ],
      "text/plain": [
       "<IPython.core.display.Markdown object>"
      ]
     },
     "metadata": {},
     "output_type": "display_data"
    },
    {
     "data": {
      "text/markdown": [
       "---"
      ],
      "text/plain": [
       "<IPython.core.display.Markdown object>"
      ]
     },
     "metadata": {},
     "output_type": "display_data"
    },
    {
     "data": {
      "text/markdown": [
       "**LOC**"
      ],
      "text/plain": [
       "<IPython.core.display.Markdown object>"
      ]
     },
     "metadata": {},
     "output_type": "display_data"
    },
    {
     "data": {
      "text/markdown": [
       "Se as obrigações eclesiásticas não o chamavam a outro lugar, não se arredava de **Andaraí**, sítio de repouso após trabalhosa mocidade."
      ],
      "text/plain": [
       "<IPython.core.display.Markdown object>"
      ]
     },
     "metadata": {},
     "output_type": "display_data"
    },
    {
     "data": {
      "text/markdown": [
       "---"
      ],
      "text/plain": [
       "<IPython.core.display.Markdown object>"
      ]
     },
     "metadata": {},
     "output_type": "display_data"
    },
    {
     "data": {
      "text/markdown": [
       "**LOC**"
      ],
      "text/plain": [
       "<IPython.core.display.Markdown object>"
      ]
     },
     "metadata": {},
     "output_type": "display_data"
    },
    {
     "data": {
      "text/markdown": [
       " Das outras pessoas que freqüentavam a casa e residiam no mesmo bairro de **Andaraí**, mencionaremos ainda o Dr. Matos, sua mulher, o coronel Macedo e dous filhos."
      ],
      "text/plain": [
       "<IPython.core.display.Markdown object>"
      ]
     },
     "metadata": {},
     "output_type": "display_data"
    }
   ],
   "source": [
    "for document in chunked_documents[:10]:\n",
    "    get_ner_in_context('Andaraí', document)"
   ]
  },
  {
   "cell_type": "code",
   "execution_count": 29,
   "metadata": {},
   "outputs": [
    {
     "data": {
      "text/markdown": [
       "---"
      ],
      "text/plain": [
       "<IPython.core.display.Markdown object>"
      ]
     },
     "metadata": {},
     "output_type": "display_data"
    },
    {
     "data": {
      "text/markdown": [
       "**PER**"
      ],
      "text/plain": [
       "<IPython.core.display.Markdown object>"
      ]
     },
     "metadata": {},
     "output_type": "display_data"
    },
    {
     "data": {
      "text/markdown": [
       "   Esta nova edição de **Helena** sai com várias emendas de linguagem e outras, que não alteram a feição do livro."
      ],
      "text/plain": [
       "<IPython.core.display.Markdown object>"
      ]
     },
     "metadata": {},
     "output_type": "display_data"
    },
    {
     "data": {
      "text/markdown": [
       "---"
      ],
      "text/plain": [
       "<IPython.core.display.Markdown object>"
      ]
     },
     "metadata": {},
     "output_type": "display_data"
    },
    {
     "data": {
      "text/markdown": [
       "**PER**"
      ],
      "text/plain": [
       "<IPython.core.display.Markdown object>"
      ]
     },
     "metadata": {},
     "output_type": "display_data"
    },
    {
     "data": {
      "text/markdown": [
       "O conselheiro declarava reconhecer uma filha natural, de nome **Helena**, havida com D. Ângela da Soledade."
      ],
      "text/plain": [
       "<IPython.core.display.Markdown object>"
      ]
     },
     "metadata": {},
     "output_type": "display_data"
    },
    {
     "data": {
      "text/markdown": [
       "---"
      ],
      "text/plain": [
       "<IPython.core.display.Markdown object>"
      ]
     },
     "metadata": {},
     "output_type": "display_data"
    },
    {
     "data": {
      "text/markdown": [
       "**PER**"
      ],
      "text/plain": [
       "<IPython.core.display.Markdown object>"
      ]
     },
     "metadata": {},
     "output_type": "display_data"
    },
    {
     "data": {
      "text/markdown": [
       "Parecia-lhe que, a despeito dos impulsos naturais e licenças jurídicas, o reconhecimento de **Helena** era um ato de usurpação e um péssimo exemplo."
      ],
      "text/plain": [
       "<IPython.core.display.Markdown object>"
      ]
     },
     "metadata": {},
     "output_type": "display_data"
    },
    {
     "data": {
      "text/markdown": [
       "---"
      ],
      "text/plain": [
       "<IPython.core.display.Markdown object>"
      ]
     },
     "metadata": {},
     "output_type": "display_data"
    },
    {
     "data": {
      "text/markdown": [
       "**LOC**"
      ],
      "text/plain": [
       "<IPython.core.display.Markdown object>"
      ]
     },
     "metadata": {},
     "output_type": "display_data"
    },
    {
     "data": {
      "text/markdown": [
       "A aspereza destes sentimentos tornou-se ainda maior quando lhe ocorreu a origem possível de **Helena**."
      ],
      "text/plain": [
       "<IPython.core.display.Markdown object>"
      ]
     },
     "metadata": {},
     "output_type": "display_data"
    },
    {
     "data": {
      "text/markdown": [
       "---"
      ],
      "text/plain": [
       "<IPython.core.display.Markdown object>"
      ]
     },
     "metadata": {},
     "output_type": "display_data"
    },
    {
     "data": {
      "text/markdown": [
       "**PER**"
      ],
      "text/plain": [
       "<IPython.core.display.Markdown object>"
      ]
     },
     "metadata": {},
     "output_type": "display_data"
    },
    {
     "data": {
      "text/markdown": [
       "**Helena** seria filha de um encontro fortuito, ou nasceria de algum afeto irregular embora, mas verdadeiro e único?"
      ],
      "text/plain": [
       "<IPython.core.display.Markdown object>"
      ]
     },
     "metadata": {},
     "output_type": "display_data"
    },
    {
     "data": {
      "text/markdown": [
       "---"
      ],
      "text/plain": [
       "<IPython.core.display.Markdown object>"
      ]
     },
     "metadata": {},
     "output_type": "display_data"
    },
    {
     "data": {
      "text/markdown": [
       "**PER**"
      ],
      "text/plain": [
       "<IPython.core.display.Markdown object>"
      ]
     },
     "metadata": {},
     "output_type": "display_data"
    },
    {
     "data": {
      "text/markdown": [
       "Ele percebera a má vontade com que a tia recebera a notícia do reconhecimento de **Helena**, e não podia negar a si mesmo que semelhante fato criava para a família uma nova situação."
      ],
      "text/plain": [
       "<IPython.core.display.Markdown object>"
      ]
     },
     "metadata": {},
     "output_type": "display_data"
    },
    {
     "data": {
      "text/markdown": [
       "---"
      ],
      "text/plain": [
       "<IPython.core.display.Markdown object>"
      ]
     },
     "metadata": {},
     "output_type": "display_data"
    },
    {
     "data": {
      "text/markdown": [
       "**PER**"
      ],
      "text/plain": [
       "<IPython.core.display.Markdown object>"
      ]
     },
     "metadata": {},
     "output_type": "display_data"
    },
    {
     "data": {
      "text/markdown": [
       "Quanto à camada social a que pertencia a mãe de **Helena**, não se preocupou muito com isso, certo de que eles saberiam levantar a filha até à classe a que ela ia subir."
      ],
      "text/plain": [
       "<IPython.core.display.Markdown object>"
      ]
     },
     "metadata": {},
     "output_type": "display_data"
    },
    {
     "data": {
      "text/markdown": [
       "---"
      ],
      "text/plain": [
       "<IPython.core.display.Markdown object>"
      ]
     },
     "metadata": {},
     "output_type": "display_data"
    },
    {
     "data": {
      "text/markdown": [
       "**PER**"
      ],
      "text/plain": [
       "<IPython.core.display.Markdown object>"
      ]
     },
     "metadata": {},
     "output_type": "display_data"
    },
    {
     "data": {
      "text/markdown": [
       " Estácio desejara ainda saber alguma cousa acerca da mãe de **Helena**, mas repugnou-lhe entrar em novas indagações, e tentou encarreirar a conversa para outro assunto."
      ],
      "text/plain": [
       "<IPython.core.display.Markdown object>"
      ]
     },
     "metadata": {},
     "output_type": "display_data"
    },
    {
     "data": {
      "text/markdown": [
       "---"
      ],
      "text/plain": [
       "<IPython.core.display.Markdown object>"
      ]
     },
     "metadata": {},
     "output_type": "display_data"
    },
    {
     "data": {
      "text/markdown": [
       "**PER**"
      ],
      "text/plain": [
       "<IPython.core.display.Markdown object>"
      ]
     },
     "metadata": {},
     "output_type": "display_data"
    },
    {
     "data": {
      "text/markdown": [
       " – O conselheiro falou-me algumas vezes no projeto de reconhecer **Helena**; procurei dissuadi-lo, mas sabe como era teimoso, acrescendo neste caso o natural impulso de amor paterno."
      ],
      "text/plain": [
       "<IPython.core.display.Markdown object>"
      ]
     },
     "metadata": {},
     "output_type": "display_data"
    }
   ],
   "source": [
    "for document in chunked_documents[:5]:\n",
    "    get_ner_in_context('Helena', document)"
   ]
  },
  {
   "cell_type": "markdown",
   "metadata": {},
   "source": [
    "#### O que dá pra fazer com isso?"
   ]
  },
  {
   "cell_type": "markdown",
   "metadata": {},
   "source": [
    "### Big Data terá um impacto revolucionário na base epistemológica da História?\n",
    "\n",
    "* Voltaremos a uma história quantitativa?\n",
    "* Voltaremos a uma hegemonia das fontes escritas?\n",
    "* Ou não muda nada?\n",
    "\n",
    "> Digital approaches to the past that sit within the digital humanities use our computational power to force us to look at the materials differently, to think about them playfully, and to explore what these sometimes jarring deformations could mean. (34)"
   ]
  },
  {
   "cell_type": "markdown",
   "metadata": {},
   "source": [
    "## Temporalidade e tecnologia digital\n",
    "\n",
    "> Não lembro nem o que comi ontem..."
   ]
  },
  {
   "cell_type": "markdown",
   "metadata": {},
   "source": [
    "### Ler, escrever e representar o passado: o que muda com a era digital?\n",
    "\n",
    "1. Temporalidade: \"constitutivo e estruturados do conheciumento histórico\" (159)\n",
    "   * como entender historicidade quando a orientação temporal é abalada no presente? (160)\n",
    "2. Presente: \"o tempo-espaço no qual se ministram as tensões e se fazem a gestão e o equacionamento entre passado e futuro: é o espaço das demandas e da onde emergem questões políticas que nos interpelam.\"\n",
    "   * Que outros 'espaços de experiência' e 'horizontes de expectativa' a tecnologia possibilita construir? (160)\n",
    "3. Uso e problematização da tecnologia: descentralização da concepção de História como progresso linear."
   ]
  }
 ],
 "metadata": {
  "interpreter": {
   "hash": "916dbcbb3f70747c44a77c7bcd40155683ae19c65e1c03b4aa3499c5328201f1"
  },
  "kernelspec": {
   "display_name": "Python 3.9.5 64-bit",
   "name": "python3"
  },
  "language_info": {
   "codemirror_mode": {
    "name": "ipython",
    "version": 3
   },
   "file_extension": ".py",
   "mimetype": "text/x-python",
   "name": "python",
   "nbconvert_exporter": "python",
   "pygments_lexer": "ipython3",
   "version": "3.9.5"
  },
  "orig_nbformat": 4
 },
 "nbformat": 4,
 "nbformat_minor": 2
}
