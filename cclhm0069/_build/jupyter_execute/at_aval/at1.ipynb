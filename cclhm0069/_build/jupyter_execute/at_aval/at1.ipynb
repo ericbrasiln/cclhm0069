{
 "cells": [
  {
   "cell_type": "markdown",
   "metadata": {},
   "source": [
    "# Atividade 1\n",
    "\n",
    "* **Tipo**: reflexão teórica\n",
    "* **Pontuação**: 4,0 pontos.\n",
    "\n",
    "[Em breve o detalhamento da atividade estará disponível]"
   ]
  }
 ],
 "metadata": {
  "language_info": {
   "name": "python"
  }
 },
 "nbformat": 4,
 "nbformat_minor": 2
}