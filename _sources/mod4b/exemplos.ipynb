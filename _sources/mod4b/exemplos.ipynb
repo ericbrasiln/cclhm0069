{
 "cells": [
  {
   "cell_type": "markdown",
   "metadata": {},
   "source": [
    "# Lista de scripts ou cli escritos em Python\n",
    "\n",
    ">Exemplos usados na aula da [semana 16](https://ericbrasiln.github.io/intro-historia-digital/mod4b/sem16.html)"
   ]
  },
  {
   "cell_type": "markdown",
   "metadata": {},
   "source": [
    "1. Baixar vídeos do YouTube: [youtube-dl](https://github.com/ytdl-org/youtube-dl);\n",
    "2. [resumos-anpuh-cli](https://github.com/ericbrasiln/resumos-anpuh-cli);\n",
    "3. [Ferramentas Scielo v2](https://github.com/LABHDUFBA/ferramentas_scielo_v2);\n",
    "4. Nuvem de palavras: [worldcloud](https://github.com/amueller/word_cloud)\n",
    "\n",
    "\n"
   ]
  }
 ],
 "metadata": {
  "language_info": {
   "name": "python"
  },
  "orig_nbformat": 4
 },
 "nbformat": 4,
 "nbformat_minor": 2
}
