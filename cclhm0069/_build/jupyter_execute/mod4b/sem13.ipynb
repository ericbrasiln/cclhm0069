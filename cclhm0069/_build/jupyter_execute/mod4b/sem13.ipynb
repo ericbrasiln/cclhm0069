{
 "cells": [
  {
   "cell_type": "markdown",
   "metadata": {},
   "source": [
    "# Semana 13\n",
    "\n",
    "## Módulo 4b: Programação para História\n",
    "\n",
    "**Período**: 24/01/2022 a 28/01/2022\n",
    "\n",
    "**CH**: 2h30"
   ]
  },
  {
   "cell_type": "markdown",
   "metadata": {},
   "source": [
    "## Live Coding 1 (AS)\n",
    "\n",
    "**Tema**: Python do Zero I\n",
    "\n",
    "**Data**: 26/01/2022, às 19h\n",
    "\n",
    "**CH**: 2h30\n",
    "\n",
    "**Plataforma**: `Google Meet` - link enviado por e-mail.\n",
    "\n",
    "```{Attention}\n",
    "[_Clique aqui para acessar a apresentação da aula_](https://ericbrasiln.github.io/intro-historia-digital/mod4b/sem13_ap.html).\n",
    "```"
   ]
  }
 ],
 "metadata": {
  "interpreter": {
   "hash": "916dbcbb3f70747c44a77c7bcd40155683ae19c65e1c03b4aa3499c5328201f1"
  },
  "kernelspec": {
   "display_name": "Python 3.9.7 64-bit",
   "language": "python",
   "name": "python3"
  },
  "language_info": {
   "name": "python",
   "version": "3.9.7"
  }
 },
 "nbformat": 4,
 "nbformat_minor": 2
}