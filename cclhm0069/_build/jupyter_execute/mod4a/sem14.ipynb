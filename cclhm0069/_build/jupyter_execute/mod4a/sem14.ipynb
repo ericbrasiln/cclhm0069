{
 "cells": [
  {
   "cell_type": "markdown",
   "metadata": {},
   "source": [
    "# Semana 14\n",
    "\n",
    "## Módulo 4a: Ferramentas digitais e o ensino de história\n",
    "\n",
    "**Período**: 31/01/2022 a 04/02/2022\n",
    "\n",
    "**CH**: 2h"
   ]
  },
  {
   "cell_type": "markdown",
   "metadata": {},
   "source": [
    "## Tarefas relacionadas aos tutoriais do módulo"
   ]
  },
  {
   "cell_type": "markdown",
   "metadata": {},
   "source": [
    "### Tarefa da semana 11\n",
    "\n",
    "Produza um documento em Markdown contendo os seguintes itens:\n",
    "\n",
    "- Pelo menos 3 níveis de estrutura de cabeçalho (`#`)\n",
    "- Uma lista ordenada (`1.`, `2.`, `3.`)\n",
    "- Uma lista não ordenada (`*`, `-`, `+`)\n",
    "- Palavras em negrito (`**`) e itálico (`*`)\n",
    "- Uma imagem (`![alt](url)`)\n",
    "- Um link (`[text](url)`)\n",
    "- Uma tabela (`|c1|c2|c3|`)\n",
    "\n",
    "O conteúdo é livre, mas é indicado que usem os assuntos da disciplina para ajudar a construir o documento."
   ]
  },
  {
   "cell_type": "markdown",
   "metadata": {},
   "source": [
    "### Tarefa da semana 12\n",
    "\n",
    "Produza um mapa que contenha histórias de um tema de sua escolha."
   ]
  },
  {
   "cell_type": "markdown",
   "metadata": {},
   "source": [
    "### Tarefa da semana 13\n",
    "\n",
    "Produza uma apresentação com Reveal.js"
   ]
  }
 ],
 "metadata": {
  "interpreter": {
   "hash": "31f2aee4e71d21fbe5cf8b01ff0e069b9275f58929596ceb00d14d90e3e16cd6"
  },
  "kernelspec": {
   "display_name": "Python 3.9.5 64-bit",
   "language": "python",
   "name": "python3"
  },
  "language_info": {
   "name": "python",
   "version": "3.9.5"
  }
 },
 "nbformat": 4,
 "nbformat_minor": 2
}