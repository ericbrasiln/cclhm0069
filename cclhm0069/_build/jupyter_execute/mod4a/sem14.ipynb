{
 "cells": [
  {
   "cell_type": "markdown",
   "metadata": {},
   "source": [
    "# Semana 14\n",
    "\n",
    "**Período**: 31/01/2022 a 04/02/2022\n",
    "\n",
    "**CH**: 2h"
   ]
  },
  {
   "cell_type": "markdown",
   "metadata": {},
   "source": [
    "| Tipo          | [Tarefa 9 (AA)](https://ericbrasiln.github.io/intro-historia-digital/mod4a/sem14.html#tarefa-6)|\n",
    "| ------------- | -------------------------------------------- |\n",
    "| Data e hora | 31/01/2022 a 04/02/2022 |\n",
    "| Carga Horária | 2h |\n",
    "| Descrição | Tarefas relacionadas aos tutoriais do módulo |\n",
    "\n",
    "[**Link para a página da semana**](https://ericbrasiln.github.io/intro-historia-digital/mod4a/sem14.html#semana-14)"
   ]
  }
 ],
 "metadata": {
  "interpreter": {
   "hash": "31f2aee4e71d21fbe5cf8b01ff0e069b9275f58929596ceb00d14d90e3e16cd6"
  },
  "kernelspec": {
   "display_name": "Python 3.9.5 64-bit",
   "language": "python",
   "name": "python3"
  },
  "language_info": {
   "name": "python",
   "version": "3.9.5"
  }
 },
 "nbformat": 4,
 "nbformat_minor": 2
}