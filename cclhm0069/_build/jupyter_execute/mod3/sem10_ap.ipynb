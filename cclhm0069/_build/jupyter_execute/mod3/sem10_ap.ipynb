{
 "cells": [
  {
   "cell_type": "markdown",
   "metadata": {},
   "source": [
    "# Algoritmos, dataficação da sociedade e o ofício de Historiadores/as: desigualdade, racismo e violências\n",
    "\n",
    "<small>Material para o Encontro Virtual 6, 14/12/2021, referente à [semana 10 do curso](https://ericbrasiln.github.io/intro-historia-digital/mod3/sem10.html#)</small>"
   ]
  },
  {
   "cell_type": "markdown",
   "metadata": {},
   "source": [
    "O objetivo desse encontro virtual é discutir a relação entre os algortimos e a dataficação da vida social com a pesquisa e ensino de história no presente e futuro.\n",
    "\n",
    "Para tanto vamos discutir os seguintes textos:\n",
    "\n",
    "1. [O'NEIL, CATHY. Componentes da bomba. O que é um modelo? In: **Algoritmos de Destruição em massa**. São Paulo: Editora Rua do Sabão, 2020. pp. 25-50](biblio/oneil.pdf)\n",
    "2. [NOBLE, Safiya Umoja. Introdução. In: **Algoritmos da opressão**. São Paulo: Editora Rua do Sabão, 2021. pp. 7-28](biblio/noble.pdf)"
   ]
  }
 ],
 "metadata": {
  "language_info": {
   "name": "python"
  }
 },
 "nbformat": 4,
 "nbformat_minor": 2
}