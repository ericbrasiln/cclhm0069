{
 "cells": [
  {
   "cell_type": "markdown",
   "metadata": {},
   "source": [
    "# 4b. Programação para História\n",
    "\n",
    "| Tipo de atividade  | Quantidade | CH   |\n",
    "| ------------------ | ---------- | ---- |\n",
    "| EV [*Live coding*] | 3 (2h30)   | 7h30 |\n",
    "| AA                 | 1 (2h30)   | 4h30 |\n",
    "| EV [Workshop]      | 1 (2h)     | 2h   |\n",
    "\n",
    "* Carga horária total: 14h\n",
    "* Dificuldade: Alta\n",
    "\n",
    "## Temas\n",
    "\n",
    "1. Python do zero (parte 1,2 e 3)\n",
    "2. Coletando dados com Python"
   ]
  }
 ],
 "metadata": {
  "language_info": {
   "name": "python"
  }
 },
 "nbformat": 4,
 "nbformat_minor": 2
}