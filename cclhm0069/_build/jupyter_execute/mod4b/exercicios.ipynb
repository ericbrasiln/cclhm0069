{
 "cells": [
  {
   "cell_type": "markdown",
   "metadata": {},
   "source": [
    "# Exercícios de Python 01"
   ]
  },
  {
   "cell_type": "markdown",
   "metadata": {},
   "source": [
    "## Criar um script Python que execute os seguintes passos\n",
    "\n",
    "1. Solicite do usuário seu **nome, idade e profissão e altura**;\n",
    "1. Retorne ao usuário uma **mensagem de saudação**;\n",
    "1. Retorne a **quantidade de letras** da profissão do usuário;\n",
    "1. Coloque o nome do usuário todo em **letras maiúsculas** e imprima na tela;\n",
    "1. **Calcule o ano de nascimento** do usuário e imprima na tela;\n",
    "1. Verifique se a altura do usuário é **igual ou maior** que 1,70m e imprima na tela (True or False)\n",
    "1. **Crie uma lista** contendo os dados inseridos pelo usuário. Acrescente o item \"discente\" na lista e imprima na tela;\n",
    "1. **Conte quantos itens compõe** a lista e imprima na tela;\n",
    "\n",
    "\n"
   ]
  },
  {
   "cell_type": "markdown",
   "metadata": {},
   "source": [
    "**Não se esqueça de salvar o script como `<nome_do_arquivo>.py`**"
   ]
  }
 ],
 "metadata": {
  "language_info": {
   "name": "python"
  }
 },
 "nbformat": 4,
 "nbformat_minor": 2
}