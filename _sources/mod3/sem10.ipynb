{
 "cells": [
  {
   "cell_type": "markdown",
   "metadata": {},
   "source": [
    "# Semana 10\n",
    "\n",
    "**Período**: 13/12/2021 a 17/12/2021\n",
    "\n",
    "**CH**: 2h"
   ]
  },
  {
   "cell_type": "markdown",
   "metadata": {},
   "source": [
    "## Encontro Virtual 6 (AS)\n",
    "\n",
    "**Tema**: Algoritmos, dataficação da sociedade e o ofício de Historiadores/as: desigualdade, racismo e violências - Debate de textos\n",
    "\n",
    "**Data**: 15/12/2021, às 19h\n",
    "\n",
    "**CH**: 2h\n",
    "\n",
    "**Plataforma**: `Google Meet` - link enviado por e-mail.\n",
    "\n",
    "```{Attention}\n",
    "[_Clique aqui para acessar a apresentação da aula_](https://ericbrasiln.github.io/intro-historia-digital/mod3/sem10_ap.html).\n",
    "```"
   ]
  },
  {
   "cell_type": "markdown",
   "metadata": {},
   "source": [
    "## Tarefa 5 (AS)\n",
    "\n",
    "**Tema**: Vídeo de apoio: Mesa redonda sobre Racismo Algoritmico\n",
    "\n",
    "**Data**: 13/12/2021 a 17/12/2021\n",
    "\n",
    "**CH**: 2h\n",
    "\n",
    "**Plataforma**: `YoutTube` - Link: []()\n"
   ]
  }
 ],
 "metadata": {
  "language_info": {
   "name": "python"
  }
 },
 "nbformat": 4,
 "nbformat_minor": 2
}
