{
 "cells": [
  {
   "cell_type": "markdown",
   "metadata": {},
   "source": [
    "# História e Tecnologia\n",
    "\n",
    "<small>Material para o Encontro Virtual 1, 27/10/2021</small>"
   ]
  },
  {
   "cell_type": "markdown",
   "metadata": {},
   "source": [
    "Nessa aula buscamos debater as definições de tecnologia, refletindo especialmente sobre a hbistória do conceito e suas implicações sociais.\n",
    "\n",
    "Em seguida, vamos analisar os sentidos do termo _História Digital_, sua relação com os debates sobre tecnologia e buscar uma definção."
   ]
  },
  {
   "cell_type": "markdown",
   "metadata": {},
   "source": [
    "## O que é tecnologia?"
   ]
  },
  {
   "cell_type": "markdown",
   "metadata": {},
   "source": [
    "<img src=\"img/chimps_tools.png\" alt=\"Chimps and tools\" style=\"zoom:80%;\" />"
   ]
  },
  {
   "cell_type": "markdown",
   "metadata": {},
   "source": [
    "[***Os chimpanzés que usam ferramentas para tarefas complexas transmitem essas habilidades***](https://www.futurity.org/chimpanzees-tools-learning-teaching-2241032/)\n",
    "\n",
    "<iframe width=\"560\" height=\"315\" src=\"https://www.youtube.com/embed/3pq1JE_grFk\" title=\"YouTube video player\" frameborder=\"0\" allow=\"accelerometer; autoplay; clipboard-write; encrypted-media; gyroscope; picture-in-picture\" allowfullscreen></iframe>"
   ]
  },
  {
   "cell_type": "markdown",
   "metadata": {},
   "source": [
    "BORGMANN, A. Technology as a Cultural Force for Alena and Griffin. *The Canadian Journal of Sociology / Cahiers canadiens de sociologie*, v. 31, n. 3, p. 351–360, 2006.\n",
    "\n",
    "> Mas o que é tecnologia? Em seu sentido estrito, é um conjunto de maquinarias e procedimentos. Tome seu exemplo mais recente? A tecnologia da informação. É hardware e software, concebido de maneira ampla. Do lado do hardware, há chips, discos, telas, teclados e cabos de fibra óptica. Tudo isso se estende para as máquinas de produção e mais para as usinas geradoras de energia e minas de silicato. O software é uma linha de código e se estende de um lado para os procedimentos de designers e programadores e, do outro lado, para os procedimentos que você segue para compor e enviar e-mail, checar o New York Times na Web ou projetar um página da web. Podemos chamar isso do sentido da tecnologia para os engenheiros.\n",
    "> \n",
    "> O que interessa aos teóricos da sociedade é o efeito que esses mecanismos e procedimentos tiveram no nosso modo de vida. Os teóricos sociais estão interessados na tecnologia como uma força cultural. A tecnologia, nesse sentido, é amplamente utilizada na filosofia, nas ciências sociais e na mídia para capturar o que é distintivo da cultura contemporânea. (352-353)"
   ]
  },
  {
   "cell_type": "markdown",
   "metadata": {},
   "source": [
    "### É possível definir?"
   ]
  },
  {
   "cell_type": "markdown",
   "metadata": {},
   "source": [
    "VERASZTO, E. V.; SILVA, D. DA; MIRANDA, N. A.; SIMON, F. O. Tecnologia: buscando uma definição para o conceito. PRISMA.COM, v. 0, n. 8, p. 19–46, 5 abr. 2009. \n",
    "\n",
    "> Na técnica, a questão principal é do como transformar, como modificar. [...] A palavra tecnologia provém de uma junção do termo tecno, do grego _techné_, que é saber fazer, e _logia_, do grego _logus_, razão. Portanto, tecnologia significa a razão do saber fazer (RODRIGUES, 2001). Em outras palavras o estudo da técnica. O estudo da própria atividade do modificar, do transformar, do agir (VERASZTO, 2004; SIMON et al, 2004a). (p. 21)"
   ]
  },
  {
   "cell_type": "markdown",
   "metadata": {},
   "source": [
    "#### Mas pq o artigo toma HOMEM como sinônimo de HUMANIDADE? E quais as implicações disso?\n",
    "\n",
    "p. 22 =  teoria do homem caçador\n",
    "\n",
    "p. 23 = Homem = progresso. \n",
    "\n",
    "> Estava iniciada a odisséia do homem rumo ao progresso e ao desenvolvimento científico e tecnológico.\n",
    "\n",
    "* homem/homens = **36 vezes**\n",
    "* humano(s)/humanidade(s)/humanas = **27 vezes**\n",
    "* mulher/mulheres = **2 vezes**"
   ]
  },
  {
   "cell_type": "markdown",
   "metadata": {},
   "source": [
    "Texto assume o masculino como universal: \"o homem\"\n",
    "\n",
    "Este artigo tem mais de 200 citações no Google Scholar. Ao longo do artigo \"homem\" é sinônimo de \"ser humano\". Consequentemente, os \"homens\" são responsáveis pelo progresso tecnológico e intelectual.\n",
    "\n",
    "Mulheres não! "
   ]
  },
  {
   "cell_type": "markdown",
   "metadata": {},
   "source": [
    "<img src=\"img/book_cover.png\" alt=\"invisible women\" style=\"zoom:80%;\" />\n"
   ]
  },
  {
   "cell_type": "markdown",
   "metadata": {},
   "source": [
    "<br>\n",
    "Exatamente como demonstrado por [Caroline Criado Perez em _Invisible Women_](https://www.invisiblewomenbook.co.uk/).\n",
    "\n",
    "É um artigo que exemplifica com precisão o argumento do livro: \"masculino, a menos que o contrário\". E como que as mulheres são invisibilizadas nos dados e análises científicas.\n",
    "\n",
    "> O homem, ao descobrir que poderia modificar o osso, estabelecendo um novo uso para o mesmo, dava o passo inicial para a conquista do átomo e do espaço (VERASZTO, 2004) (26)"
   ]
  },
  {
   "cell_type": "markdown",
   "metadata": {},
   "source": [
    "####  CONCEPÇÃO INTELECTUALISTA DA TECNOLOGIA (27)\n",
    "\n",
    "As tecnologias derivam das reflexões teóricas científicas. Visão que hierarquiza ciência e tecnologia. Tecnologia seria apenas a aplicação ou consequência de teorias científicas.\n"
   ]
  },
  {
   "cell_type": "markdown",
   "metadata": {},
   "source": [
    "#### CONCEPÇÃO UTILITARISTA DA TECNOLOGIA (28)\n",
    "\n",
    "Tecnologia como sinônimo de técnica.\n",
    "\n",
    "> Ou seja, o processo envolvido em sua elaboração em nada se relaciona com a tecnologia, apenas a sua finalidade e utilização são pontos levados em consideração. (28)\n"
   ]
  },
  {
   "cell_type": "markdown",
   "metadata": {},
   "source": [
    "#### CONCEPÇÃO DA TECNOLOGIA COMO SINÔNIMO DE CIÊNCIA (28)\n",
    "\n",
    "> Compreende a tecnologia como Ciência Natural e Matemática, com as mesmas lógicas e mesmas formas de produção e concepção. (28)\n"
   ]
  },
  {
   "cell_type": "markdown",
   "metadata": {},
   "source": [
    "#### CONCEPÇÃO INSTRUMENTALISTA (ARTEFATUAL) DA TECNOLOGIA (29)\n",
    "\n",
    "![Homer](https://media1.giphy.com/media/l0G18BkChcRRctMZ2/giphy.gif?cid=ecf05e47t260cnzpmxpl6hdbkvnvjbxm88mgbopxoknjnt26&rid=giphy.gif&ct=g)\n",
    "\n",
    "> Entende a tecnologia como sendo simples ferramentas ou artefatos construídos para uma diversidade de tarefas. (29)"
   ]
  },
  {
   "cell_type": "markdown",
   "metadata": {},
   "source": [
    "#### CONCEPÇÃO DE NEUTRALIDADE DA TECNOLOGIA (29)\n",
    "\n",
    "> tecnologia está isenta de qualquer tipo de interesse particular tanto em sua concepção e desenvolvimento como nos resultados finais. (29)"
   ]
  },
  {
   "cell_type": "markdown",
   "metadata": {},
   "source": [
    "![bullshit](https://media3.giphy.com/media/Oc7Wl9OKlB3iM/giphy.gif?cid=ecf05e47h3zlaw5pl7iy1nf1ms2twsxe0trbtaoxd9tax46p&rid=giphy.gif&ct=g)"
   ]
  },
  {
   "cell_type": "markdown",
   "metadata": {},
   "source": [
    "\n",
    "> Essa visão reducionista da tecnologia impede sua análise crítica e ignora as intenções e interesses sociais, econômicos e políticos daqueles que a idealizam, financiam e controlam. (30)"
   ]
  },
  {
   "cell_type": "markdown",
   "metadata": {},
   "source": [
    "#### CONCEPÇÃO DO DETERMINISMO TECNOLÓGICO (30)\n",
    "\n",
    "Autônoma, auto-evolutiva, \"desprovida do controle dos seres humanos\". \n",
    "\n",
    "> o progresso tecnológico segue um caminho fixo e, mesmo que fatores políticos, econômicos ou sociais possam exercer alguma influencia, não se pode alterar o poderoso domínio que a tecnologia impõe às transformações sociais (31)"
   ]
  },
  {
   "cell_type": "markdown",
   "metadata": {},
   "source": [
    "![Agent Smith](https://i.imgur.com/dNAH1KZ.gif)"
   ]
  },
  {
   "cell_type": "markdown",
   "metadata": {},
   "source": [
    "####  CONCEPÇÃO DE UNIVERSALIDADE DA TECNOLOGIA (31)\n",
    "\n",
    "> o caráter universal das leis científicas leva a uma concepção de que a tecnologia não requer uma contextualização social, nem tampouco devem ser levados em consideração os caracteres valorativos, tendo em vista que a tecnologia, como sendo fruto do desenvolvimento científico, é neutra (32)\n"
   ]
  },
  {
   "cell_type": "markdown",
   "metadata": {},
   "source": [
    "**O caso do teclado QWERTY**\n",
    "\n",
    "![typewriter](https://media3.giphy.com/media/XIqCQx02E1U9W/giphy.gif?cid=ecf05e478xgi7vrd4y6z66dcc46g261bgeqj9ok1sgaatkp0&amp;rid=giphy.gif&amp;ct=g)"
   ]
  },
  {
   "cell_type": "markdown",
   "metadata": {},
   "source": [
    "#### OTIMISMO TECNOLÓGICO X PESSIMISMO TECNOLÓGICO (32)\n",
    "\n",
    "![patrick](https://media3.giphy.com/media/f1UH5LwVuWucM/giphy.gif?cid=ecf05e47kx6wnnnf9m6wg9c8k4a1cpe9kprem9pun2rglbxu&rid=giphy.gif&ct=g)"
   ]
  },
  {
   "cell_type": "markdown",
   "metadata": {},
   "source": [
    "#### SOCIOSISTEMA: UM NOVO CONCEITO DE TECNOLOGIA (33)\n",
    "\n",
    "> Em cada momento de desenvolvimento de um artefato tecnológico, especialmente quando este se consolida como produto, existe uma carga política concreta. (33)\n",
    "\n",
    "_Ciência, Sociedade e Tecnologia_\n",
    "\n",
    "> As tecnologias, como formas de organização social, que envolvem o uso de artefatos ou certos modos de gestão de recursos se integram ao meio estabelecendo vínculos de interdependência funcional com outras tecnologias e diversos tipos de parâmetros sócio-econômicos e culturais. (35)"
   ]
  },
  {
   "cell_type": "markdown",
   "metadata": {},
   "source": [
    "#### Definição\n",
    "\n",
    "A tecnologia é uma forma de conhecimento."
   ]
  },
  {
   "cell_type": "markdown",
   "metadata": {},
   "source": [
    ">  O valor da pesquisa e da atividade tecnológica é o da utilidade e eficácia dos inventos e da eficiência no processo de produção (36)\n",
    "> \n",
    ">  a tecnologia é concebida em função de novas demandas e exigências sociais e acaba modificando todo um conjunto de costumes e valores e, por fim, agrega-se à cultura. E, apesar de fazer parte dos artefatos e dos produtos que nos cercam, a tecnologia é o conhecimento que está por trás desse artefato, não apenas o resultado e o produto, mas a concepção e a criação (37)\n",
    "> \n",
    "> é um conjunto de saberes inerentes ao desenvolvimento e concepção dos instrumentos (artefatos, sistemas, processos e ambientes) criados pelo homem através da história para satisfazer suas necessidades e requerimentos pessoais e coletivos. (38)\n",
    "> \n",
    "> a tecnologia engloba tanto seu aspecto cultural, que inclui metas, valores e códigos éticos, assim como possui um aspecto organizacional, que abrange a economia e as atividades industriais, profissionais, além dos usuários e dos consumidores (PACEY, 1983 apud LAYTON, 1988). A tecnologia não é uma mercadoria que se compra e se vende, é um saber que se adquire pela educação teórica e prática, e, principalmente, pela pesquisa tecnológica (VARGAS, 2001). (39)"
   ]
  },
  {
   "cell_type": "markdown",
   "metadata": {},
   "source": [
    "### Perspectiva da \"Construção Social da Tecnologia\""
   ]
  },
  {
   "cell_type": "markdown",
   "metadata": {},
   "source": [
    "BUCH, A. **Actos, actores y artefactos**: Sociología de la technología. Buenos Aires: Universiad Nacional de Quilmes Editorial, 2008, p.10.\n",
    "> É que, na verdade, não se trata de \"suas tecnologias e você\", ou em um nível mais abstrato, a relação entre \"tecnologia e sociedade\". Você é tecnologicamente constituído. Você é um ser tecnológico, independentemente de achar essa ideia agradável ou não. Porque as sociedades são configuradas tecnologicamente, exatamente no mesmo tempo e nível em que as tecnologias são socialmente construídas e colocadas em uso. Todas as tecnologias são sociais. Todas as tecnologias são humanas (por mais desumanas que possam parecer às vezes).\n",
    "> \n",
    "> A dimensão tecnológica atravessa a existência humana. Da produção à cultura, das finanças à política, da arte ao sexo.\n",
    "> \n",
    "> O engraçado é que, normalmente, refletimos pouco sobre a tecnologia. Ela passa despercebida, naturalizada como a chuva ou as ondas do mar. A tecnologia só se torna visível em dois momentos particulares: quando para de funcionar ou quando muda rapidamente. (10)\n",
    "> \n",
    "> Não existe relação sociedade-tecnologia, como se fossem duas coisas distintas. Nossas sociedades são tecnológicas, assim como nossas tecnologias são sociais. Somos seres sociotécnicos. (12)"
   ]
  },
  {
   "cell_type": "markdown",
   "metadata": {},
   "source": [
    "## E a História Digital nisso tudo?"
   ]
  },
  {
   "cell_type": "markdown",
   "metadata": {},
   "source": [
    "SILVEIRA, Pedor Telles Da. A arqueologia de um nome. In: **História, técnica e novas mídias**: reflexões sobre a história na era digital. Tese de doutorado. Porto Alegre: UFRGS, 2018. pp 28-62"
   ]
  },
  {
   "cell_type": "markdown",
   "metadata": {},
   "source": [
    "Pensar sobre o termo história digital, sua história e relação com teoria e metodologia da disciplina. "
   ]
  },
  {
   "cell_type": "markdown",
   "metadata": {},
   "source": [
    "* A História Digital está presa na \"narrativa de progresso técnológico\"? (29)\n",
    "* \"A história digital deve ser descrita como continuidade ou ruptura em ralação às práticas historiográficas anteriores?\" (32)\n",
    "* \"Seria a história digital um novo método, um novo campo de estudos ou uma renovação geral da historiografia?\" (32)\n",
    "* Computador e internet = \"queremos utilizar o computador, mas não sabemos como.\" (33)\n",
    "* Quanto mais habituados a um objeto ou tecnologias mais bem sucedidas e consequentemente gastamos menos tempo refletindo sobre elas? (36)\n",
    "* A história digital está sempre na promessa de acontercer?\n",
    "* Está aprisionada pelo domínio das novas ferramentas e tecnologias?"
   ]
  },
  {
   "cell_type": "markdown",
   "metadata": {},
   "source": [
    "### **Humanidades Digitais**\n",
    "\n",
    "* seria marcada pela cisão entre teoria e prática? (39)\n",
    "  \n"
   ]
  },
  {
   "cell_type": "markdown",
   "metadata": {},
   "source": [
    "* Imaginário em torno da computação:\n",
    "\n",
    "> Viesse para salvar as humanidades de si mesmas, o que não deixa de representar a crença na capacidade dos computadores realizarem aquilo que os seres humanos não podem fazer.\" (43)"
   ]
  },
  {
   "cell_type": "markdown",
   "metadata": {},
   "source": [
    "**Computadores fazem arte**. Fred Zero Quatro, 1996\n",
    "\n",
    "<div id='rg_embed_link_1419690' class='rg_embed_link' data-song-id='1419690'>Veja a letra completa <a href='https://genius.com/Nacao-zumbi-computadores-fazem-arte-lyrics'>“Computadores Fazem Arte” por Chico Science & Nação Zumbi</a> no Genius</div> <script crossorigin src='//genius.com/songs/1419690/embed.js'></script>\n"
   ]
  },
  {
   "cell_type": "markdown",
   "metadata": {},
   "source": [
    "<iframe src=\"https://open.spotify.com/embed/track/006Bi4j0yzwOc3y69GOlYV\" width=\"100%\" height=\"80\" frameBorder=\"0\" allowtransparency=\"true\" allow=\"encrypted-media\"></iframe>"
   ]
  },
  {
   "cell_type": "markdown",
   "metadata": {},
   "source": [
    "\n",
    "![BMO](https://media3.giphy.com/media/chE70jbczGnPnBulCY/giphy.gif?cid=ecf05e47ewoqjn3enld8d68x3xtev79cjb7g4lygkc0q5itn&rid=giphy.gif&ct=g)"
   ]
  },
  {
   "cell_type": "markdown",
   "metadata": {},
   "source": [
    "### Vc conhece a GPT-3?\n",
    "\n",
    "\n",
    "[gpt-3](https://www.theguardian.com/commentisfree/2020/sep/08/robot-wrote-this-article-gpt-3)"
   ]
  },
  {
   "cell_type": "markdown",
   "metadata": {},
   "source": [
    "### O que muda com a proximidade entre historiografia e os computadores?"
   ]
  },
  {
   "cell_type": "markdown",
   "metadata": {},
   "source": [
    "**Breve histórico**:\n",
    "\n",
    "* Década de 1940 e os modelos matemáticos\n",
    "* História Social quantitativa e cliometria dos anos 1960\n",
    "* A criação de softwares de análise de texto nos anos 1970"
   ]
  },
  {
   "cell_type": "markdown",
   "metadata": {},
   "source": [
    "**Após os anos 1990**\n",
    "\n",
    "As mudanças técnológicas, a transformação conceitual de como se concebe um computador (não apenas computar, \"mas, agora, passíveis de inúmeros e variados usos\"), transforma também a relação entre história e computação = daí a distinção entre a História digital e as práticas historiográficas que usavam computadores antes do advento da internet e da difusão dos compútadores pessoais."
   ]
  },
  {
   "cell_type": "markdown",
   "metadata": {},
   "source": [
    "Mais do que as Humanidades Digitais, que teriam um caráter muito mais relacionado com \"a natureza computacional das ferramentas digitais\" (48), a História Digital poderia \"resgatar uma concepção mais tradicional do trabalho histórico\" a partir do desencvolvimento tecnológico, \"centrado sobre o narrar, o interpretar e o compreenser\" (49). \n",
    "\n",
    "Entretanto, na leitura de Pedro Telles, essa \"realização ainda não foi inteiramente cumprida\" (49)."
   ]
  },
  {
   "cell_type": "markdown",
   "metadata": {},
   "source": [
    "### História e a Internet"
   ]
  },
  {
   "cell_type": "markdown",
   "metadata": {},
   "source": [
    "WEB 2.0 e os impactos na prática histórica:\n",
    "\n",
    "1. Comunicação e divulgação para grande público;\n",
    "2. Acesso a enorme quantidade de fontes documentais;\n",
    "3. Diluição da hierarquia entre os profissionais e os demais agentes interessados na história."
   ]
  },
  {
   "cell_type": "markdown",
   "metadata": {},
   "source": [
    "### A questão da técnica\n",
    "\n",
    "Sistema técnico: \"reunião de artefatos físicos, organizações sociais, leis e matérias-primas que condicionam o aparecimento das tecnologias\" (53)"
   ]
  },
  {
   "cell_type": "markdown",
   "metadata": {},
   "source": [
    "### Mediação\n",
    "\n",
    "\"uma atividade que é realizada através dos computadores e que fornece o enquadramento para um mundo no qual a intersubjetividade é construída junto com o funcionamento dos aparelhos técnicos.\" (59)"
   ]
  },
  {
   "cell_type": "markdown",
   "metadata": {},
   "source": [
    "### Há separação entre real e digital?\n",
    "\n",
    "[William Gibson (2010)](https://www.nytimes.com/2010/09/01/opinion/01gibson.html): \"O ciberspaco [...] colonizou o mundo físico\" (59)"
   ]
  },
  {
   "cell_type": "markdown",
   "metadata": {},
   "source": [
    "> Perceber como as tecnologias digitais e as novas mídias são constitutivas da nossa experiência, das quais o cotidiano e apenas uma de suas manifestações (60)"
   ]
  }
 ],
 "metadata": {
  "interpreter": {
   "hash": "916dbcbb3f70747c44a77c7bcd40155683ae19c65e1c03b4aa3499c5328201f1"
  },
  "kernelspec": {
   "display_name": "Python 3.9.5 64-bit",
   "name": "python3"
  },
  "language_info": {
   "name": "python",
   "version": "3.9.5"
  }
 },
 "nbformat": 4,
 "nbformat_minor": 2
}