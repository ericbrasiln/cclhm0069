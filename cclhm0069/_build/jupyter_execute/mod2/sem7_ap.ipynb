{
 "cells": [
  {
   "cell_type": "markdown",
   "metadata": {},
   "source": [
    "# Tratamento de texto com OCR\n",
    "\n",
    "<small>Material para o Encontro Virtual 4, 24/11/2021, referente à [semana 7 do curso](https://ericbrasiln.github.io/intro-historia-digital/mod2/sem7.html#)</small>"
   ]
  },
  {
   "cell_type": "markdown",
   "metadata": {},
   "source": [
    "O objetivo desse encontro virtual é debater o processo de Reconhecimento Ótico de Caracteres - em inglês Optical Character Recognition (OCR) - e a capactiação para o uso de técnicas de OCR para reconhecimento de caracteres em imagens e PDF.\n",
    "\n",
    "Para isso teremos um tutorial e um workshop sobre o programa [gImageReader](https://github.com/manisandro/gImageReader). \n",
    "\n",
    "O gImageReader é um programa de código livre e aberto, gratuito, que é uma interface gráfica simples que utiliza o `tesseract-ocr`.\n",
    "\n",
    "Seu objetivo é possibilitar diferentes estratégias para o reconhecimento de caracteres em diferentes tipos de arquivos."
   ]
  },
  {
   "cell_type": "markdown",
   "metadata": {},
   "source": [
    "## Exemplo usando o Tesseract\n",
    "\n",
    "Imagem de exemplo:\n",
    "\n",
    "![trinidad](https://raw.githubusercontent.com/ericbrasiln/intro-historia-digital/4e41dca69dd2fd84b1728531a71b120166e86532/cclhm0069/mod2/img/IMG_4689.jpg)"
   ]
  },
  {
   "cell_type": "code",
   "execution_count": 2,
   "metadata": {},
   "outputs": [
    {
     "name": "stdout",
     "output_type": "stream",
     "text": [
      "     \n",
      "   \n",
      "  \n",
      "  \n",
      "   \n",
      "  \n",
      "   \n",
      " \n",
      "    \n",
      "  \n",
      " \n",
      "  \n",
      "\n",
      "Government House,\n",
      "\n",
      "19th February, 1904.\n",
      "\n",
      "sir,\n",
      "\n",
      "I have the honour to forward for your\n",
      "information a copy of a report upon the conduct of the\n",
      "public and the police dubing the recent Carnival which\n",
      "\n",
      "I think may be regarded as highly satisfactory.\n",
      "\n",
      "Qe The importance of the matter lies wholly\n",
      "in the fact that the manner in which the Carnival has\n",
      "passed off may be regarded, I consider, as indicative\n",
      "of a marked improvement in the state of general public\n",
      "\n",
      "feeling in Port-of-Spain, both towards the Government\n",
      "\n",
      "and towards the Police.\n",
      "\n",
      "I have the honour to bes\n",
      "\n",
      "Sir,\n",
      "\n",
      "Your most obedient,\n",
      "\n",
      "humble Servant,\n",
      "\n",
      "hevliche a\n",
      "Silane —\n",
      "\n",
      "G Ov) 6s momen.\n",
      "\n",
      " \n",
      "\f",
      "\n"
     ]
    }
   ],
   "source": [
    "# exemplo de OCR com Tesseract\n",
    "import cv2 # é um módulo para manipulação de imagens\n",
    "import pytesseract # é uma biblioteca para reconhecimento de texto\n",
    "\n",
    "# carregar a imagem\n",
    "img_path = 'img/IMG_4689.jpg'\n",
    "# ler a imagem usando o módulo cv2\n",
    "img = cv2.imread(img_path)\n",
    "\n",
    "# aplicar o OCR sobre a imagem\n",
    "text = pytesseract.image_to_string(img)\n",
    "\n",
    "# exibir o texto\n",
    "print(text)\n",
    "\n",
    "# salvar o texto em um arquivo\n",
    "with open('ex_ocr_img.txt', 'w') as f:\n",
    "    f.write(text)\n",
    "# fechar o arquivo\n",
    "f.close()\n"
   ]
  },
  {
   "cell_type": "markdown",
   "metadata": {},
   "source": [
    "## Tutorial - *gImageReader* (OCR para Windows 10)"
   ]
  },
  {
   "cell_type": "code",
   "execution_count": 8,
   "metadata": {},
   "outputs": [
    {
     "data": {
      "image/jpeg": "[encoded data removed]",
      "text/html": [
       "\n",
       "<iframe\n",
       "    width=\"560\"\n",
       "    height=\"315\"\n",
       "    src=\"https://www.youtube.com/embed/_7eqj01Hn0M\"\n",
       "    frameborder=\"0\"\n",
       "    allowfullscreen\n",
       "></iframe>\n"
      ],
      "text/plain": [
       "<IPython.lib.display.YouTubeVideo at 0x7fa38fdccdf0>"
      ]
     },
     "execution_count": 8,
     "metadata": {
      "filenames": {
       "image/jpeg": "/home/ebn/pCloudDrive/ACADEMIA/UNILAB/Disciplinas/2021.1/CCLHM0069/intro-historia-digital/cclhm0069/_build/jupyter_execute/mod2/sem7_ap_5_0.jpg"
      }
     },
     "output_type": "execute_result"
    }
   ],
   "source": [
    "from IPython.display import YouTubeVideo\n",
    "YouTubeVideo(\"_7eqj01Hn0M\", width=560, height=315)"
   ]
  },
  {
   "cell_type": "markdown",
   "metadata": {},
   "source": [
    "## Workshop de reconhecimento de caracteres com gImageReader"
   ]
  },
  {
   "cell_type": "markdown",
   "metadata": {},
   "source": [
    "Os exemplos usados na aula podem ser acessados nos seguintes links:\n",
    "\n",
    "1. [Jornal do Brasil, 28 de outubro de 2002, p.1](https://github.com/ericbrasiln/intro-historia-digital/blob/4e41dca69dd2fd84b1728531a71b120166e86532/cclhm0069/mod2/ex_OCR/img_01.jpeg)\n",
    "2. [Jornal do Brasil, 08 de janeiro de 1917, p.1](https://github.com/ericbrasiln/intro-historia-digital/blob/4e41dca69dd2fd84b1728531a71b120166e86532/cclhm0069/mod2/ex_OCR/img_02.jpeg)\n",
    "3. [Eugene D. Genovese - Da Rebelião à Revolução](https://github.com/ericbrasiln/intro-historia-digital/blob/4e41dca69dd2fd84b1728531a71b120166e86532/cclhm0069/mod2/ex_OCR/ex_pdf.pdf)"
   ]
  },
  {
   "cell_type": "markdown",
   "metadata": {},
   "source": [
    "## Tarefa 4\n",
    "\n",
    "1. Assistar o tutorial de instalação do gImageReader;\n",
    "2. Instalar o programa no computador."
   ]
  }
 ],
 "metadata": {
  "interpreter": {
   "hash": "916dbcbb3f70747c44a77c7bcd40155683ae19c65e1c03b4aa3499c5328201f1"
  },
  "kernelspec": {
   "display_name": "Python 3.9.5 64-bit",
   "language": "python",
   "name": "python3"
  },
  "language_info": {
   "codemirror_mode": {
    "name": "ipython",
    "version": 3
   },
   "file_extension": ".py",
   "mimetype": "text/x-python",
   "name": "python",
   "nbconvert_exporter": "python",
   "pygments_lexer": "ipython3",
   "version": "3.9.5"
  }
 },
 "nbformat": 4,
 "nbformat_minor": 2
}