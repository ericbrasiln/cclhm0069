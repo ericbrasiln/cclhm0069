{
 "cells": [
  {
   "cell_type": "markdown",
   "metadata": {},
   "source": [
    "# Semana 7\n",
    "\n",
    "**Período**: 22/11/2021 a 27/11/2021\n",
    "\n",
    "**CH**: 3h30"
   ]
  },
  {
   "cell_type": "markdown",
   "metadata": {},
   "source": [
    "| Tipo          | [Encontro Virtual 4 (AS)](https://ericbrasiln.github.io/intro-historia-digital/mod2/sem7.html#encontro-virtual-4-as)| Tarefa 4 (AS)|\n",
    "| ------------- | -------------------------------------------- |-------------------------------------------- |\n",
    "| Data e hora | 24/11/2021, às 19h | até 24/11/2021 |\n",
    "| Carga Horária | 2h30 | 1h |\n",
    "| Descrição | Tratamento de texto com OCR | Instalar gImageReader |"
   ]
  }
 ],
 "metadata": {
  "language_info": {
   "name": "python"
  },
  "orig_nbformat": 4
 },
 "nbformat": 4,
 "nbformat_minor": 2
}
