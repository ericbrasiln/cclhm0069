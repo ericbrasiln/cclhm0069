{
 "cells": [
  {
   "cell_type": "markdown",
   "metadata": {},
   "source": [
    "# Semana 14\n",
    "\n",
    "**Período**: 31/01/2022 a 04/02/2022\n",
    "\n",
    "**CH**: 2h"
   ]
  },
  {
   "cell_type": "markdown",
   "metadata": {},
   "source": [
    "| Tipo          | [Encontro Virtual 8 (AS)](https://ericbrasiln.github.io/intro-historia-digital/mod4a/sem14.html#encontro-virtual-8-as)|\n",
    "| ------------- | -------------------------------------------- |\n",
    "| Data e hora | 04/02/2022 |\n",
    "| Carga Horária | 2h |\n",
    "| Descrição | Workshop: Podcast para o ensino de história |"
   ]
  }
 ],
 "metadata": {
  "language_info": {
   "name": "python"
  }
 },
 "nbformat": 4,
 "nbformat_minor": 2
}
