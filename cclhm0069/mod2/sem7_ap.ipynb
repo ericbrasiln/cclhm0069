{
 "cells": [
  {
   "cell_type": "markdown",
   "metadata": {},
   "source": [
    "# Tratamento de texto com OCR\n",
    "\n",
    "<small>Material para o Encontro Virtual 4, 24/11/2021, referente à [semana 7 do curso](https://ericbrasiln.github.io/intro-historia-digital/mod2/sem7.html#)</small>"
   ]
  },
  {
   "cell_type": "markdown",
   "metadata": {},
   "source": [
    "O objetivo desse encontro virtual é debater o processo de Reconhecimento Ótico de Caracteres - em inglês Optical Character Recognition (OCR) - e a capactiação para o uso de técnicas de OCR para reconhecimento de caracteres em imagens e PDF.\n",
    "\n",
    "Para isso teremos um tutorial e um workshop sobre o programa [gImageReader](https://github.com/manisandro/gImageReader). \n",
    "\n",
    "O gImageReader é um programa de código livre e aberto, gratuito, que é uma interface gráfica simples que utiliza o `tesseract-ocr`.\n",
    "\n",
    "Seu objetivo é possibilitar diferentes estratégias para o reconhecimento de caracteres em diferentes tipos de arquivos."
   ]
  },
  {
   "cell_type": "markdown",
   "metadata": {},
   "source": [
    "## Tutorial - *gImageReader* (OCR para Windows 10)"
   ]
  },
  {
   "cell_type": "markdown",
   "metadata": {},
   "source": [
    "<iframe width=\"560\" height=\"315\" src=\"https://youtu.be/_7eqj01Hn0M\" title=\"gImageReader\" frameborder=\"0\" allow=\"accelerometer; autoplay; clipboard-write; encrypted-media; gyroscope; picture-in-picture\" allowfullscreen></iframe>"
   ]
  },
  {
   "cell_type": "markdown",
   "metadata": {},
   "source": [
    "## Tarefa 4\n",
    "\n",
    "1. Assistar o tutorial de instalação do gImageReader;\n",
    "2. Instalar o programa no computador."
   ]
  }
 ],
 "metadata": {
  "language_info": {
   "name": "python"
  },
  "orig_nbformat": 4
 },
 "nbformat": 4,
 "nbformat_minor": 2
}
