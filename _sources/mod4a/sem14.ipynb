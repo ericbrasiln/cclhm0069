{
 "cells": [
  {
   "cell_type": "markdown",
   "metadata": {},
   "source": [
    "# Semana 14\n",
    "\n",
    "**Período**: 31/01/2022 a 04/02/2022\n",
    "\n",
    "**CH**: 2h"
   ]
  },
  {
   "cell_type": "markdown",
   "metadata": {},
   "source": [
    "| Tipo          | [Encontro Virtual 7 (AS)](https://ericbrasiln.github.io/intro-historia-digital/mod4a/sem14.html#encontro-virtual-7-as)|\n",
    "| ------------- | -------------------------------------------- |\n",
    "| Data e hora | 04/02/2022 |\n",
    "| Carga Horária | 2h |\n",
    "| Descrição | Workshop: Podcast para o ensino de história |"
   ]
  }
 ],
 "metadata": {
  "interpreter": {
   "hash": "31f2aee4e71d21fbe5cf8b01ff0e069b9275f58929596ceb00d14d90e3e16cd6"
  },
  "kernelspec": {
   "display_name": "Python 3.9.5 64-bit",
   "language": "python",
   "name": "python3"
  },
  "language_info": {
   "name": "python",
   "version": "3.9.5"
  }
 },
 "nbformat": 4,
 "nbformat_minor": 2
}
