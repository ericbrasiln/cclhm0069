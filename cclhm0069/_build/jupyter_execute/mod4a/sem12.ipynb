{
 "cells": [
  {
   "cell_type": "markdown",
   "metadata": {},
   "source": [
    "# Semana 12\n",
    "\n",
    "## Módulo 4a: Ferramentas digitais e o ensino de história\n",
    "\n",
    "**Período**: 17/01/2022 a 21/01/2022\n",
    "\n",
    "**CH**: 2h"
   ]
  },
  {
   "cell_type": "markdown",
   "metadata": {},
   "source": [
    "### Atividade Assíncrona 6 (AA)\n",
    "\n",
    "Tutorial 02: **Construindo mapas que contam histórias com o StoryMapJS**\n",
    "\n",
    "> EM BREVE O TUTORIAL ESTARÁ DISPONÍVEL AQUI"
   ]
  }
 ],
 "metadata": {
  "language_info": {
   "name": "python"
  }
 },
 "nbformat": 4,
 "nbformat_minor": 2
}