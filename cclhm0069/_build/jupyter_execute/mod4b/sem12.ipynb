{
 "cells": [
  {
   "cell_type": "markdown",
   "metadata": {},
   "source": [
    "# Semana 12\n",
    "\n",
    "**Período**: 17/01/2022 a 21/01/2022\n",
    "\n",
    "**CH**: 2h30"
   ]
  },
  {
   "cell_type": "markdown",
   "metadata": {},
   "source": [
    "| Tipo          | [Live Coding 1 (AS)](https://ericbrasiln.github.io/intro-historia-digital/mod4b/sem12.html#live-coding-1-as)|\n",
    "| ------------- | -------------------------------------------- |\n",
    "| Data e hora | 19/01/2022, às 19h |\n",
    "| Carga Horária | 2h30 |\n",
    "| Descrição | Python do Zero I |\n"
   ]
  }
 ],
 "metadata": {
  "language_info": {
   "name": "python"
  }
 },
 "nbformat": 4,
 "nbformat_minor": 2
}