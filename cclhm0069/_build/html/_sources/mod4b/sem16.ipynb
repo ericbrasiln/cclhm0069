{
 "cells": [
  {
   "cell_type": "markdown",
   "metadata": {},
   "source": [
    "# Semana 16\n",
    "\n",
    "## Módulo 4b: Programação para História\n",
    "\n",
    "\n",
    "**Período**: 14/02/2022 a 18/02/2022\n",
    "\n",
    "**CH**: 2h30"
   ]
  },
  {
   "cell_type": "markdown",
   "metadata": {},
   "source": [
    "## Live Coding 3 (AS)\n",
    "\n",
    "**Tema**: Python do Zero III\n",
    "\n",
    "**Data**: 16/02/2022, às 19h\n",
    "\n",
    "**CH**: 2h30\n",
    "\n",
    "**Plataforma**: `Google Meet` - link enviado por e-mail.\n",
    "\n",
    "```{Attention}\n",
    "[_Clique aqui para acessar a apresentação da aula_](https://ericbrasiln.github.io/intro-historia-digital/mod4b/sem13_ap.html).\n",
    "```\n"
   ]
  }
 ],
 "metadata": {
  "language_info": {
   "name": "python"
  }
 },
 "nbformat": 4,
 "nbformat_minor": 2
}
