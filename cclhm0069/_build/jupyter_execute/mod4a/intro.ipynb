{
 "cells": [
  {
   "cell_type": "markdown",
   "metadata": {},
   "source": [
    "# 4a. Ferramentas digitais e o ensino de história\n",
    "\n",
    "| Tipo de atividade | Quantidade | CH   |\n",
    "| ----------------- | ---------- | ---- |\n",
    "| AA [Tutoriais]    | 4          | 10h  |\n",
    "| AA [Tarefa]       | 1          | 2h   |\n",
    "| EV 7 [Workshop]   | 1          | 2h   |\n",
    "\n",
    "* Carga horária total: 14h\n",
    "* Dificuldade: Média\n",
    "\n",
    "## Temas\n",
    "\n",
    "1. Markdown\n",
    "2. [StoryMapJs](https://storymap.knightlab.com/)\n",
    "3. [Reveal.js](https://revealjs.com/)\n",
    "4. Podcast para ensino de história"
   ]
  }
 ],
 "metadata": {
  "language_info": {
   "name": "python"
  }
 },
 "nbformat": 4,
 "nbformat_minor": 2
}