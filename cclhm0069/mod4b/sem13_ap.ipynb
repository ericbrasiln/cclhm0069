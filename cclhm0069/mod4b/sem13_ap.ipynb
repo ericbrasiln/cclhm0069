{
  "cells": [
    {
      "cell_type": "markdown",
      "metadata": {
        "id": "zFuLfG-ARLKn"
      },
      "source": [
        "# Python do Zero I e II"
      ]
    },
    {
      "cell_type": "markdown",
      "metadata": {},
      "source": [
        "## Material para o Live Coding 1, 26/01/2022, referente à [semana 13 do curso](https://ericbrasiln.github.io/intro-historia-digital/mod4b/sem13.html#)\n",
        "\n",
        "O objetivo desse encontro virtual é tirar dúvidas quanto à instalação do Python e do Visual Studio Code e apresentar alguns conceitos básicos de programação."
      ]
    },
    {
      "cell_type": "markdown",
      "metadata": {},
      "source": [
        "\n",
        "\n",
        "![python](https://cdn.pixabay.com/photo/2017/01/31/23/21/animal-2028134_960_720.png)\n",
        "\n",
        "---\n",
        "\n",
        "**OBS:**\n",
        "\n",
        "Trechos e exemplos foram retirados dos seguintes  materiais:\n",
        "\n",
        "* [Introductions to cultural analytics & Python](https://melaniewalsh.github.io/Intro-Cultural-Analytics/index.html) de [Melanie Walsh](https://melaniewalsh.org/);\n",
        "* [Python Basics 1-3](https://hub.binder.constellate.org/user/ithaka-tdm-notebooks-mb3z11hb/notebooks/python-basics-1.ipynb) de [Nathan Kelber](http://nkelber.com/) e Ted Lawless;\n",
        "* [Pense Python 2ª edição](https://penseallen.github.io/PensePython2e/) de Allen Downey."
      ]
    },
    {
      "cell_type": "markdown",
      "metadata": {
        "id": "8ziYPWmW4LMG"
      },
      "source": [
        "### Pq Python?\n",
        "\n",
        "[Python](https://docs.constellate.org/key-terms/#python) é uma das linguagens de programação que mais crescem no mundo. Aprender Python] é uma ótima escolha pois é uma linguagem:\n",
        "\n",
        "* amplamente adotada nas humanidades digitais e ciência de dados;\n",
        "* que tem uma curva de aprendizado menor do que outras linguagens; \n",
        "* flexível, possuíndo amplo suporte para lidar com dados numéricos e textuais;\n",
        "* que lembra o inglês e é legível para quem sabe esse idioma."
      ]
    },
    {
      "cell_type": "markdown",
      "metadata": {
        "id": "7a76TGY8CkGv"
      },
      "source": [
        "### Anatomia de um script Python\n",
        "Adaptado do curso [Introduction to Cultural Analytics & Python](https://melaniewalsh.github.io/Intro-Cultural-Analytics/02-Python/03-Anatomy-Python-Script.html) de Melanie Walsh.\n",
        "\n",
        "Geralmente, o código escrito em Python para executar alguma função, salvo em um arquivo com a extensão *.py*, chamdo **script** possui uma estrutura que segue certo padrão. Ou melhor, possui um conjunto de elementos básicos e lógicos.\n",
        "\n",
        "Vamos olhar o script abaixo e entender cada trecho.\n"
      ]
    },
    {
      "cell_type": "code",
      "execution_count": null,
      "metadata": {
        "id": "ecQkYoIzEAWm"
      },
      "outputs": [],
      "source": [
        "'''\n",
        "Esse script pretende ser um exemplo de como se\n",
        "estrutura um script Python.\n",
        "'''\n",
        "\n",
        "# Importando bilbiotecas\n",
        "import time\n",
        "\n",
        "# cria variável com o dia e hora atual\n",
        "now = time.strftime(\"%d/%m/%Y %H:%M:%S\")\n",
        "\n",
        "#print() é uma função para imprimir um valor na tela\n",
        "print(now)\n",
        "\n",
        "# input() é uma função para receber um valor digitado pelo usuário  \n",
        "name = input(\"Digite seu nome: \")\n",
        "\n",
        "print('\\nOlá, ' + name + '!')\n",
        "# fim do script\n"
      ]
    },
    {
      "cell_type": "markdown",
      "metadata": {
        "id": "CLX4JZsXEgUS"
      },
      "source": [
        "### Terminal \n",
        "\n",
        "Além de poder executar comandos de Python no Jupyter Notebook, podemos e comumente vamos executar comandos e scripts diretamente através de linhas de comando no terminal.\n",
        "\n",
        "```\n",
        "python3 <nome-do-script>.py\n",
        "\n",
        "``` \n",
        "\n",
        "Ou ainda, você pode acessar o python em seu terminal e executar comandos de forma interativa executando o comando:\n",
        "\n",
        "```\n",
        "python3\n",
        "```\n"
      ]
    },
    {
      "cell_type": "markdown",
      "metadata": {
        "id": "NZ8FFA3mplON"
      },
      "source": [
        "### Operadores Aritméticos\n",
        "\n",
        "[Python Basics 1](https://hub.binder.constellate.org/user/ithaka-tdm-notebooks-mb3z11hb/notebooks/python-basics-1.ipynb) de [Nathan Kelber](http://nkelber.com/) e Ted Lawless"
      ]
    },
    {
      "cell_type": "markdown",
      "metadata": {
        "id": "vfRllGCeplON"
      },
      "source": [
        "|Operador| Operação| Exemplo | Resultado |\n",
        "|---|----|---|---|\n",
        "|\\*\\*| Potência| 3 ** 3 | 27 |\n",
        "|%| Resto da divição| 34 % 6 | 4 |\n",
        "|/| Divisão | 30 / 6 | 5|\n",
        "|//| Divisão inteira | 27 // 6 | 4 |\n",
        "|\\*| Multiplicação | 7 * 8 | 56 |\n",
        "|-| Subtração | 18 - 4| 14|\n",
        "|+| Adição | 4 + 3 | 7 |"
      ]
    },
    {
      "cell_type": "markdown",
      "metadata": {
        "id": "qKXzm0yPplOO"
      },
      "source": [
        "### Operadores relacionais\n",
        "\n",
        "[Python Basics 2](https://hub.binder.constellate.org/user/ithaka-tdm-notebooks-mb3z11hb/notebooks/python-basics-2.ipynb) de [Nathan Kelber](http://nkelber.com/) e Ted Lawless"
      ]
    },
    {
      "cell_type": "markdown",
      "metadata": {
        "id": "xKd4OU0rplOP"
      },
      "source": [
        "|Operador|Significado|\n",
        "|---|---|\n",
        "|==|Igual|\n",
        "|!=|diferente|\n",
        "|<|Menor que|\n",
        "|>|Maior que|\n",
        "|<=|Menor ou igual que|\n",
        "|>=|Maior ou igual que|"
      ]
    },
    {
      "cell_type": "markdown",
      "metadata": {
        "id": "r3ib_6FVplOQ"
      },
      "source": [
        "### Operadores Booleanos (and/or/not)\n",
        "\n",
        "[Python Basics 2](https://hub.binder.constellate.org/user/ithaka-tdm-notebooks-mb3z11hb/notebooks/python-basics-2.ipynb) de [Nathan Kelber](http://nkelber.com/) e Ted Lawless"
      ]
    },
    {
      "cell_type": "markdown",
      "metadata": {
        "id": "XGi5fFnEplOR"
      },
      "source": [
        "#### and\n",
        "\n",
        "```True and True = True```"
      ]
    },
    {
      "cell_type": "markdown",
      "metadata": {
        "id": "IS-idiuGplOR"
      },
      "source": [
        "#### or\n",
        "\n",
        "|Expressão|Avaliação|\n",
        "|---|---|\n",
        "|True or True|True|\n",
        "|True or False|True|\n",
        "|False or True|True|\n",
        "|False or False|False|\n"
      ]
    },
    {
      "cell_type": "markdown",
      "metadata": {
        "id": "ap2Rc0yZGR4-"
      },
      "source": [
        "### Variáveis\n",
        "Traduzido de [Variables](https://melaniewalsh.github.io/Intro-Cultural-Analytics/02-Python/04-Variables.html) Melanie Walsh.\n",
        "\n",
        "As variáveis são um dos blocos de construção fundamentais do Python. Uma variável é como um pequeno contêiner onde você armazena valores e dados, como nomes de arquivos, palavras, números, coleções de palavras e números e muito mais."
      ]
    },
    {
      "cell_type": "markdown",
      "metadata": {
        "id": "gOqxLjMzJOD_"
      },
      "source": [
        "#### Definindo variáveis\n",
        "\n",
        "O nome da variável apontará para um valor que você \"atribui\" a ele. Você pode pensar em atribuição de variável como colocar um valor \"dentro\" da variável, como se a variável fosse uma pequena caixa 🎁\n",
        "\n",
        "Você atribui variáveis com um sinal de igual `=`. Em Python, um único sinal de igual `=` é o \"operador de atribuição\". Um sinal de igual duplo `==` é o sinal de igual \"real\"."
      ]
    },
    {
      "cell_type": "code",
      "execution_count": null,
      "metadata": {
        "id": "Xfa7-Zs9plOS"
      },
      "outputs": [],
      "source": [
        "# criar uma variável\n",
        "nome = 'Maria'\n",
        "#imprimir o valor da variável\n",
        "print(nome)"
      ]
    },
    {
      "cell_type": "code",
      "execution_count": null,
      "metadata": {
        "id": "tAVsI4DCplOT"
      },
      "outputs": [],
      "source": [
        "2+2 == 4"
      ]
    },
    {
      "cell_type": "markdown",
      "metadata": {
        "id": "l2dffzozH5Rn"
      },
      "source": [
        "#### Nomeando variáveis\n",
        "\n",
        "Os nomes das variáveis podem ser tão longos ou curtos quanto você quiser e podem incluir:\n",
        "- letras maiúsculas e minísculas (A-Z)\n",
        "- dígitos (0-9)\n",
        "- underscores (_)\n",
        "\n",
        "No entanto, os nomes das variáveis * não podem * incluir:\n",
        "- ❌ outras pontuações (-.!?@)\n",
        "- ❌ spaces ( )\n",
        "- ❌ uma palavra reservada do Python\n",
        "\n",
        "Variáveis claras e nomeadas com precisão irão:\n",
        "\n",
        "* tornar seu código mais legível (para você e para outras pessoas)\n",
        "* reforçar sua compreensão do Python e do que está acontecendo no código\n",
        "* esclarecer e fortalecer seu pensamento\n",
        "\n",
        "Para maiores informações veja o [Style Guide for Python Code](https://www.python.org/dev/peps/pep-0008/)"
      ]
    },
    {
      "cell_type": "markdown",
      "metadata": {
        "id": "SPzeKbw_plOU"
      },
      "source": [
        "#### Palavras-chave do Python\n",
        "Retirado de [Pense Python](https://penseallen.github.io/PensePython2e/02-vars-expr-instr.html) de Allen Downey, capítulo 2.\n",
        "\n",
        "O interpretador usa palavras-chave para reconhecer a estrutura do programa e elas não podem ser usadas como nomes de variável.\n",
        "\n",
        "O Python 3 tem estas palavras-chave:\n",
        "\n",
        "```\n",
        "and         del         from        None        True\n",
        "as          elif        global      nonlocal    try\n",
        "assert      else        if          not         while\n",
        "break       except      import      or          with\n",
        "class       False       in          pass        yield\n",
        "continue    finally     is          raise\n",
        "def         for         lambda      return\n",
        "```\n",
        "\n",
        "Você não precisa memorizar essa lista. Na maior parte dos ambientes de desenvolvimento, as palavras-chave são exibidas em uma cor diferente; se você tentar usar uma como nome de variável, vai perceber."
      ]
    },
    {
      "cell_type": "markdown",
      "metadata": {
        "id": "QDQODw3GJb6_"
      },
      "source": [
        "#### Redefinindo variáveis\n",
        "\n",
        "As variáveis não são fixas, é possível atribuir novos valores a uma varivável que já havia sido definida anteriormente."
      ]
    },
    {
      "cell_type": "code",
      "execution_count": null,
      "metadata": {
        "id": "wRLiRcJCJozQ"
      },
      "outputs": [],
      "source": [
        "nome = 'Eric'\n",
        "print(nome)"
      ]
    },
    {
      "cell_type": "markdown",
      "metadata": {
        "id": "b13Gs3mSKQps"
      },
      "source": [
        "### Tipos de Dados\n"
      ]
    },
    {
      "cell_type": "markdown",
      "metadata": {
        "id": "18phw-5YLMJM"
      },
      "source": [
        "Existem quatro tipos essenciais de dados Python com diferentes poderes e capacidades:\n",
        "\n",
        "- Strings (texto)\n",
        "- Inteiros (números inteiros)\n",
        "- Floats (números decimais)\n",
        "- Booleans (verdadeiro / falso)"
      ]
    },
    {
      "cell_type": "markdown",
      "metadata": {
        "id": "kH-emhWpMIsM"
      },
      "source": [
        "\n",
        "|Tipo | Explicação | Exemplo |\n",
        "|---|---|---|\n",
        "|integer|número inteiro| -3, 0, 2, 534|\n",
        "|float|número decimal | 6.3, -19.23, 5.0, 0.01|\n",
        "|string|texto| 'Hello world', '1700 butterflies', '', '1823'|\n",
        "|boolean|Verdadeiro ou Falso| True/False|\n"
      ]
    },
    {
      "cell_type": "markdown",
      "metadata": {
        "id": "KSMPVF7dNHAi"
      },
      "source": [
        "Você pode verificar o tipo de dados de qualquer valor usando a função `type ()`."
      ]
    },
    {
      "cell_type": "code",
      "execution_count": null,
      "metadata": {
        "id": "1M5CIwQQNIWD"
      },
      "outputs": [],
      "source": [
        "type(nome)"
      ]
    },
    {
      "cell_type": "markdown",
      "metadata": {
        "id": "o9R80sgIplOX"
      },
      "source": [
        "### print() input() e format()\n",
        "\n",
        "Para imprimir na tela um valor devemos utilizar a função `print()`.\n",
        "\n",
        "Para receber um valor de entrada do usuário, usamos a função `input()`.\n",
        "\n",
        "Usamos format() para formatar strings."
      ]
    },
    {
      "cell_type": "code",
      "execution_count": null,
      "metadata": {
        "id": "MBiPjZOcplOX"
      },
      "outputs": [],
      "source": [
        "print(nome)\n",
        "\n",
        "new_name = input('Digite seu nome: ')\n",
        "print(new_name)\n",
        "\n",
        "print(f'Olá, {new_name}! Como vai?')\n"
      ]
    },
    {
      "cell_type": "markdown",
      "metadata": {},
      "source": [
        "## Material para o Live Coding 2, 02/02/2022, referente à [semana 14 do curso](https://ericbrasiln.github.io/intro-historia-digital/mod4b/sem14.html#)\n",
        "\n",
        "Os objetivos desse encontro virtual são:\n",
        "\n",
        "- Tirar dúvidas quanto à instalação e configuração do Visual Studio Code;\n",
        "- Manipular strings e listas com Python."
      ]
    },
    {
      "cell_type": "markdown",
      "metadata": {
        "id": "n6ZgLyEvRLLQ"
      },
      "source": [
        "### Strings"
      ]
    },
    {
      "cell_type": "markdown",
      "metadata": {
        "id": "NXxnN6BWNvtZ"
      },
      "source": [
        "Uma *string* é um tipo de dados Python que é tratado como texto, mesmo que contenha um número. As strings são sempre colocadas entre aspas simples `'isto é uma string'` ou aspas duplas `\"isto é uma string\"`.\n",
        "\n",
        "Segundo [Allen Downey](https://penseallen.github.io/PensePython2e/08-strings.html):\n",
        "\n",
        ">Strings não são como números inteiros, de ponto flutuante ou booleanos. Uma string é uma sequência, ou seja, uma coleção ordenada de outros valores. (...) Uma string é uma sequência de caracteres."
      ]
    },
    {
      "cell_type": "markdown",
      "metadata": {
        "id": "zVA4Dwt7plOY"
      },
      "source": [
        "É possível acessar um caracter específico da string com o operador []\n",
        "\n",
        "A expressão entre colchetes chama-se índice. O índice aponta qual caractere da sequência você quer\n",
        "\n",
        "---"
      ]
    },
    {
      "cell_type": "markdown",
      "metadata": {
        "id": "Q_HhpIfRplOZ"
      },
      "source": [
        "**Vamos usar um exemplo que preste**\n",
        "\n",
        "<img src=\"https://www.beyonce.com/uploads/2021/09/090821_valentinojeans_02_ekpqrul_gen.gif\" alt=\"queen bey\" width=\"200\">"
      ]
    },
    {
      "cell_type": "code",
      "execution_count": null,
      "metadata": {
        "id": "CCCaocT6plOZ"
      },
      "outputs": [],
      "source": [
        "music = 'Formation'\n",
        "music[1]"
      ]
    },
    {
      "cell_type": "markdown",
      "metadata": {
        "id": "6bwM4RGPplOa"
      },
      "source": [
        "**Opa! o caractere na posição 1 da string music não deveria ser 'U'?**\n",
        "\n",
        "A contagem de índices no Python começa em `0`, ou seja, o primeiro caractere é na posição 0.\n",
        "\n",
        "A indexação é baseada na distância do ponto de partida e como o primeiro elemento está a uma distância *zero* do ponto de partida, seu índice é `0`."
      ]
    },
    {
      "cell_type": "code",
      "execution_count": null,
      "metadata": {
        "id": "nKcFIXZSplOa"
      },
      "outputs": [],
      "source": [
        "music[0]"
      ]
    },
    {
      "cell_type": "markdown",
      "metadata": {
        "id": "djb47aduplOb"
      },
      "source": [
        "E pra acessar o último elemento da string, você pode usar índices negativos."
      ]
    },
    {
      "cell_type": "code",
      "execution_count": null,
      "metadata": {
        "id": "i8Mhq2ffplOb"
      },
      "outputs": [],
      "source": [
        "music[-1]"
      ]
    },
    {
      "cell_type": "markdown",
      "metadata": {
        "id": "y45yvynhplOb"
      },
      "source": [
        "#### len()\n",
        "\n",
        "len() é uma função que retorna o número de caracteres de uma string."
      ]
    },
    {
      "cell_type": "code",
      "execution_count": null,
      "metadata": {
        "id": "zDcArB6oplOb"
      },
      "outputs": [],
      "source": [
        "len(music)"
      ]
    },
    {
      "cell_type": "code",
      "execution_count": null,
      "metadata": {
        "id": "uSkt4vYbplOc"
      },
      "outputs": [],
      "source": [
        "another_music = 'Mood 4 eva'\n",
        "len(another_music)"
      ]
    },
    {
      "cell_type": "markdown",
      "metadata": {
        "id": "3uyria9tNzb4"
      },
      "source": [
        "#### Manipulando *strings*"
      ]
    },
    {
      "cell_type": "markdown",
      "metadata": {
        "id": "oJgG7_yAplOc"
      },
      "source": [
        "##### Fatiamento de strings\n",
        "\n",
        "Segundo [Allen Downey](https://penseallen.github.io/PensePython2e/08-strings.html):\n",
        "\n",
        ">O operador [n:m] retorna a parte da string do “enésimo” caractere ao “emésimo” caractere, incluindo o primeiro, mas excluindo o último. Este comportamento é contraintuitivo, porém pode ajudar a imaginar os índices que indicam a parte entre os caracteres."
      ]
    },
    {
      "cell_type": "code",
      "execution_count": null,
      "metadata": {
        "id": "uWYzi5ejplOd"
      },
      "outputs": [],
      "source": [
        "old_music = 'Crazy in love'"
      ]
    },
    {
      "cell_type": "code",
      "execution_count": null,
      "metadata": {
        "id": "aBhafrLQplOd"
      },
      "outputs": [],
      "source": [
        "old_music[2:5]"
      ]
    },
    {
      "cell_type": "code",
      "execution_count": null,
      "metadata": {
        "id": "c8NsCNEvplOd"
      },
      "outputs": [],
      "source": [
        "old_music[:5] # se omitir o primeiro número, ele começa no início da string"
      ]
    },
    {
      "cell_type": "code",
      "execution_count": null,
      "metadata": {
        "id": "tV9llX4YplOe"
      },
      "outputs": [],
      "source": [
        "old_music[3:] # se omitir o último número, a fatia vai até o final da string\n"
      ]
    },
    {
      "cell_type": "code",
      "execution_count": null,
      "metadata": {
        "id": "DJ0mONzwplOe"
      },
      "outputs": [],
      "source": [
        "old_music[3:3] # Se o primeiro índice for maior ou igual ao segundo, o resultado é uma string vazia, representada por duas aspas\n"
      ]
    },
    {
      "cell_type": "markdown",
      "metadata": {
        "id": "HdOYx_TtplOe"
      },
      "source": [
        "##### Concatenando strings"
      ]
    },
    {
      "cell_type": "code",
      "execution_count": null,
      "metadata": {
        "id": "GhNzA74_RLLS"
      },
      "outputs": [],
      "source": [
        "nome = 'Beyoncé'\n",
        "nome_completo = nome + ' ' + 'Knowles'\n",
        "print(nome_completo)"
      ]
    },
    {
      "cell_type": "markdown",
      "metadata": {
        "id": "TIWMCO62plOf"
      },
      "source": [
        "##### Métodos de strings"
      ]
    },
    {
      "cell_type": "code",
      "execution_count": null,
      "metadata": {
        "id": "nbpNaHyHRLLV"
      },
      "outputs": [],
      "source": [
        "# lower() converte todas as letras para minusculas\n",
        "nome_completo = nome_completo.lower()\n",
        "print(nome_completo)"
      ]
    },
    {
      "cell_type": "code",
      "execution_count": null,
      "metadata": {
        "id": "uybRxE5fplOg"
      },
      "outputs": [],
      "source": [
        "# upper() converte todas as letras para maiusculas\n",
        "nome_completo = nome_completo.upper()\n",
        "print(nome_completo)"
      ]
    },
    {
      "cell_type": "code",
      "execution_count": null,
      "metadata": {
        "id": "z2Kcl1DARLLa"
      },
      "outputs": [],
      "source": [
        "# replace - substitui uma string por outra\n",
        "nome_completo = nome_completo.replace('KNOWLES', 'KNOWLES-CARTER')\n",
        "print(nome_completo)"
      ]
    },
    {
      "cell_type": "code",
      "execution_count": null,
      "metadata": {
        "id": "rtj6vq86RLLe"
      },
      "outputs": [],
      "source": [
        "# split - divide uma string em várias strings\n",
        "f_name, l_name = nome_completo.split(' ')\n",
        "print(f_name)\n",
        "print(l_name)"
      ]
    },
    {
      "cell_type": "code",
      "execution_count": null,
      "metadata": {
        "id": "rxC7B2AyplOh"
      },
      "outputs": [],
      "source": [
        "# find - encontra a posição de uma string dentro de outra\n",
        "nome_completo.find('KNOWLES')"
      ]
    },
    {
      "cell_type": "code",
      "execution_count": null,
      "metadata": {
        "id": "QF0DxHCfplOh"
      },
      "outputs": [],
      "source": [
        "# rfind - encontra a posição de uma string dentro de outra, mas começa a busca pelo final\n",
        "nome_completo.rfind('K')"
      ]
    },
    {
      "cell_type": "code",
      "execution_count": null,
      "metadata": {
        "id": "vemiVX5qplOi"
      },
      "outputs": [],
      "source": [
        "# count - conta quantas vezes uma string aparece dentro de outra\n",
        "nome_completo.count('E')"
      ]
    },
    {
      "cell_type": "code",
      "execution_count": null,
      "metadata": {
        "id": "lKt8QEgZplOi"
      },
      "outputs": [],
      "source": [
        "# strip - remove os espaços em branco no início e no final da string\n",
        "movie = ' Lion King             '\n",
        "movie.strip()"
      ]
    },
    {
      "cell_type": "markdown",
      "metadata": {
        "id": "-XPxgocHplOi"
      },
      "source": [
        "#### Saiba mais sobre strings\n",
        "\n",
        "[ABZ-Aaron](https://github.com/ABZ-Aaron) criou um repositório no Github com cheat sheets para os métdoso de strings. Lś você também encontra cheat sheets sobre listas e dicionários. \n",
        "\n",
        "Veja o [repositório](https://github.com/ABZ-Aaron/CheatSheets)."
      ]
    },
    {
      "cell_type": "markdown",
      "metadata": {
        "id": "1N4XLhMVRLLi"
      },
      "source": [
        "### Listas"
      ]
    },
    {
      "cell_type": "markdown",
      "metadata": {
        "id": "39G2zHXLplOj"
      },
      "source": [
        "Allen Downey define uma lista em Python:\n",
        "\n",
        ">Como uma string, uma lista é uma sequência de valores. Em uma string, os valores são caracteres; em uma lista, eles podem ser de qualquer tipo. Os valores em uma lista são chamados de elementos, ou, algumas vezes, de itens.\n",
        "\n",
        ">Há várias formas para criar uma lista; a mais simples é colocar os elementos entre colchetes ([ e ])"
      ]
    },
    {
      "cell_type": "markdown",
      "metadata": {
        "id": "8XbRAXijplOj"
      },
      "source": [
        "Listas são mutáveis. Podem conter elementos de qualquer tipo."
      ]
    },
    {
      "cell_type": "code",
      "execution_count": null,
      "metadata": {
        "id": "j7dwVUkRplOk"
      },
      "outputs": [],
      "source": [
        "musics = ['Lemonade', 'Halo', 'Freedom','Flawless']\n",
        "years = [2000, 2019, 2016, 2013]\n",
        "empty = []\n",
        "multi = ['singer', 1.70, ['jay-z', 'blue ivy']]"
      ]
    },
    {
      "cell_type": "code",
      "execution_count": null,
      "metadata": {
        "id": "Y6t80BmoplOk"
      },
      "outputs": [],
      "source": [
        "years[1] = 2016\n",
        "years"
      ]
    },
    {
      "cell_type": "code",
      "execution_count": null,
      "metadata": {
        "id": "4d3wX7iqplOk"
      },
      "outputs": [],
      "source": [
        "len(musics)"
      ]
    },
    {
      "cell_type": "markdown",
      "metadata": {
        "id": "v6px4L_hplOl"
      },
      "source": [
        "Índices de listas funcionam da mesma forma que os índices de strings"
      ]
    },
    {
      "cell_type": "markdown",
      "metadata": {
        "id": "pwzM4OhxplOl"
      },
      "source": [
        "#### Métodos de listas"
      ]
    },
    {
      "cell_type": "code",
      "execution_count": null,
      "metadata": {
        "id": "IledSKvAplOl"
      },
      "outputs": [],
      "source": [
        "# append - adiciona um elemento ao final de uma lista\n",
        "musics.append('Formation')"
      ]
    },
    {
      "cell_type": "code",
      "execution_count": null,
      "metadata": {
        "id": "UwEpH01DplOl"
      },
      "outputs": [],
      "source": [
        "# extend toma uma lista como argumento e adiciona todos os elementos\n",
        "new_songs = ['Crazy in love', 'Hold up']\n",
        "musics.extend(new_songs)\n",
        "print(musics)"
      ]
    },
    {
      "cell_type": "code",
      "execution_count": null,
      "metadata": {
        "id": "lR4J-iddplOm"
      },
      "outputs": [],
      "source": [
        "# sort - ordena uma lista\n",
        "musics.sort()"
      ]
    },
    {
      "cell_type": "code",
      "execution_count": null,
      "metadata": {
        "id": "mkibWVXHplOn"
      },
      "outputs": [],
      "source": [
        "musics.sort(reverse=True)"
      ]
    },
    {
      "cell_type": "code",
      "execution_count": null,
      "metadata": {
        "id": "aoCk6BibplOn"
      },
      "outputs": [],
      "source": [
        "musics.append('Artpop')\n",
        "print(musics)"
      ]
    },
    {
      "cell_type": "code",
      "execution_count": null,
      "metadata": {
        "id": "bPWMQncQplOn"
      },
      "outputs": [],
      "source": [
        "#pop - remove um elemento da lista\n",
        "musics.pop() # remove o ultimo elemento da lista\n",
        "print(musics)"
      ]
    },
    {
      "cell_type": "code",
      "execution_count": null,
      "metadata": {
        "id": "7BJNtFyYplOn"
      },
      "outputs": [],
      "source": [
        "# del - remove um elemento da lista\n",
        "del musics[0]"
      ]
    },
    {
      "cell_type": "code",
      "execution_count": null,
      "metadata": {
        "id": "0hea_1orplOo"
      },
      "outputs": [],
      "source": [
        "# remove - remove um elemento da lista\n",
        "musics.remove('Halo')\n",
        "print(musics)"
      ]
    },
    {
      "cell_type": "code",
      "execution_count": null,
      "metadata": {
        "id": "unAGWiN7plOo"
      },
      "outputs": [],
      "source": [
        "# transformar uma lista em uma string\n",
        "# join - separa os elementos da lista com o separador passado\n",
        "str_musics = ', '.join(musics)\n",
        "print(str_musics)"
      ]
    },
    {
      "cell_type": "markdown",
      "metadata": {},
      "source": [
        "## Material para o Live Coding 3, 16/02/2022, referente à [semana 16 do curso](https://ericbrasiln.github.io/intro-historia-digital/mod4b/sem16.html#)</small>\n",
        "\n",
        "Os objetivos desse encontro virtual são:\n",
        "\n",
        "- Entender os controladores de fluxo em Python;\n",
        "- Executar CLI (Command Line Interface) em Python."
      ]
    },
    {
      "cell_type": "markdown",
      "metadata": {
        "id": "fidOFPv_plOo"
      },
      "source": [
        "### Controle de fluxo\n",
        "\n",
        "[Python Basics 2](https://hub.binder.constellate.org/user/ithaka-tdm-notebooks-mb3z11hb/notebooks/python-basics-2.ipynb) de [Nathan Kelber](http://nkelber.com/) e Ted Lawless"
      ]
    },
    {
      "cell_type": "markdown",
      "metadata": {
        "id": "o2i6sCT4plOp"
      },
      "source": [
        "#### Tipos de controle de fluxo\n",
        "\n",
        "\n",
        "|Declaração|Significado|Condição de execução|\n",
        "|---|---|---|\n",
        "|`if`|se|se a condição for atendida|\n",
        "|`elif`|senão se|se nenhuma condição anterior for atendida *e* esta condição for atendida|\n",
        "|`else`|senão|se nenhuma condição for atendida (nenhuma condição é fornecida para uma instrução `else`)|\n",
        "|`while`|enquanto|enquanto a condição for verdadeira|\n",
        "|`for`|para|executar em um loop um quantidade de vezes|\n",
        "|`try`|tentar|tente isso e execute o código `except` se ocorrer um erro|"
      ]
    },
    {
      "cell_type": "markdown",
      "metadata": {
        "id": "fGtUM1lMRLLt"
      },
      "source": [
        "#### Criando iterações for\n",
        "\n",
        "É fundamental entender a estrutura de iteração, realizar um loop com python.\n",
        "\n",
        "Iterar é a capacidade de executar um bloco de instruções repetidamente."
      ]
    },
    {
      "cell_type": "code",
      "execution_count": null,
      "metadata": {
        "id": "eG2GH0fHplOp"
      },
      "outputs": [],
      "source": [
        "# utilizar for para percorrer a lista musics\n",
        "for music in musics:\n",
        "    length_music = len(music)\n",
        "    print(f'A música é {music} e ela possui {length_music} letras.\\n')\n"
      ]
    },
    {
      "cell_type": "code",
      "execution_count": null,
      "metadata": {
        "id": "PhjUlGl6plOq"
      },
      "outputs": [],
      "source": [
        "# utilizar range para percorrer um intervalo de valores\n",
        "for i in range(0, len(musics)):\n",
        "    print(f'A música é {musics[i]} e ela possui {len(musics[i])} letras.\\n')\n",
        "    "
      ]
    },
    {
      "cell_type": "code",
      "execution_count": null,
      "metadata": {
        "id": "yKUiEgHKRLLu"
      },
      "outputs": [],
      "source": [
        "# create a list\n",
        "list_names = []\n",
        "# input the names of the students\n",
        "for i in range(1,6):\n",
        "    name = input(f'Digite o nome do estudante número {i}: ')\n",
        "    list_names.append(name)\n",
        "    "
      ]
    },
    {
      "cell_type": "code",
      "execution_count": null,
      "metadata": {
        "id": "Zo9pQPNJplOq"
      },
      "outputs": [],
      "source": [
        "# loop na lista musics e salva cada item em um arquivo txt\n",
        "for music in musics:\n",
        "    # abre o arquivo txt\n",
        "    file = open(music + '.txt', 'w') # w = write\n",
        "    # escreve o valor usando format\n",
        "    file.write(str(f'A música é {music} e ela possui {len(music)} letras.\\n'))\n",
        "    file.close() # fecha o arquivo"
      ]
    },
    {
      "cell_type": "markdown",
      "metadata": {
        "id": "HRciswyyplOq"
      },
      "source": [
        "#### while\n",
        "\n",
        "Fluxo de execução para uma instrução while:\n",
        "\n",
        "1. Determine se a condição é verdadeira ou falsa.\n",
        "\n",
        "1. Se for falsa, saia da instrução while e continue a execução da próxima instrução.\n",
        "\n",
        "1. Se a condição for verdadeira, execute o corpo e então volte ao passo 1."
      ]
    },
    {
      "cell_type": "code",
      "execution_count": null,
      "metadata": {
        "id": "sQWUZveIplOr"
      },
      "outputs": [],
      "source": [
        "# criar uma lista de uma contagem de 10 até 0\n",
        "import time\n",
        "count = 10\n",
        "while count > 0:\n",
        "    print(count)\n",
        "    time.sleep(1)\n",
        "    count -= 1\n",
        "print(\"Ok, Ladies, now let's get in formation!\")"
      ]
    },
    {
      "cell_type": "markdown",
      "metadata": {
        "id": "48wQi2kLplOs"
      },
      "source": [
        "#### if / elif / else\n",
        "\n",
        "Operações condicionais"
      ]
    },
    {
      "cell_type": "code",
      "execution_count": null,
      "metadata": {
        "id": "FnQ155vFplOs"
      },
      "outputs": [],
      "source": [
        "number = int(input('Digite um número: '))"
      ]
    },
    {
      "cell_type": "code",
      "execution_count": null,
      "metadata": {
        "id": "JCEMVl-JplOs"
      },
      "outputs": [],
      "source": [
        "if number > 0:\n",
        "    print('positive')"
      ]
    },
    {
      "cell_type": "code",
      "execution_count": null,
      "metadata": {
        "id": "bce9OXn_plOt"
      },
      "outputs": [],
      "source": [
        "if number < 0:\n",
        "    print('negative')"
      ]
    },
    {
      "cell_type": "code",
      "execution_count": null,
      "metadata": {
        "id": "ruTVt8DhplOt"
      },
      "outputs": [],
      "source": [
        "if number == 0:\n",
        "    print('zero')"
      ]
    },
    {
      "cell_type": "code",
      "execution_count": null,
      "metadata": {
        "id": "XYG-DWHPplOt"
      },
      "outputs": [],
      "source": [
        "if number > 0:\n",
        "    print(f'o número {number} positivo')\n",
        "else:\n",
        "    print(f'o número {number} negativo')"
      ]
    },
    {
      "cell_type": "code",
      "execution_count": null,
      "metadata": {
        "id": "2O6zKmWKplOu"
      },
      "outputs": [],
      "source": [
        "if number > 0:\n",
        "    print(f'o número {number} positivo')\n",
        "elif number == 0:\n",
        "    print(f'o número {number} é zero')\n",
        "else:\n",
        "    print(f'o número {number} negativo')"
      ]
    },
    {
      "cell_type": "markdown",
      "metadata": {
        "id": "7QOIn1SGplOu"
      },
      "source": [
        "---"
      ]
    },
    {
      "cell_type": "markdown",
      "metadata": {},
      "source": [
        "Em breve dados sobre CLI em Python"
      ]
    }
  ],
  "metadata": {
    "colab": {
      "name": "Cópia de intro_python.ipynb",
      "provenance": []
    },
    "interpreter": {
      "hash": "31f2aee4e71d21fbe5cf8b01ff0e069b9275f58929596ceb00d14d90e3e16cd6"
    },
    "kernelspec": {
      "display_name": "Python 3.9.5 64-bit",
      "name": "python3"
    },
    "language_info": {
      "codemirror_mode": {
        "name": "ipython",
        "version": 3
      },
      "file_extension": ".py",
      "mimetype": "text/x-python",
      "name": "python",
      "nbconvert_exporter": "python",
      "pygments_lexer": "ipython3",
      "version": "3.9.7"
    },
    "orig_nbformat": 4
  },
  "nbformat": 4,
  "nbformat_minor": 0
}
