{
 "cells": [
  {
   "cell_type": "markdown",
   "metadata": {},
   "source": [
    "# Semana 6\n",
    "\n",
    "**Período**: 16/11/2021 a 19/11/2021\n",
    "\n",
    "**CH**: 3h30"
   ]
  },
  {
   "cell_type": "markdown",
   "metadata": {},
   "source": [
    "## Atividade Assíncrona 3 (AA)\n",
    "\n",
    "**Tema**: Organização de pesquisa e referêncas com Zotero\n",
    "\n",
    "**Data**: 16/11/2021 a 19/11/2021\n",
    "\n",
    "**CH**: 2h30min\n",
    "\n",
    "**Plataforma**: `YouTube` - link do [tutorial](https://youtu.be/CPdhyKboKC0) e link do [workshop](https://youtu.be/I5ohkh5d51Y).\n",
    "\n",
    "```{Attention}\n",
    "[_Clique aqui para acessar a apresentação da aula_](https://ericbrasiln.github.io/intro-historia-digital/mod2/sem6_ap.html).\n",
    "```"
   ]
  },
  {
   "cell_type": "markdown",
   "metadata": {},
   "source": [
    "## Tarefa 3 (AA)\n",
    "\n",
    "**Tema**: Iniciando com o Zotero\n",
    "\n",
    "**Data**: 16/11/2021 a 19/11/2021\n",
    "\n",
    "**CH**: 1 hora\n",
    "\n",
    "1. Criar uma conta no [Zotero](https://www.zotero.org/);\n",
    "2. Instalar o programa no computador e incluir a [bibliografia](https://ericbrasiln.github.io/intro-historia-digital/1_1_biblio.html) do curso no programa.\n",
    "3. Integrar o programa com editor de texto (Word, LibreOffice, etc) e gerar citações automáticas no estilo **ABNT**."
   ]
  }
 ],
 "metadata": {
  "language_info": {
   "name": "python"
  }
 },
 "nbformat": 4,
 "nbformat_minor": 2
}