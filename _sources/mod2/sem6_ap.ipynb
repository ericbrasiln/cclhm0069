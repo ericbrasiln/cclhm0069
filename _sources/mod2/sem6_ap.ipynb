{
 "cells": [
  {
   "cell_type": "markdown",
   "metadata": {},
   "source": [
    "# Organização de pesquisa e referêncas com Zotero\n",
    "\n",
    "<small>Material para a [semana 6](https://ericbrasiln.github.io/intro-historia-digital/mod2/sem6.html), 16/11/2021 a 19/11/2021</small>"
   ]
  },
  {
   "cell_type": "markdown",
   "metadata": {},
   "source": [
    "O objetivo dessa semana é capacitar os discentes do curso no uso de ferramentas de organização e gereciamento de bibliografia para psequisa e produção de trabalhos acadêmicos.\n",
    "\n",
    "Para isso teremos um tutorial e uma gravação de workshop sobre o programa Zotero. \n",
    "\n",
    "O [Zotero](https://www.zotero.org/) é um programa de código livre e aberto, gratuito, que tem como objetivo o gerenciamento, organização e armazenamento de referências bibliográficas, criando uma biblioteca organizada em coleções. O programa possibilita gerar notas/fichamentos, tecer conexões/links entre as referências, atribuição de etiquetas/marcadores, entre outras funções.O Zotero permite ao usuário administrar sua biblioteca em mais de um dispositivo através da sincronização do programa à conta online no servidor de Zotero, tornando possível acessar as informações armazenadas no computador pessoal, a criação de grupos e biblioteca compartilhada. O programa também permite a integração com os diversos editores de texto, permitindo a criação de referências às  citações e criação de bibliografias automáticas a partir de todas as citações presentes no texto no estilo selecionado pelo usuário. "
   ]
  },
  {
   "cell_type": "markdown",
   "metadata": {},
   "source": [
    "## *Zotero do Zero*: Tutorial de instalação do Zotero no Windows 10"
   ]
  },
  {
   "cell_type": "code",
   "execution_count": 13,
   "metadata": {},
   "outputs": [
    {
     "data": {
      "text/html": [
       "\n",
       "        <iframe\n",
       "            width=\"560\"\n",
       "            height=\"315\"\n",
       "            src=\"https://www.youtube.com/embed/https://www.youtube.com/watch?v=CPdhyKboKC0\"\n",
       "            frameborder=\"0\"\n",
       "            allowfullscreen\n",
       "        ></iframe>\n",
       "        "
      ],
      "text/plain": [
       "<IPython.lib.display.YouTubeVideo at 0x7fe626c33970>"
      ]
     },
     "execution_count": 13,
     "metadata": {},
     "output_type": "execute_result"
    }
   ],
   "source": [
    "from IPython.display import YouTubeVideo\n",
    "YouTubeVideo(\"https://www.youtube.com/watch?v=CPdhyKboKC0\", width=560, height=315)"
   ]
  },
  {
   "cell_type": "markdown",
   "metadata": {},
   "source": [
    "## Workshop de Zotero\n"
   ]
  },
  {
   "cell_type": "code",
   "execution_count": 14,
   "metadata": {},
   "outputs": [
    {
     "data": {
      "text/html": [
       "\n",
       "        <iframe\n",
       "            width=\"560\"\n",
       "            height=\"315\"\n",
       "            src=\"https://www.youtube.com/embed/https://www.youtube.com/watch?v=I5ohkh5d51Y\"\n",
       "            frameborder=\"0\"\n",
       "            allowfullscreen\n",
       "        ></iframe>\n",
       "        "
      ],
      "text/plain": [
       "<IPython.lib.display.YouTubeVideo at 0x7fe624365880>"
      ]
     },
     "execution_count": 14,
     "metadata": {},
     "output_type": "execute_result"
    }
   ],
   "source": [
    "YouTubeVideo(\"https://www.youtube.com/watch?v=I5ohkh5d51Y\", width=560, height=315)"
   ]
  },
  {
   "cell_type": "markdown",
   "metadata": {},
   "source": [
    "## Tarefa 3\n",
    "\n",
    "1. Criar uma conta no [Zotero](https://www.zotero.org/);\n",
    "2. Instalar o programa no computador e incluir a [bibliografia](https://ericbrasiln.github.io/intro-historia-digital/1_1_biblio.html) do curso no programa.\n",
    "3. Integrar o programa com editor de texto (Word, LibreOffice, etc) e gerar citações automáticas no estilo **ABNT**."
   ]
  }
 ],
 "metadata": {
  "interpreter": {
   "hash": "916dbcbb3f70747c44a77c7bcd40155683ae19c65e1c03b4aa3499c5328201f1"
  },
  "kernelspec": {
   "display_name": "Python 3.9.5 64-bit",
   "language": "python",
   "name": "python3"
  },
  "language_info": {
   "codemirror_mode": {
    "name": "ipython",
    "version": 3
   },
   "file_extension": ".py",
   "mimetype": "text/x-python",
   "name": "python",
   "nbconvert_exporter": "python",
   "pygments_lexer": "ipython3",
   "version": "3.9.5"
  }
 },
 "nbformat": 4,
 "nbformat_minor": 2
}
