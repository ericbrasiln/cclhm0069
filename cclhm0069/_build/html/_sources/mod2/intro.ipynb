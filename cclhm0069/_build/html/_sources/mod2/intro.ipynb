{
 "cells": [
  {
   "cell_type": "markdown",
   "metadata": {},
   "source": [
    "# Módulo 2. Ferramentas digitais e a pesquisa histórica"
   ]
  },
  {
   "cell_type": "markdown",
   "metadata": {},
   "source": [
    "| Tipo de atividade | Quantidade        | CH   |\n",
    "| ----------------- | ----------------- | ---- |\n",
    "| EV [workshops]    | 3 (2h30)          | 7h30 |\n",
    "| AA                | 2 (2h30) + 1 (1h) | 6h   |\n",
    "| Leitura           | 1 (2h30)          | 4h   |\n",
    "\n",
    "* Carga horária total: 16h\n",
    "* Dificuldade Baixa\n",
    "\n",
    "## Temas\n",
    "\n",
    "1. Workshop 01: Repositórios de fontes online e a pesquisa digital\n",
    "2. Vídeo-aula: Organização: Zotero\n",
    "3. Workshop 02: Tratamento de texto com OCR\n",
    "4. Vídeo de apoio: TagTog\n",
    "5. Workshop 03: Análise de texto: Voyant tools\n"
   ]
  }
 ],
 "metadata": {
  "language_info": {
   "name": "python"
  }
 },
 "nbformat": 4,
 "nbformat_minor": 2
}
