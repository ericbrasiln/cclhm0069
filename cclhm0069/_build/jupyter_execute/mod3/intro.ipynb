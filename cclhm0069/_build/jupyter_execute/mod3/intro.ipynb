{
 "cells": [
  {
   "cell_type": "markdown",
   "metadata": {},
   "source": [
    "# 3. Algoritmos, Dataficação e Sociedade\n",
    "\n",
    "| Tipo de atividade     | Quantidade | CH   |\n",
    "| --------------------- | ---------- | ---- |\n",
    "| EV [Debates de texto] | 1 (2h)     | 2h   |\n",
    "| Leitura               | 1 (3h)     | 3h   |\n",
    "| AA                    | 1 (2h)     | 2h   |\n",
    "\n",
    "* Carga horária total: 7h\n",
    "* Dificuldade Baixa\n",
    "\n",
    "## Temas\n",
    "\n",
    "1. Algoritmos e dataficação da sociedade: desigualdade, racismo e violências\n",
    "2. Fazer história com vestígios digitais: por uma história social digital\n"
   ]
  }
 ],
 "metadata": {
  "language_info": {
   "name": "python"
  }
 },
 "nbformat": 4,
 "nbformat_minor": 2
}