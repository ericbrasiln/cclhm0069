{
 "cells": [
  {
   "cell_type": "markdown",
   "metadata": {},
   "source": [
    "# Semana 13\n",
    "\n",
    "**Período**: 24/01/2022 a 28/01/2022\n",
    "\n",
    "**CH**: 2h"
   ]
  },
  {
   "cell_type": "markdown",
   "metadata": {},
   "source": [
    "| Tipo          | [Atividade Assíncrona 6 (AA)](https://ericbrasiln.github.io/intro-historia-digital/mod4a/sem13.html#atividade-assíncrona-6-aa)|\n",
    "| ------------- | -------------------------------------------- |\n",
    "| Data e hora | 24/01/2022 a 28/01/2022 |\n",
    "| Carga Horária | 2h |\n",
    "| Descrição | Tutorial 03: Reveal.js |"
   ]
  }
 ],
 "metadata": {
  "language_info": {
   "name": "python"
  },
  "orig_nbformat": 4
 },
 "nbformat": 4,
 "nbformat_minor": 2
}
