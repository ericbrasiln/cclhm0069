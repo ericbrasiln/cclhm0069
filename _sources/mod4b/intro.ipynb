{
 "cells": [
  {
   "cell_type": "markdown",
   "metadata": {},
   "source": [
    "# 4b. Programação para História\n",
    "\n",
    "| Tipo de atividade  | Quantidade | CH   |\n",
    "| ------------------ | ---------- | ---- |\n",
    "| EV [*Live coding*] | 3 (2h30)   | 7h30  |\n",
    "| AA                 | 1 (2h30)     | 2h30   |\n",
    "\n",
    "* Carga horária total: 10h\n",
    "* Dificuldade: Alta\n",
    "\n",
    "## Temas\n",
    "\n",
    "1. Python do zero (parte 1 e 2)\n",
    "2. Salvar páginas web com Python + Wget\n",
    "3. Coletando dados do YouTube e Twitter"
   ]
  }
 ],
 "metadata": {
  "language_info": {
   "name": "python"
  },
  "orig_nbformat": 4
 },
 "nbformat": 4,
 "nbformat_minor": 2
}
