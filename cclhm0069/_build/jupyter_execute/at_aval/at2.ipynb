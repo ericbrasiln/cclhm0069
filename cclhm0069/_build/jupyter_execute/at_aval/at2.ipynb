{
 "cells": [
  {
   "cell_type": "markdown",
   "metadata": {},
   "source": [
    "# Atividade 2\n",
    "\n",
    "* **Tipo**: Resultado prático digital\n",
    "* **Pontuação**: 6,0 pontos.\n",
    "\n",
    "[Em breve o detalhamento da atividade estará disponível]"
   ]
  }
 ],
 "metadata": {
  "language_info": {
   "name": "python"
  }
 },
 "nbformat": 4,
 "nbformat_minor": 2
}