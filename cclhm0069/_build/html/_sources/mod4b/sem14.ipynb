{
 "cells": [
  {
   "cell_type": "markdown",
   "metadata": {},
   "source": [
    "# Semana 14\n",
    "\n",
    "## Módulo 4b: Programação para História\n",
    "\n",
    "**Período**: 24/01/2022 a 28/01/2022\n",
    "\n",
    "**CH**: 2h30"
   ]
  },
  {
   "cell_type": "markdown",
   "metadata": {},
   "source": [
    "## Live Coding 2 (AS)\n",
    "\n",
    "**Tema**: Python do Zero II\n",
    "\n",
    "**Data**: 02/02/2022, às 19h\n",
    "\n",
    "**CH**: 2h30\n",
    "\n",
    "**Plataforma**: `Google Meet` - link enviado por e-mail.\n",
    "\n",
    "```{Attention}\n",
    "[_Clique aqui para acessar a apresentação da aula_](https://ericbrasiln.github.io/intro-historia-digital/mod4b/sem13_ap.html).\n",
    "```"
   ]
  }
 ],
 "metadata": {
  "language_info": {
   "name": "python"
  }
 },
 "nbformat": 4,
 "nbformat_minor": 2
}
