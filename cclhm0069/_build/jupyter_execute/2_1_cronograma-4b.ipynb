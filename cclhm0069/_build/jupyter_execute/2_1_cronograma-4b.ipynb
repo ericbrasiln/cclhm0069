{
 "cells": [
  {
   "cell_type": "markdown",
   "metadata": {},
   "source": [
    "# Cronograma"
   ]
  },
  {
   "cell_type": "markdown",
   "metadata": {},
   "source": [
    "## Módulo 1: História na era digital: teoria, método e epistemologia"
   ]
  },
  {
   "cell_type": "markdown",
   "metadata": {},
   "source": [
    "\n",
    "### Semana 1\n",
    "\n",
    "**Período**: 11/10/2021 - 15/10/2021\n",
    "\n",
    "**CH** = 3h"
   ]
  },
  {
   "cell_type": "markdown",
   "metadata": {},
   "source": [
    "| Tipo          | [Atividade Assíncrona 1 (AA)](https://ericbrasiln.github.io/intro-historia-digital/mod1/sem1.html#atividade-assincrona-1)                                |[Tarefa 1 (AA)](https://ericbrasiln.github.io/intro-historia-digital/mod1/sem1.html#tarefa-1-participar-do-servidor-do-discord) |\n",
    "| ------------- | -------------------------------------------- |-------------------------------------------- |\n",
    "| Data e hora | 11/10/2021 - 15/10/2021                      |11/05/2021 a 15/05/2021 |\n",
    "| Carga Horária | 2h                                           | 1h |\n",
    "| Descrição | Assistir vídeo de introdução e preencher Formulário de apresentação | Participar do servidor do Discord |\n",
    "\n",
    "[**Link para a página da semana**](https://ericbrasiln.github.io/intro-historia-digital/mod1/sem1.html#semana-1)"
   ]
  },
  {
   "cell_type": "markdown",
   "metadata": {},
   "source": [
    "### Semana 2\n",
    "\n",
    "**Período**: 18/10/2021 a 22/10/2021\n",
    "\n",
    "**CH** = 5h"
   ]
  },
  {
   "cell_type": "markdown",
   "metadata": {},
   "source": [
    "| Tipo          | [Leitura 1 (AA)](https://ericbrasiln.github.io/intro-historia-digital/mod1/sem2.html#leitura-1)                                |[Atividade Assíncrona 2 (AA)](https://ericbrasiln.github.io/intro-historia-digital/mod1/sem2.html#atividade-assincrona-2) |\n",
    "| ------------- | -------------------------------------------- |-------------------------------------------- |\n",
    "| Data e hora         | 18/10/2021 - 22/10/2021                      |20/10/2021, às 17h15 |\n",
    "| Carga Horária | 3h                                           | 1h |\n",
    "| Descrição          | Leitura para o Encontro Virtual 1 | Sessão Especial - 7ª Semana de Pesquisadores da Biblioteca Nacional |\n",
    "\n",
    "[**Link para a página da semana**](https://ericbrasiln.github.io/intro-historia-digital/mod1/sem2.html#semana-2)"
   ]
  },
  {
   "cell_type": "markdown",
   "metadata": {},
   "source": [
    "### Semana 3\n",
    "\n",
    "**Período**: 25/10/2021 a 29/10/2021\n",
    "\n",
    "**CH**: 5h"
   ]
  },
  {
   "cell_type": "markdown",
   "metadata": {},
   "source": [
    "| Tipo          | [ Encontro Virtual 1 (AS)](https://ericbrasiln.github.io/intro-historia-digital/mod1/sem3.html#encontro-virtual-1-as) |[Leitura 2 (AA)](https://ericbrasiln.github.io/intro-historia-digital/mod1/sem3.html#leitura-2) |\n",
    "| ------------- | -------------------------------------------- |-------------------------------------------- |\n",
    "| Data e hora | 27/10/2021, 19h | 25/10/2021 a 29/10/2021 |\n",
    "| Carga Horária | 2h | 3h |\n",
    "| Descrição |  História e tecnologia | Leitura para o Encontro Virtual 2 |\n",
    "\n",
    "[**Link para a página da semana**](https://ericbrasiln.github.io/intro-historia-digital/mod1/sem3.html#semana-3)"
   ]
  },
  {
   "cell_type": "markdown",
   "metadata": {},
   "source": [
    "### Semana 4\n",
    "\n",
    "**Período**: 01/11/2021 a 05/11/2021\n",
    "\n",
    "**CH**: 4h"
   ]
  },
  {
   "cell_type": "markdown",
   "metadata": {},
   "source": [
    "| Tipo          | [Encontro Virtual 2 (AS)](https://ericbrasiln.github.io/intro-historia-digital/mod1/sem4.html#encontro-virtual-2-as)| Leitura 3 (AS)|\n",
    "| ------------- | -------------------------------------------- |-------------------------------------------- |\n",
    "| Data e hora | 03/11/2021, 19h | 01/11/2021 a 05/11/2021 |\n",
    "| Carga Horária | 2h | 2h |\n",
    "| Descrição | Passado, futuro e presente do digital na História: Fontes, métodos e análise | Leitura para o Encontro Virtual 3 |\n",
    "\n",
    "[**Link para a página da semana**](https://ericbrasiln.github.io/intro-historia-digital/mod1/sem4.html#semana-4)"
   ]
  },
  {
   "cell_type": "markdown",
   "metadata": {},
   "source": [
    "## Módulo 2. Ferramentas digitais e a pesquisa histórica"
   ]
  },
  {
   "cell_type": "markdown",
   "metadata": {},
   "source": [
    "### Semana 5\n",
    "\n",
    "**Período**: 08/11/2021 a 12/11/2021\n",
    "\n",
    "**CH**: 3h30"
   ]
  },
  {
   "cell_type": "markdown",
   "metadata": {},
   "source": [
    "| Tipo          | [Encontro Virtual 3 (AS)](https://ericbrasiln.github.io/intro-historia-digital/mod2/sem5.html#encontro-virtual-3-as)| Tarefa 2 (AS)|\n",
    "| ------------- | -------------------------------------------- |-------------------------------------------- |\n",
    "| Data e hora | 10/11/2021, 19h | 08/11/2021 a 12/11/2021 |\n",
    "| Carga Horária | 2h30 | 1h |\n",
    "| Descrição | Workshop 01: Repositórios de fontes online e a pesquisa digital | Levantamento bibliográfico / HDB |\n",
    "\n",
    "[**Link para a página da semana**](https://ericbrasiln.github.io/intro-historia-digital/mod2/sem5.html#semana-5)"
   ]
  },
  {
   "cell_type": "markdown",
   "metadata": {},
   "source": [
    "### Semana 6\n",
    "\n",
    "**Período**: 16/11/2021 a 19/11/2021\n",
    "\n",
    "**CH**: 3h30"
   ]
  },
  {
   "cell_type": "markdown",
   "metadata": {},
   "source": [
    "| Tipo          | [Atividade Assíncrona 3 (AA)](https://ericbrasiln.github.io/intro-historia-digital/mod2/sem6.html#atividade-assíncrona-3-aa)| Tarefa 3 (AS)|\n",
    "| ------------- | -------------------------------------------- |-------------------------------------------- |\n",
    "| Data e hora | 16/11/2021 a 19/11/2021 | 16/11/2021 a 19/11/2021 |\n",
    "| Carga Horária | 2h30 | 1h |\n",
    "| Descrição | Vídeo-aula de Zotero | Criar perfil e instalar o Zotero |\n",
    "\n",
    "[**Link para a página da semana**](https://ericbrasiln.github.io/intro-historia-digital/mod2/sem6.html#semana-6)"
   ]
  },
  {
   "cell_type": "markdown",
   "metadata": {},
   "source": [
    "### Semana 7\n",
    "\n",
    "**Período**: 22/11/2021 a 27/11/2021\n",
    "\n",
    "**CH**: 3h30"
   ]
  },
  {
   "cell_type": "markdown",
   "metadata": {},
   "source": [
    "| Tipo          | [Encontro Virtual 4 (AS)](https://ericbrasiln.github.io/intro-historia-digital/mod2/sem7.html#encontro-virtual-4-as)| Tarefa 4 (AS)|\n",
    "| ------------- | -------------------------------------------- |-------------------------------------------- |\n",
    "| Data e hora | 24/11/2021, às 19h | até 24/11/2021 |\n",
    "| Carga Horária | 2h30 | 1h |\n",
    "| Descrição | Workshop 02: Tratamento de texto com OCR | Instalar gImageReader |\n",
    "\n",
    "[**Link para a página da semana**](https://ericbrasiln.github.io/intro-historia-digital/mod2/sem7.html#semana-7)"
   ]
  },
  {
   "cell_type": "markdown",
   "metadata": {},
   "source": [
    "### Semana 8\n",
    "\n",
    "**Período**: 29/11/2021 a 03/12/2021\n",
    "\n",
    "**CH**: 4h30"
   ]
  },
  {
   "cell_type": "markdown",
   "metadata": {},
   "source": [
    "| Tipo          | [Atividade Assíncrona 4 (AS)](https://ericbrasiln.github.io/intro-historia-digital/mod2/sem8.html#encontro-virtual-5-as)|\n",
    "| ------------- | -------------------------------------------- |\n",
    "| Data e hora | 29/11/2021 a 03/12/2021 |\n",
    "| Carga Horária | 2h30 |\n",
    "| Descrição | Vídeo de apoio: Workshop de TagTog |\n",
    "\n",
    "[**Link para a página da semana**](https://ericbrasiln.github.io/intro-historia-digital/mod2/sem8.html#semana-8)"
   ]
  },
  {
   "cell_type": "markdown",
   "metadata": {},
   "source": [
    "### Semana 9\n",
    "\n",
    "**Período**: 06/12/2021 a 10/12/2021\n",
    "\n",
    "**CH**: 4h"
   ]
  },
  {
   "cell_type": "markdown",
   "metadata": {},
   "source": [
    "| Tipo          | [Encontro Virtual 5 (AS)](https://ericbrasiln.github.io/intro-historia-digital/mod2/sem8.html#encontro-virtual-5-as)| Leitura 4 (AS)|\n",
    "| ------------- | -------------------------------------------- |-------------------------------------------- |\n",
    "| Data e hora | 08/12/2021, às 19h | 06/12/2021 a 10/12/2021 |\n",
    "| Carga Horária | 2h30 | 2h30 |\n",
    "| Descrição | Workshop: Análise de texto com Voyant Tools | Leitura para o Encontro Virtual 6 |\n",
    "\n",
    "[**Link para a página da semana**](https://ericbrasiln.github.io/intro-historia-digital/mod2/sem9.html#semana-9)"
   ]
  },
  {
   "cell_type": "markdown",
   "metadata": {},
   "source": [
    "## Módulo 3. Algoritmos, Dataficação e Sociedade"
   ]
  },
  {
   "cell_type": "markdown",
   "metadata": {},
   "source": [
    "### Semana 10\n",
    "\n",
    "**Período**: 13/12/2021 a 17/12/2021\n",
    "\n",
    "**CH**: 2h"
   ]
  },
  {
   "cell_type": "markdown",
   "metadata": {},
   "source": [
    "| Tipo          | [Encontro Virtual 6 (AS)](https://ericbrasiln.github.io/intro-historia-digital/mod3/sem9.html#encontro-virtual-6-as)| Tarefa 5 (AS)  |\n",
    "| ------------- | -------------------------------------------- | -------------------------------------------- |\n",
    "| Data e hora | 15/12/2021, às 19h | 13/12/2021 a 17/12/2021 |\n",
    "| Carga Horária | 2h | 2h |\n",
    "| Descrição | Algoritmos, dataficação da sociedade e o ofício de Historiadores/as: desigualdade, racismo e violências - Debate de textos | Vídeo de apoio: Mesa redonda sobre Racismo Algoritmico [Link](https://youtu.be/F4CBYFLBUng) |\n",
    "\n",
    "[**Link para a página da semana**](https://ericbrasiln.github.io/intro-historia-digital/mod3/sem10.html#semana-10)"
   ]
  },
  {
   "cell_type": "markdown",
   "metadata": {},
   "source": [
    "Percursos Possíveis\n",
    "\n",
    "````{panels}\n",
    "4b. Programação para História\n",
    "\n",
    "---\n",
    "\n",
    "```{link-button} 2_1_cronograma-4a\n",
    ":text: 4a. Ferramentas digitais e o ensino de história\n",
    ":type: ref\n",
    ":classes: stretched-link, btn-outline-primary btn-block\n",
    "```\n",
    "\n",
    "````"
   ]
  },
  {
   "cell_type": "markdown",
   "metadata": {},
   "source": [
    "## Módulo 4b. Programação para História"
   ]
  },
  {
   "cell_type": "markdown",
   "metadata": {},
   "source": [
    "### Semana 11\n",
    "\n",
    "**Período**: 10/01/2022 a 14/01/2022\n",
    "\n",
    "**CH**: 2h"
   ]
  },
  {
   "cell_type": "markdown",
   "metadata": {},
   "source": [
    "| Tipo          | [Atividade Assíncrona 5 (AA)](https://ericbrasiln.github.io/intro-historia-digital/mod4b/sem11.html#atividade-assíncrona-5-aa)|\n",
    "| ------------- | -------------------------------------------- |\n",
    "| Data e hora | 10/01/2022 a 14/01/2022 |\n",
    "| Carga Horária | 2h |\n",
    "| Descrição | Vídeos de apoio e tutoriais de Python e preparação do ambiente para as aulas seguintes. |\n",
    "\n",
    "[**Link para a página da semana**](https://ericbrasiln.github.io/intro-historia-digital/mod4b/sem11.html#semana-11)"
   ]
  },
  {
   "cell_type": "markdown",
   "metadata": {},
   "source": [
    "### Semana 12\n",
    "\n",
    "**Período**: 17/01/2022 a 21/01/2022\n",
    "\n",
    "**CH**: 2h30"
   ]
  },
  {
   "cell_type": "markdown",
   "metadata": {},
   "source": [
    "| Tipo          | [Live Coding 1 (AS)](https://ericbrasiln.github.io/intro-historia-digital/mod4b/sem12.html#live-coding-1-as)|\n",
    "| ------------- | -------------------------------------------- |\n",
    "| Data e hora | 19/01/2022, às 19h |\n",
    "| Carga Horária | 2h30 |\n",
    "| Descrição | Python do Zero I |\n",
    "\n",
    "[**Link para a página da semana**](https://ericbrasiln.github.io/intro-historia-digital/mod4b/sem12.html#semana-12)"
   ]
  },
  {
   "cell_type": "markdown",
   "metadata": {},
   "source": [
    "### Semana 13\n",
    "\n",
    "**Período**: 24/01/2022 a 28/01/2022\n",
    "\n",
    "**CH**: 2h30"
   ]
  },
  {
   "cell_type": "markdown",
   "metadata": {},
   "source": [
    "| Tipo          | [Live Coding 2 (AS)](https://ericbrasiln.github.io/intro-historia-digital/mod4b/sem12.html#live-coding-2-as)|\n",
    "| ------------- | -------------------------------------------- |\n",
    "| Data e hora | 26/01/2022, às 19h |\n",
    "| Carga Horária | 2h30 |\n",
    "| Descrição | Python do Zero II |\n",
    "\n",
    "[**Link para a página da semana**](https://ericbrasiln.github.io/intro-historia-digital/mod4b/sem13.html#semana-13)"
   ]
  },
  {
   "cell_type": "markdown",
   "metadata": {},
   "source": [
    "### Semana 14\n",
    "\n",
    "**Período**: 31/01/2022 a 04/02/2022\n",
    "\n",
    "**CH**: 2h"
   ]
  },
  {
   "cell_type": "markdown",
   "metadata": {},
   "source": [
    "| Tipo          | [Live Coding 3 (AS)](https://ericbrasiln.github.io/intro-historia-digital/mod4b/sem14.html#live-coding-3-as)|\n",
    "| ------------- | -------------------------------------------- |\n",
    "| Data e hora | 02/02/2022, às 19h |\n",
    "| Carga Horária | 2h30 |\n",
    "| Descrição | Coleta de dados com Python: WGET, youtubedl e twitter-scrapper|\n",
    "\n",
    "[**Link para a página da semana**](https://ericbrasiln.github.io/intro-historia-digital/mod4b/sem14.html#semana-14)"
   ]
  },
  {
   "cell_type": "markdown",
   "metadata": {},
   "source": [
    "### Semana 15\n",
    "\n",
    "**Período**: 07/02/2022 a 11/02/2022\n",
    "\n",
    "**CH**: 2h"
   ]
  },
  {
   "cell_type": "markdown",
   "metadata": {},
   "source": [
    "| Tipo          | [Encontro Virtual 7 (AS)](https://ericbrasiln.github.io/intro-historia-digital/mod4a/sem15.html#encontro-virtual-7-as)| Encerramento do curso |\n",
    "| ------------- | -------------------------------------------- |---------------------------- |\n",
    "| Data e hora | 04/02/2022 | 04/02/2022 |\n",
    "| Carga Horária | 1h20 | 40min |\n",
    "| Descrição | Workshop: Podcast para o ensino de história - convidado Victor Martins| Momento para encerrar o curso e avaliar seus resultados e sugerir mudanças coletivamente.|\n",
    "\n",
    "[**Link para a página da semana**](https://ericbrasiln.github.io/intro-historia-digital/mod4a/sem15.html#semana-15)"
   ]
  }
 ],
 "metadata": {
  "interpreter": {
   "hash": "916dbcbb3f70747c44a77c7bcd40155683ae19c65e1c03b4aa3499c5328201f1"
  },
  "kernelspec": {
   "display_name": "Python 3.9.5 64-bit",
   "name": "python3"
  },
  "language_info": {
   "codemirror_mode": {
    "name": "ipython",
    "version": 3
   },
   "file_extension": ".py",
   "mimetype": "text/x-python",
   "name": "python",
   "nbconvert_exporter": "python",
   "pygments_lexer": "ipython3",
   "version": "3.9.5"
  }
 },
 "nbformat": 4,
 "nbformat_minor": 4
}