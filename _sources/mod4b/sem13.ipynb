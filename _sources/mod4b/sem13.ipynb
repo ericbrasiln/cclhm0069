{
 "cells": [
  {
   "cell_type": "markdown",
   "metadata": {},
   "source": [
    "# Semana 13\n",
    "\n",
    "**Período**: 31/01/2022 a 04/02/2022\n",
    "\n",
    "**CH**: 2h"
   ]
  },
  {
   "cell_type": "markdown",
   "metadata": {},
   "source": [
    "| Tipo          | [Atividade Assíncrona 4 (AA)](https://ericbrasiln.github.io/intro-historia-digital/mod4b/sem13.html#atividade-assíncrona-6-aa)|\n",
    "| ------------- | -------------------------------------------- |\n",
    "| Data e hora | 31/01/2022 a 04/02/2022 |\n",
    "| Carga Horária | 2h |\n",
    "| Descrição | Exercícios de Python |"
   ]
  }
 ],
 "metadata": {
  "language_info": {
   "name": "python"
  }
 },
 "nbformat": 4,
 "nbformat_minor": 2
}
