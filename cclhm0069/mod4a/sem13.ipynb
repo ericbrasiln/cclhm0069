{
 "cells": [
  {
   "cell_type": "markdown",
   "metadata": {},
   "source": [
    "# Semana 13\n",
    "\n",
    "## Módulo 4a: Ferramentas digitais e o ensino de história\n",
    "\n",
    "**Período**: 24/01/2022 a 28/01/2022\n",
    "\n",
    "**CH**: 2h"
   ]
  },
  {
   "cell_type": "markdown",
   "metadata": {},
   "source": [
    "### Atividade Assíncrona 7 (AA)\n",
    "\n",
    "Tutorial 03: **Construindo apresentações interativas com Reveal.js**\n",
    "\n",
    "> EM BREVE O TUTORIAL ESTARÁ DISPONÍVEL AQUI"
   ]
  }
 ],
 "metadata": {
  "interpreter": {
   "hash": "916dbcbb3f70747c44a77c7bcd40155683ae19c65e1c03b4aa3499c5328201f1"
  },
  "kernelspec": {
   "display_name": "Python 3.9.5 64-bit",
   "language": "python",
   "name": "python3"
  },
  "language_info": {
   "name": "python",
   "version": "3.9.5"
  }
 },
 "nbformat": 4,
 "nbformat_minor": 2
}
