{
 "cells": [
  {
   "cell_type": "markdown",
   "metadata": {},
   "source": [
    "# Semana 8\n",
    "\n",
    "**Período**: 29/11/2021 a 03/12/2021\n",
    "\n",
    "**CH**: 4h30"
   ]
  },
  {
   "cell_type": "markdown",
   "metadata": {},
   "source": [
    "| Tipo          | [Encontro Virtual 5 (AS)](https://ericbrasiln.github.io/intro-historia-digital/mod2/sem8.html#encontro-virtual-5-as)| Leitura 4 (AS)|\n",
    "| ------------- | -------------------------------------------- |-------------------------------------------- |\n",
    "| Data e hora | 01/12/2021, às 19h | 29/11/2021 a 03/12/2021 |\n",
    "| Carga Horária | 2h30 | 2h |\n",
    "| Descrição | Análise de texto: Voyant tools e TagTog | Leitura para o Encontro Virtual 6 |"
   ]
  }
 ],
 "metadata": {
  "language_info": {
   "name": "python"
  },
  "orig_nbformat": 4
 },
 "nbformat": 4,
 "nbformat_minor": 2
}
