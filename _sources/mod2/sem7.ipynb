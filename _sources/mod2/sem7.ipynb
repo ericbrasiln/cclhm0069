{
 "cells": [
  {
   "cell_type": "markdown",
   "metadata": {},
   "source": [
    "# Semana 7\n",
    "\n",
    "**Período**: 22/11/2021 a 27/11/2021\n",
    "\n",
    "**CH**: 3h30"
   ]
  },
  {
   "cell_type": "markdown",
   "metadata": {},
   "source": [
    "## Encontro Virtual 4 (AS)\n",
    "\n",
    "**Tema**: Tratamento de texto com OCR\n",
    "\n",
    "**Data**:24/11/2021\n",
    "\n",
    "**CH**: 2h30min\n",
    "\n",
    "**Plataforma**: `Google Meet` - link enviado por e-mail.\n",
    "\n",
    "```{Attention}\n",
    "[_Clique aqui para acessar a apresentação da aula_](https://ericbrasiln.github.io/intro-historia-digital/mod2/sem7_ap.html).\n",
    "```"
   ]
  },
  {
   "cell_type": "markdown",
   "metadata": {},
   "source": [
    "## Tarefa 4 (AS)\n",
    "\n",
    "**Data**: até 24/11/2021\n",
    "\n",
    "1. Assistar o tutorial de instalação do gImageReader;\n",
    "2. Instalar o programa no computador."
   ]
  }
 ],
 "metadata": {
  "language_info": {
   "name": "python"
  }
 },
 "nbformat": 4,
 "nbformat_minor": 2
}
