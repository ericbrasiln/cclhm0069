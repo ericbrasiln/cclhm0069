{
 "cells": [
  {
   "cell_type": "markdown",
   "metadata": {},
   "source": [
    "# Semana 8\n",
    "\n",
    "**Período**: 29/11/2021 a 03/12/2021\n",
    "\n",
    "**CH**: 2h30"
   ]
  },
  {
   "cell_type": "markdown",
   "metadata": {},
   "source": [
    "## Atividade Assíncrona 4 (AS)\n",
    "\n",
    "**Tema**: Vídeo de apoio: Workshop de TagTog\n",
    "\n",
    "**Data**: 29/11/2021 a 03/12/2021\n",
    "\n",
    "**CH**: 2h30min\n",
    "\n",
    "**Plataforma**: `YouTube`. Link: [https://youtu.be/KiabBiM9JLY](https://youtu.be/KiabBiM9JLY)\n"
   ]
  },
  {
   "cell_type": "markdown",
   "metadata": {},
   "source": [
    "<iframe width=\"560\" height=\"315\" src=\"https://www.youtube.com/embed/KiabBiM9JLY\" title=\"YouTube video player\" frameborder=\"0\" allow=\"accelerometer; autoplay; clipboard-write; encrypted-media; gyroscope; picture-in-picture\" allowfullscreen></iframe>"
   ]
  }
 ],
 "metadata": {
  "language_info": {
   "name": "python"
  }
 },
 "nbformat": 4,
 "nbformat_minor": 2
}